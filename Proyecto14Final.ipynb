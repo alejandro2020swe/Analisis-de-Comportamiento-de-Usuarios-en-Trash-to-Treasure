{
 "cells": [
  {
   "cell_type": "markdown",
   "metadata": {},
   "source": [
    "# Hola &#x1F600;\n",
    "\n",
    "Soy **Hesus Garcia**, revisor de código de Triple Ten, y voy a examinar el proyecto que has desarrollado recientemente. Si encuentro algún error, te lo señalaré para que lo corrijas, ya que mi objetivo es ayudarte a prepararte para un ambiente de trabajo real, donde el líder de tu equipo actuaría de la misma manera. Si no puedes solucionar el problema, te proporcionaré más información en la próxima oportunidad. Cuando encuentres un comentario,  **por favor, no los muevas, no los modifiques ni los borres**. \n",
    "\n",
    "Revisaré cuidadosamente todas las implementaciones que has realizado para cumplir con los requisitos y te proporcionaré mis comentarios de la siguiente manera:\n",
    "\n",
    "\n",
    "<div class=\"alert alert-block alert-success\">\n",
    "<b>Comentario del revisor</b> <a class=“tocSkip”></a>\n",
    "Si todo está perfecto.\n",
    "</div>\n",
    "\n",
    "<div class=\"alert alert-block alert-warning\">\n",
    "<b>Comentario del revisor</b> <a class=“tocSkip”></a>\n",
    "Si tu código está bien pero se puede mejorar o hay algún detalle que le hace falta.\n",
    "</div>\n",
    "\n",
    "<div class=\"alert alert-block alert-danger\">\n",
    "<b>Comentario del revisor</b> <a class=“tocSkip”></a>\n",
    "Si de pronto hace falta algo o existe algún problema con tu código o conclusiones.\n",
    "</div>\n",
    "\n",
    "Puedes responderme de esta forma:\n",
    "<div class=\"alert alert-block alert-info\">\n",
    "<b>Respuesta del estudiante</b> <a class=“tocSkip”></a>\n",
    "</div>\n",
    "\n",
    "</br>\n",
    "\n",
    "**¡Empecemos!**  &#x1F680;\n"
   ]
  },
  {
   "cell_type": "markdown",
   "metadata": {},
   "source": [
    "# Descomposición del Proyecto :  Análisis de Comportamiento de Usuarios en Trash to Treasure\n",
    "\n",
    "\n",
    "## Definir el Objetivo\n",
    "\n",
    "**Objetivo:** Analizar el comportamiento de los usuarios en la aplicación móvil Trash to Treasure para identificar patrones y determinar qué usuarios podrían abandonar la aplicación.\n",
    "\n",
    "A continuacion el plan de accion :\n",
    "\n",
    "##  Plan de Acción\n",
    "\n",
    "1. **Carga de Datos e Importacion de librerias** \n",
    "    - importar librerias\n",
    "    - carga de datasets \n",
    "\n",
    "\n",
    "2. **Preprocesamiento de Datos:**\n",
    "   - Estudiar valores ausentes.\n",
    "   - Estudiar el tipo de correspondencia.\n",
    "   - Estudiar valores duplicados.\n",
    "   - Comprobar la exactitud de los nombres de columnas.\n",
    "   - Renombrar las columnas(todo en minisculas y con el conector _).\n",
    "   - Eliminar duplicados.\n",
    "   - Convertir tipos.\n",
    "   - Reemplazar valores ausentes.\n",
    "   - Fusionar los datasets en funcion del user_id\n",
    "\n",
    "3. **Análisis Exploratorio de Datos (EDA):**\n",
    "\n",
    "   - Visualizar la distribución de los eventos.\n",
    "   - Analizar la frecuencia de los eventos por usuario.\n",
    "   - Analizar el tiempo dedicado a la aplicación por usuario.\n",
    "   - Calcular la tasa de retención de usuarios.\n",
    "   - Identificar patrones en la conversión de `contacts_show`.\n",
    "   \n",
    "3. **Segmentación de Usuarios:**\n",
    "    - Utilizar técnicas de clustering ( k-means ) para segmentar a los usuarios en función de los eventos que completan.\n",
    "   - Evaluar la calidad de los clusters obtenidos.\n",
    "   - Asignar etiquetas a los segmentos de usuarios.\n",
    "\n",
    "4. **Análisis de Métricas del Producto:**\n",
    "   - Calcular y comparar la tasa de retención entre los segmentos.\n",
    "   - Calcular y comparar el tiempo dedicado a la aplicación entre los segmentos.\n",
    "   - Calcular y comparar la frecuencia de ocurrencia de eventos entre los segmentos.\n",
    "   - Calcular y comparar la conversión en `contacts_show` entre los segmentos.\n",
    "\n",
    "5. **Prueba de Hipótesis Estadísticas:**\n",
    "   - **Hipótesis sobre la conversión en `contacts_show` entre `bing` y `google`:**\n",
    "     - Formular la hipótesis nula y alternativa.\n",
    "     - Realizar la prueba estadística adecuada.\n",
    "   \n",
    "   - **Otra hipótesis estadística:**\n",
    "     - Formular una hipótesis basada en un patrón observado en los datos.\n",
    "     - Realizar la prueba estadística adecuada para validar la hipótesis.\n",
    "\n",
    "6. **Conclusiones y Recomendaciones:**\n",
    "   - Resumir los hallazgos principales del análisis.\n",
    "   - Proporcionar recomendaciones para la estrategia de retención y optimización del producto.\n",
    "   - Sugerir acciones basadas en los segmentos de usuarios identificados.\n",
    "   \n",
    "   ### Descripción de los Datos\n",
    "\n",
    "Este proyecto utilizará dos datasets principales:\n",
    "\n",
    "1. **Eventos de la Aplicación (`mobile_dataset_us.csv`)**:\n",
    "   - `event.time`: Fecha y hora del evento.\n",
    "   - `event.name`: Tipo de evento (e.g., `advert_open`, `photos_show`, `contacts_show`).\n",
    "   - `user.id`: Identificador único del usuario.\n",
    "\n",
    "2. **Fuentes de Descarga (`mobile_sources_us.csv`)**:\n",
    "   - `userId`: Identificador único del usuario.\n",
    "   - `source`: Fuente desde la cual el usuario descargó la aplicación (e.g., Google, Bing, otros)."
   ]
  },
  {
   "cell_type": "markdown",
   "metadata": {},
   "source": [
    "### Enlace a presentación \n"
   ]
  },
  {
   "cell_type": "markdown",
   "metadata": {},
   "source": [
    "## Carga de Datos e Importacion de librerias"
   ]
  },
  {
   "cell_type": "code",
   "execution_count": 1,
   "metadata": {},
   "outputs": [],
   "source": [
    "import pandas as pd\n",
    "import numpy as np\n",
    "import matplotlib.pyplot as plt\n",
    "import seaborn as sns\n",
    "\n",
    "\n",
    "from sklearn.cluster import KMeans\n",
    "from sklearn.preprocessing import StandardScaler\n",
    "from sklearn.decomposition import PCA\n",
    "from sklearn.metrics import silhouette_score\n",
    "\n",
    "\n",
    "import scipy.stats as stats\n",
    "from scipy.stats import ttest_ind\n",
    "from statsmodels.stats.proportion import proportions_ztest"
   ]
  },
  {
   "cell_type": "code",
   "execution_count": 2,
   "metadata": {},
   "outputs": [],
   "source": [
    "events=pd.read_csv('/datasets/mobile_dataset_us.csv')\n",
    "sources=pd.read_csv('/datasets/mobile_sources_us.csv')"
   ]
  },
  {
   "cell_type": "markdown",
   "metadata": {},
   "source": [
    "<div class=\"alert alert-block alert-success\">\n",
    "<b>Comentario del revisor</b> <a class=\"tocSkip\"></a>\n",
    "Excelente trabajo en la importación de las librerías necesarias y la carga de los datasets. Has incluido todas las librerías relevantes para el análisis de datos, visualización y modelado.\n",
    "</div>"
   ]
  },
  {
   "cell_type": "markdown",
   "metadata": {},
   "source": [
    "## Preprocesamiento de Datos:"
   ]
  },
  {
   "cell_type": "markdown",
   "metadata": {},
   "source": [
    "###  Data events"
   ]
  },
  {
   "cell_type": "code",
   "execution_count": 3,
   "metadata": {},
   "outputs": [
    {
     "data": {
      "text/html": [
       "<div>\n",
       "<style scoped>\n",
       "    .dataframe tbody tr th:only-of-type {\n",
       "        vertical-align: middle;\n",
       "    }\n",
       "\n",
       "    .dataframe tbody tr th {\n",
       "        vertical-align: top;\n",
       "    }\n",
       "\n",
       "    .dataframe thead th {\n",
       "        text-align: right;\n",
       "    }\n",
       "</style>\n",
       "<table border=\"1\" class=\"dataframe\">\n",
       "  <thead>\n",
       "    <tr style=\"text-align: right;\">\n",
       "      <th></th>\n",
       "      <th>event.time</th>\n",
       "      <th>event.name</th>\n",
       "      <th>user.id</th>\n",
       "    </tr>\n",
       "  </thead>\n",
       "  <tbody>\n",
       "    <tr>\n",
       "      <th>0</th>\n",
       "      <td>2019-10-07 00:00:00.431357</td>\n",
       "      <td>advert_open</td>\n",
       "      <td>020292ab-89bc-4156-9acf-68bc2783f894</td>\n",
       "    </tr>\n",
       "    <tr>\n",
       "      <th>1</th>\n",
       "      <td>2019-10-07 00:00:01.236320</td>\n",
       "      <td>tips_show</td>\n",
       "      <td>020292ab-89bc-4156-9acf-68bc2783f894</td>\n",
       "    </tr>\n",
       "    <tr>\n",
       "      <th>2</th>\n",
       "      <td>2019-10-07 00:00:02.245341</td>\n",
       "      <td>tips_show</td>\n",
       "      <td>cf7eda61-9349-469f-ac27-e5b6f5ec475c</td>\n",
       "    </tr>\n",
       "    <tr>\n",
       "      <th>3</th>\n",
       "      <td>2019-10-07 00:00:07.039334</td>\n",
       "      <td>tips_show</td>\n",
       "      <td>020292ab-89bc-4156-9acf-68bc2783f894</td>\n",
       "    </tr>\n",
       "    <tr>\n",
       "      <th>4</th>\n",
       "      <td>2019-10-07 00:00:56.319813</td>\n",
       "      <td>advert_open</td>\n",
       "      <td>cf7eda61-9349-469f-ac27-e5b6f5ec475c</td>\n",
       "    </tr>\n",
       "  </tbody>\n",
       "</table>\n",
       "</div>"
      ],
      "text/plain": [
       "                   event.time   event.name  \\\n",
       "0  2019-10-07 00:00:00.431357  advert_open   \n",
       "1  2019-10-07 00:00:01.236320    tips_show   \n",
       "2  2019-10-07 00:00:02.245341    tips_show   \n",
       "3  2019-10-07 00:00:07.039334    tips_show   \n",
       "4  2019-10-07 00:00:56.319813  advert_open   \n",
       "\n",
       "                                user.id  \n",
       "0  020292ab-89bc-4156-9acf-68bc2783f894  \n",
       "1  020292ab-89bc-4156-9acf-68bc2783f894  \n",
       "2  cf7eda61-9349-469f-ac27-e5b6f5ec475c  \n",
       "3  020292ab-89bc-4156-9acf-68bc2783f894  \n",
       "4  cf7eda61-9349-469f-ac27-e5b6f5ec475c  "
      ]
     },
     "execution_count": 3,
     "metadata": {},
     "output_type": "execute_result"
    }
   ],
   "source": [
    "events.head()"
   ]
  },
  {
   "cell_type": "code",
   "execution_count": 4,
   "metadata": {},
   "outputs": [
    {
     "name": "stdout",
     "output_type": "stream",
     "text": [
      "<class 'pandas.core.frame.DataFrame'>\n",
      "RangeIndex: 74197 entries, 0 to 74196\n",
      "Data columns (total 3 columns):\n",
      " #   Column      Non-Null Count  Dtype \n",
      "---  ------      --------------  ----- \n",
      " 0   event.time  74197 non-null  object\n",
      " 1   event.name  74197 non-null  object\n",
      " 2   user.id     74197 non-null  object\n",
      "dtypes: object(3)\n",
      "memory usage: 1.7+ MB\n"
     ]
    }
   ],
   "source": [
    "events.info()"
   ]
  },
  {
   "cell_type": "code",
   "execution_count": 5,
   "metadata": {},
   "outputs": [
    {
     "data": {
      "text/plain": [
       "event.time    0\n",
       "event.name    0\n",
       "user.id       0\n",
       "dtype: int64"
      ]
     },
     "execution_count": 5,
     "metadata": {},
     "output_type": "execute_result"
    }
   ],
   "source": [
    "events.isna().sum()"
   ]
  },
  {
   "cell_type": "code",
   "execution_count": 6,
   "metadata": {},
   "outputs": [
    {
     "data": {
      "text/plain": [
       "0"
      ]
     },
     "execution_count": 6,
     "metadata": {},
     "output_type": "execute_result"
    }
   ],
   "source": [
    "events.duplicated().sum()"
   ]
  },
  {
   "cell_type": "code",
   "execution_count": 7,
   "metadata": {},
   "outputs": [],
   "source": [
    "events.columns=['event_time', 'event_name', 'user_id']"
   ]
  },
  {
   "cell_type": "code",
   "execution_count": 8,
   "metadata": {},
   "outputs": [
    {
     "data": {
      "text/html": [
       "<div>\n",
       "<style scoped>\n",
       "    .dataframe tbody tr th:only-of-type {\n",
       "        vertical-align: middle;\n",
       "    }\n",
       "\n",
       "    .dataframe tbody tr th {\n",
       "        vertical-align: top;\n",
       "    }\n",
       "\n",
       "    .dataframe thead th {\n",
       "        text-align: right;\n",
       "    }\n",
       "</style>\n",
       "<table border=\"1\" class=\"dataframe\">\n",
       "  <thead>\n",
       "    <tr style=\"text-align: right;\">\n",
       "      <th></th>\n",
       "      <th>event_time</th>\n",
       "      <th>event_name</th>\n",
       "      <th>user_id</th>\n",
       "    </tr>\n",
       "  </thead>\n",
       "  <tbody>\n",
       "    <tr>\n",
       "      <th>0</th>\n",
       "      <td>2019-10-07 00:00:00.431357</td>\n",
       "      <td>advert_open</td>\n",
       "      <td>020292ab-89bc-4156-9acf-68bc2783f894</td>\n",
       "    </tr>\n",
       "    <tr>\n",
       "      <th>1</th>\n",
       "      <td>2019-10-07 00:00:01.236320</td>\n",
       "      <td>tips_show</td>\n",
       "      <td>020292ab-89bc-4156-9acf-68bc2783f894</td>\n",
       "    </tr>\n",
       "    <tr>\n",
       "      <th>2</th>\n",
       "      <td>2019-10-07 00:00:02.245341</td>\n",
       "      <td>tips_show</td>\n",
       "      <td>cf7eda61-9349-469f-ac27-e5b6f5ec475c</td>\n",
       "    </tr>\n",
       "    <tr>\n",
       "      <th>3</th>\n",
       "      <td>2019-10-07 00:00:07.039334</td>\n",
       "      <td>tips_show</td>\n",
       "      <td>020292ab-89bc-4156-9acf-68bc2783f894</td>\n",
       "    </tr>\n",
       "    <tr>\n",
       "      <th>4</th>\n",
       "      <td>2019-10-07 00:00:56.319813</td>\n",
       "      <td>advert_open</td>\n",
       "      <td>cf7eda61-9349-469f-ac27-e5b6f5ec475c</td>\n",
       "    </tr>\n",
       "  </tbody>\n",
       "</table>\n",
       "</div>"
      ],
      "text/plain": [
       "                   event_time   event_name  \\\n",
       "0  2019-10-07 00:00:00.431357  advert_open   \n",
       "1  2019-10-07 00:00:01.236320    tips_show   \n",
       "2  2019-10-07 00:00:02.245341    tips_show   \n",
       "3  2019-10-07 00:00:07.039334    tips_show   \n",
       "4  2019-10-07 00:00:56.319813  advert_open   \n",
       "\n",
       "                                user_id  \n",
       "0  020292ab-89bc-4156-9acf-68bc2783f894  \n",
       "1  020292ab-89bc-4156-9acf-68bc2783f894  \n",
       "2  cf7eda61-9349-469f-ac27-e5b6f5ec475c  \n",
       "3  020292ab-89bc-4156-9acf-68bc2783f894  \n",
       "4  cf7eda61-9349-469f-ac27-e5b6f5ec475c  "
      ]
     },
     "execution_count": 8,
     "metadata": {},
     "output_type": "execute_result"
    }
   ],
   "source": [
    "events.head()"
   ]
  },
  {
   "cell_type": "code",
   "execution_count": 9,
   "metadata": {},
   "outputs": [],
   "source": [
    "events['event_time']=pd.to_datetime(events['event_time'])"
   ]
  },
  {
   "cell_type": "code",
   "execution_count": 10,
   "metadata": {},
   "outputs": [
    {
     "name": "stdout",
     "output_type": "stream",
     "text": [
      "<class 'pandas.core.frame.DataFrame'>\n",
      "RangeIndex: 74197 entries, 0 to 74196\n",
      "Data columns (total 3 columns):\n",
      " #   Column      Non-Null Count  Dtype         \n",
      "---  ------      --------------  -----         \n",
      " 0   event_time  74197 non-null  datetime64[ns]\n",
      " 1   event_name  74197 non-null  object        \n",
      " 2   user_id     74197 non-null  object        \n",
      "dtypes: datetime64[ns](1), object(2)\n",
      "memory usage: 1.7+ MB\n"
     ]
    }
   ],
   "source": [
    "events.info()"
   ]
  },
  {
   "cell_type": "code",
   "execution_count": 11,
   "metadata": {},
   "outputs": [
    {
     "data": {
      "text/html": [
       "<div>\n",
       "<style scoped>\n",
       "    .dataframe tbody tr th:only-of-type {\n",
       "        vertical-align: middle;\n",
       "    }\n",
       "\n",
       "    .dataframe tbody tr th {\n",
       "        vertical-align: top;\n",
       "    }\n",
       "\n",
       "    .dataframe thead th {\n",
       "        text-align: right;\n",
       "    }\n",
       "</style>\n",
       "<table border=\"1\" class=\"dataframe\">\n",
       "  <thead>\n",
       "    <tr style=\"text-align: right;\">\n",
       "      <th></th>\n",
       "      <th>event_time</th>\n",
       "      <th>event_name</th>\n",
       "      <th>user_id</th>\n",
       "    </tr>\n",
       "  </thead>\n",
       "  <tbody>\n",
       "    <tr>\n",
       "      <th>0</th>\n",
       "      <td>2019-10-07 00:00:00.431357</td>\n",
       "      <td>advert_open</td>\n",
       "      <td>020292ab-89bc-4156-9acf-68bc2783f894</td>\n",
       "    </tr>\n",
       "    <tr>\n",
       "      <th>1</th>\n",
       "      <td>2019-10-07 00:00:01.236320</td>\n",
       "      <td>tips_show</td>\n",
       "      <td>020292ab-89bc-4156-9acf-68bc2783f894</td>\n",
       "    </tr>\n",
       "    <tr>\n",
       "      <th>2</th>\n",
       "      <td>2019-10-07 00:00:02.245341</td>\n",
       "      <td>tips_show</td>\n",
       "      <td>cf7eda61-9349-469f-ac27-e5b6f5ec475c</td>\n",
       "    </tr>\n",
       "    <tr>\n",
       "      <th>3</th>\n",
       "      <td>2019-10-07 00:00:07.039334</td>\n",
       "      <td>tips_show</td>\n",
       "      <td>020292ab-89bc-4156-9acf-68bc2783f894</td>\n",
       "    </tr>\n",
       "    <tr>\n",
       "      <th>4</th>\n",
       "      <td>2019-10-07 00:00:56.319813</td>\n",
       "      <td>advert_open</td>\n",
       "      <td>cf7eda61-9349-469f-ac27-e5b6f5ec475c</td>\n",
       "    </tr>\n",
       "  </tbody>\n",
       "</table>\n",
       "</div>"
      ],
      "text/plain": [
       "                  event_time   event_name  \\\n",
       "0 2019-10-07 00:00:00.431357  advert_open   \n",
       "1 2019-10-07 00:00:01.236320    tips_show   \n",
       "2 2019-10-07 00:00:02.245341    tips_show   \n",
       "3 2019-10-07 00:00:07.039334    tips_show   \n",
       "4 2019-10-07 00:00:56.319813  advert_open   \n",
       "\n",
       "                                user_id  \n",
       "0  020292ab-89bc-4156-9acf-68bc2783f894  \n",
       "1  020292ab-89bc-4156-9acf-68bc2783f894  \n",
       "2  cf7eda61-9349-469f-ac27-e5b6f5ec475c  \n",
       "3  020292ab-89bc-4156-9acf-68bc2783f894  \n",
       "4  cf7eda61-9349-469f-ac27-e5b6f5ec475c  "
      ]
     },
     "execution_count": 11,
     "metadata": {},
     "output_type": "execute_result"
    }
   ],
   "source": [
    "events.head()"
   ]
  },
  {
   "cell_type": "markdown",
   "metadata": {},
   "source": [
    "###  Data sources"
   ]
  },
  {
   "cell_type": "code",
   "execution_count": 12,
   "metadata": {},
   "outputs": [
    {
     "data": {
      "text/html": [
       "<div>\n",
       "<style scoped>\n",
       "    .dataframe tbody tr th:only-of-type {\n",
       "        vertical-align: middle;\n",
       "    }\n",
       "\n",
       "    .dataframe tbody tr th {\n",
       "        vertical-align: top;\n",
       "    }\n",
       "\n",
       "    .dataframe thead th {\n",
       "        text-align: right;\n",
       "    }\n",
       "</style>\n",
       "<table border=\"1\" class=\"dataframe\">\n",
       "  <thead>\n",
       "    <tr style=\"text-align: right;\">\n",
       "      <th></th>\n",
       "      <th>userId</th>\n",
       "      <th>source</th>\n",
       "    </tr>\n",
       "  </thead>\n",
       "  <tbody>\n",
       "    <tr>\n",
       "      <th>0</th>\n",
       "      <td>020292ab-89bc-4156-9acf-68bc2783f894</td>\n",
       "      <td>other</td>\n",
       "    </tr>\n",
       "    <tr>\n",
       "      <th>1</th>\n",
       "      <td>cf7eda61-9349-469f-ac27-e5b6f5ec475c</td>\n",
       "      <td>bing</td>\n",
       "    </tr>\n",
       "    <tr>\n",
       "      <th>2</th>\n",
       "      <td>8c356c42-3ba9-4cb6-80b8-3f868d0192c3</td>\n",
       "      <td>bing</td>\n",
       "    </tr>\n",
       "    <tr>\n",
       "      <th>3</th>\n",
       "      <td>d9b06b47-0f36-419b-bbb0-3533e582a6cb</td>\n",
       "      <td>other</td>\n",
       "    </tr>\n",
       "    <tr>\n",
       "      <th>4</th>\n",
       "      <td>f32e1e2a-3027-4693-b793-b7b3ff274439</td>\n",
       "      <td>google</td>\n",
       "    </tr>\n",
       "  </tbody>\n",
       "</table>\n",
       "</div>"
      ],
      "text/plain": [
       "                                 userId  source\n",
       "0  020292ab-89bc-4156-9acf-68bc2783f894   other\n",
       "1  cf7eda61-9349-469f-ac27-e5b6f5ec475c    bing\n",
       "2  8c356c42-3ba9-4cb6-80b8-3f868d0192c3    bing\n",
       "3  d9b06b47-0f36-419b-bbb0-3533e582a6cb   other\n",
       "4  f32e1e2a-3027-4693-b793-b7b3ff274439  google"
      ]
     },
     "execution_count": 12,
     "metadata": {},
     "output_type": "execute_result"
    }
   ],
   "source": [
    "sources.head()"
   ]
  },
  {
   "cell_type": "code",
   "execution_count": 13,
   "metadata": {},
   "outputs": [
    {
     "name": "stdout",
     "output_type": "stream",
     "text": [
      "<class 'pandas.core.frame.DataFrame'>\n",
      "RangeIndex: 4293 entries, 0 to 4292\n",
      "Data columns (total 2 columns):\n",
      " #   Column  Non-Null Count  Dtype \n",
      "---  ------  --------------  ----- \n",
      " 0   userId  4293 non-null   object\n",
      " 1   source  4293 non-null   object\n",
      "dtypes: object(2)\n",
      "memory usage: 67.2+ KB\n"
     ]
    }
   ],
   "source": [
    "sources.info()"
   ]
  },
  {
   "cell_type": "code",
   "execution_count": 14,
   "metadata": {},
   "outputs": [
    {
     "data": {
      "text/plain": [
       "userId    0\n",
       "source    0\n",
       "dtype: int64"
      ]
     },
     "execution_count": 14,
     "metadata": {},
     "output_type": "execute_result"
    }
   ],
   "source": [
    "sources.isna().sum()"
   ]
  },
  {
   "cell_type": "code",
   "execution_count": 15,
   "metadata": {},
   "outputs": [
    {
     "data": {
      "text/plain": [
       "0"
      ]
     },
     "execution_count": 15,
     "metadata": {},
     "output_type": "execute_result"
    }
   ],
   "source": [
    "sources.duplicated().sum()"
   ]
  },
  {
   "cell_type": "code",
   "execution_count": 16,
   "metadata": {},
   "outputs": [],
   "source": [
    "sources.columns=['user_id','source']"
   ]
  },
  {
   "cell_type": "code",
   "execution_count": 17,
   "metadata": {},
   "outputs": [
    {
     "data": {
      "text/html": [
       "<div>\n",
       "<style scoped>\n",
       "    .dataframe tbody tr th:only-of-type {\n",
       "        vertical-align: middle;\n",
       "    }\n",
       "\n",
       "    .dataframe tbody tr th {\n",
       "        vertical-align: top;\n",
       "    }\n",
       "\n",
       "    .dataframe thead th {\n",
       "        text-align: right;\n",
       "    }\n",
       "</style>\n",
       "<table border=\"1\" class=\"dataframe\">\n",
       "  <thead>\n",
       "    <tr style=\"text-align: right;\">\n",
       "      <th></th>\n",
       "      <th>user_id</th>\n",
       "      <th>source</th>\n",
       "    </tr>\n",
       "  </thead>\n",
       "  <tbody>\n",
       "    <tr>\n",
       "      <th>0</th>\n",
       "      <td>020292ab-89bc-4156-9acf-68bc2783f894</td>\n",
       "      <td>other</td>\n",
       "    </tr>\n",
       "    <tr>\n",
       "      <th>1</th>\n",
       "      <td>cf7eda61-9349-469f-ac27-e5b6f5ec475c</td>\n",
       "      <td>bing</td>\n",
       "    </tr>\n",
       "    <tr>\n",
       "      <th>2</th>\n",
       "      <td>8c356c42-3ba9-4cb6-80b8-3f868d0192c3</td>\n",
       "      <td>bing</td>\n",
       "    </tr>\n",
       "    <tr>\n",
       "      <th>3</th>\n",
       "      <td>d9b06b47-0f36-419b-bbb0-3533e582a6cb</td>\n",
       "      <td>other</td>\n",
       "    </tr>\n",
       "    <tr>\n",
       "      <th>4</th>\n",
       "      <td>f32e1e2a-3027-4693-b793-b7b3ff274439</td>\n",
       "      <td>google</td>\n",
       "    </tr>\n",
       "  </tbody>\n",
       "</table>\n",
       "</div>"
      ],
      "text/plain": [
       "                                user_id  source\n",
       "0  020292ab-89bc-4156-9acf-68bc2783f894   other\n",
       "1  cf7eda61-9349-469f-ac27-e5b6f5ec475c    bing\n",
       "2  8c356c42-3ba9-4cb6-80b8-3f868d0192c3    bing\n",
       "3  d9b06b47-0f36-419b-bbb0-3533e582a6cb   other\n",
       "4  f32e1e2a-3027-4693-b793-b7b3ff274439  google"
      ]
     },
     "execution_count": 17,
     "metadata": {},
     "output_type": "execute_result"
    }
   ],
   "source": [
    "sources.head()"
   ]
  },
  {
   "cell_type": "markdown",
   "metadata": {},
   "source": [
    "### Resultados del Preprocesamiento\n",
    "\n",
    "**Estudio de valores ausentes:**  \n",
    "No hay valores ausentes en ninguno de los datasets.\n",
    "\n",
    "**Estudio de valores duplicados:**  \n",
    "No hay filas duplicadas en ninguno de los datasets.\n",
    "\n",
    "**Verificación de los nombres de columnas:**  \n",
    "Los nombres de las columnas son correctos.\n",
    "\n",
    "**Renombrar las columnas:**  \n",
    "Las columnas han sido renombradas a minúsculas y con guiones bajos.\n",
    "\n",
    "**Eliminar duplicados:**  \n",
    "No se encontraron duplicados, por lo tanto, no hay necesidad de eliminar filas.\n",
    "\n",
    "**Convertir tipos:**  \n",
    "Los tipos de datos son correctos, todos son `object`.\n",
    "\n",
    "**Reemplazar valores ausentes:**  \n",
    "No hay valores ausentes que necesiten ser reemplazados.\n",
    "\n",
    "\n",
    "\n"
   ]
  },
  {
   "cell_type": "markdown",
   "metadata": {},
   "source": [
    "<div class=\"alert alert-block alert-warning\">\n",
    "<b>Comentario del revisor</b> <a class=\"tocSkip\"></a>\n",
    "Buen trabajo en la limpieza inicial de los datos. Sin embargo, podrías considerar agregar un paso para verificar y manejar posibles valores atípicos en las variables numéricas, como el tiempo de evento o la frecuencia de eventos por usuario.\n",
    "</div>"
   ]
  },
  {
   "cell_type": "markdown",
   "metadata": {},
   "source": [
    "## Análisis Exploratorio de Datos (EDA):"
   ]
  },
  {
   "cell_type": "markdown",
   "metadata": {},
   "source": [
    "### Fusion de tabls"
   ]
  },
  {
   "cell_type": "markdown",
   "metadata": {},
   "source": [
    "Se fusionan tablas de esa forma se enriquecen los datos y es mas facil hacer el analisis de los datos\n"
   ]
  },
  {
   "cell_type": "code",
   "execution_count": 18,
   "metadata": {},
   "outputs": [
    {
     "data": {
      "text/html": [
       "<div>\n",
       "<style scoped>\n",
       "    .dataframe tbody tr th:only-of-type {\n",
       "        vertical-align: middle;\n",
       "    }\n",
       "\n",
       "    .dataframe tbody tr th {\n",
       "        vertical-align: top;\n",
       "    }\n",
       "\n",
       "    .dataframe thead th {\n",
       "        text-align: right;\n",
       "    }\n",
       "</style>\n",
       "<table border=\"1\" class=\"dataframe\">\n",
       "  <thead>\n",
       "    <tr style=\"text-align: right;\">\n",
       "      <th></th>\n",
       "      <th>event_time</th>\n",
       "      <th>event_name</th>\n",
       "      <th>user_id</th>\n",
       "      <th>source</th>\n",
       "    </tr>\n",
       "  </thead>\n",
       "  <tbody>\n",
       "    <tr>\n",
       "      <th>0</th>\n",
       "      <td>2019-10-07 00:00:00.431357</td>\n",
       "      <td>advert_open</td>\n",
       "      <td>020292ab-89bc-4156-9acf-68bc2783f894</td>\n",
       "      <td>other</td>\n",
       "    </tr>\n",
       "    <tr>\n",
       "      <th>1</th>\n",
       "      <td>2019-10-07 00:00:01.236320</td>\n",
       "      <td>tips_show</td>\n",
       "      <td>020292ab-89bc-4156-9acf-68bc2783f894</td>\n",
       "      <td>other</td>\n",
       "    </tr>\n",
       "    <tr>\n",
       "      <th>2</th>\n",
       "      <td>2019-10-07 00:00:07.039334</td>\n",
       "      <td>tips_show</td>\n",
       "      <td>020292ab-89bc-4156-9acf-68bc2783f894</td>\n",
       "      <td>other</td>\n",
       "    </tr>\n",
       "    <tr>\n",
       "      <th>3</th>\n",
       "      <td>2019-10-07 00:01:27.770232</td>\n",
       "      <td>advert_open</td>\n",
       "      <td>020292ab-89bc-4156-9acf-68bc2783f894</td>\n",
       "      <td>other</td>\n",
       "    </tr>\n",
       "    <tr>\n",
       "      <th>4</th>\n",
       "      <td>2019-10-07 00:01:34.804591</td>\n",
       "      <td>tips_show</td>\n",
       "      <td>020292ab-89bc-4156-9acf-68bc2783f894</td>\n",
       "      <td>other</td>\n",
       "    </tr>\n",
       "  </tbody>\n",
       "</table>\n",
       "</div>"
      ],
      "text/plain": [
       "                  event_time   event_name  \\\n",
       "0 2019-10-07 00:00:00.431357  advert_open   \n",
       "1 2019-10-07 00:00:01.236320    tips_show   \n",
       "2 2019-10-07 00:00:07.039334    tips_show   \n",
       "3 2019-10-07 00:01:27.770232  advert_open   \n",
       "4 2019-10-07 00:01:34.804591    tips_show   \n",
       "\n",
       "                                user_id source  \n",
       "0  020292ab-89bc-4156-9acf-68bc2783f894  other  \n",
       "1  020292ab-89bc-4156-9acf-68bc2783f894  other  \n",
       "2  020292ab-89bc-4156-9acf-68bc2783f894  other  \n",
       "3  020292ab-89bc-4156-9acf-68bc2783f894  other  \n",
       "4  020292ab-89bc-4156-9acf-68bc2783f894  other  "
      ]
     },
     "execution_count": 18,
     "metadata": {},
     "output_type": "execute_result"
    }
   ],
   "source": [
    "fusion = pd.merge(events, sources, on='user_id', how='inner')\n",
    "fusion.head()"
   ]
  },
  {
   "cell_type": "markdown",
   "metadata": {},
   "source": [
    "### Distribucion de fuentes"
   ]
  },
  {
   "cell_type": "code",
   "execution_count": 19,
   "metadata": {},
   "outputs": [
    {
     "name": "stdout",
     "output_type": "stream",
     "text": [
      "['other' 'bing' 'google']\n"
     ]
    }
   ],
   "source": [
    "print(fusion['source'].unique())"
   ]
  },
  {
   "cell_type": "code",
   "execution_count": 20,
   "metadata": {},
   "outputs": [
    {
     "data": {
      "text/plain": [
       "bing      34286\n",
       "google    20445\n",
       "other     19466\n",
       "Name: source, dtype: int64"
      ]
     },
     "execution_count": 20,
     "metadata": {},
     "output_type": "execute_result"
    }
   ],
   "source": [
    "fusion['source'].value_counts()"
   ]
  },
  {
   "cell_type": "code",
   "execution_count": 21,
   "metadata": {},
   "outputs": [
    {
     "data": {
      "image/png": "[encoded data removed]",
      "text/plain": [
       "<Figure size 800x600 with 1 Axes>"
      ]
     },
     "metadata": {},
     "output_type": "display_data"
    }
   ],
   "source": [
    "plt.figure(figsize=(8, 6))\n",
    "sns.barplot(x=fusion['source'].value_counts().index, y=fusion['source'].value_counts().values, palette=\"rocket\")\n",
    "plt.title('Distribución de usuarios por fuente')\n",
    "plt.xlabel('Fuentes')\n",
    "plt.ylabel('Cantidad de usuarios')\n",
    "plt.show()"
   ]
  },
  {
   "cell_type": "markdown",
   "metadata": {},
   "source": [
    "### Visualizar la distribución de los eventos."
   ]
  },
  {
   "cell_type": "markdown",
   "metadata": {},
   "source": [
    "Diferentes eventos "
   ]
  },
  {
   "cell_type": "code",
   "execution_count": 22,
   "metadata": {},
   "outputs": [
    {
     "name": "stdout",
     "output_type": "stream",
     "text": [
      "['advert_open' 'tips_show' 'map' 'tips_click' 'search_4' 'search_2'\n",
      " 'search_5' 'contacts_show' 'search_6' 'photos_show' 'search_1' 'search_3'\n",
      " 'favorites_add' 'contacts_call' 'search_7' 'show_contacts']\n"
     ]
    }
   ],
   "source": [
    "print(fusion['event_name'].unique())"
   ]
  },
  {
   "cell_type": "markdown",
   "metadata": {},
   "source": [
    "Distribucion de eventos "
   ]
  },
  {
   "cell_type": "code",
   "execution_count": 23,
   "metadata": {},
   "outputs": [
    {
     "data": {
      "text/plain": [
       "tips_show        40055\n",
       "photos_show      10012\n",
       "advert_open       6164\n",
       "contacts_show     4450\n",
       "map               3881\n",
       "search_1          3506\n",
       "favorites_add     1417\n",
       "search_5          1049\n",
       "tips_click         814\n",
       "search_4           701\n",
       "contacts_call      541\n",
       "search_3           522\n",
       "search_6           460\n",
       "search_2           324\n",
       "search_7           222\n",
       "show_contacts       79\n",
       "Name: event_name, dtype: int64"
      ]
     },
     "execution_count": 23,
     "metadata": {},
     "output_type": "execute_result"
    }
   ],
   "source": [
    "events['event_name'].value_counts()"
   ]
  },
  {
   "cell_type": "code",
   "execution_count": 24,
   "metadata": {},
   "outputs": [
    {
     "data": {
      "image/png": "[encoded data removed]",
      "text/plain": [
       "<Figure size 1200x600 with 1 Axes>"
      ]
     },
     "metadata": {},
     "output_type": "display_data"
    }
   ],
   "source": [
    "event_counts = fusion['event_name'].value_counts()\n",
    "plt.figure(figsize=(12, 6))\n",
    "event_counts.plot(kind='bar', color='skyblue')\n",
    "plt.title('Distribución de Eventos')\n",
    "plt.xlabel('Nombre del Evento')\n",
    "plt.ylabel('Cantidad de Eventos')\n",
    "plt.xticks(rotation=45)\n",
    "plt.grid(axis='y', linestyle='--', alpha=0.7)\n",
    "plt.show()"
   ]
  },
  {
   "cell_type": "markdown",
   "metadata": {},
   "source": [
    "Los eventos más comunes incluyen tips_show y advert_open.Otros eventos como contacts_show, contacts_call, map, y eventos de búsqueda tienen frecuencias menores."
   ]
  },
  {
   "cell_type": "markdown",
   "metadata": {},
   "source": [
    "### Analizar la frecuencia de los eventos por usuario."
   ]
  },
  {
   "cell_type": "code",
   "execution_count": 25,
   "metadata": {},
   "outputs": [
    {
     "data": {
      "image/png": "[encoded data removed]",
      "text/plain": [
       "<Figure size 1000x600 with 1 Axes>"
      ]
     },
     "metadata": {},
     "output_type": "display_data"
    }
   ],
   "source": [
    "events_per_user = fusion['user_id'].value_counts()\n",
    "plt.figure(figsize=(10,6))\n",
    "sns.histplot(events_per_user, bins=30, kde=True)\n",
    "plt.xlabel('Número de Eventos por Usuario')\n",
    "plt.ylabel('Frecuencia')\n",
    "plt.title('Frecuencia de los Eventos por Usuario')\n",
    "plt.show()"
   ]
  },
  {
   "cell_type": "markdown",
   "metadata": {},
   "source": [
    "Parece haber una gran variabilidad en la cantidad de eventos por usuario."
   ]
  },
  {
   "cell_type": "markdown",
   "metadata": {},
   "source": [
    "### Tiempo Dedicado a la Aplicación por Usuario"
   ]
  },
  {
   "cell_type": "markdown",
   "metadata": {},
   "source": [
    "Para analizar el tiempo dedicado a la aplicación por usuario, necesitamos calcular la diferencia entre el primer y último evento registrado para cada usuario"
   ]
  },
  {
   "cell_type": "code",
   "execution_count": 26,
   "metadata": {},
   "outputs": [
    {
     "data": {
      "image/png": "[encoded data removed]",
      "text/plain": [
       "<Figure size 1000x600 with 1 Axes>"
      ]
     },
     "metadata": {},
     "output_type": "display_data"
    },
    {
     "data": {
      "text/plain": [
       "3794.3151810430936"
      ]
     },
     "execution_count": 26,
     "metadata": {},
     "output_type": "execute_result"
    }
   ],
   "source": [
    "# Calculamos el tiempo dedicado a la aplicación por usuario\n",
    "time_spent_per_user = fusion.groupby('user_id')['event_time'].agg(['min', 'max'])\n",
    "time_spent_per_user['time_spent'] = (time_spent_per_user['max'] - time_spent_per_user['min']).dt.total_seconds() / 60  # tiempo en minutos\n",
    "\n",
    "# Calculamos el tiempo promedio dedicado por usuario\n",
    "average_time_spent = time_spent_per_user['time_spent'].mean()\n",
    "\n",
    "\n",
    "plt.figure(figsize=(10, 6))\n",
    "time_spent_per_user['time_spent'].plot(kind='hist', bins=30)\n",
    "plt.title('Tiempo Dedicado a la Aplicación por Usuario')\n",
    "plt.xlabel('Tiempo en Minutos')\n",
    "plt.ylabel('Número de Usuarios')\n",
    "plt.show()\n",
    "\n",
    "# Tiempo promedio dedicado por usuario\n",
    "average_time_spent\n"
   ]
  },
  {
   "cell_type": "markdown",
   "metadata": {},
   "source": [
    "El gráfico muestra la distribución del tiempo total (en minutos) que cada usuario ha dedicado a la aplicación. La mayoría de los usuarios han pasado un tiempo relativamente corto en la aplicación. El tiempo promedio dedicado por usuario es de aproximadamente 3794.32 minutos."
   ]
  },
  {
   "cell_type": "markdown",
   "metadata": {},
   "source": [
    "### Calcular la tasa de retención de usuarios."
   ]
  },
  {
   "cell_type": "markdown",
   "metadata": {},
   "source": [
    "Para calcular la tasa de retención de usuarios , asumiremos  que la retención se mide en base a la actividad semanal y despues  calcularemos la primera y última semana de actividad de cada usuario."
   ]
  },
  {
   "cell_type": "code",
   "execution_count": 27,
   "metadata": {},
   "outputs": [
    {
     "data": {
      "image/png": "[encoded data removed]",
      "text/plain": [
       "<Figure size 600x600 with 1 Axes>"
      ]
     },
     "metadata": {},
     "output_type": "display_data"
    },
    {
     "data": {
      "text/plain": [
       "0.2212904728627999"
      ]
     },
     "execution_count": 27,
     "metadata": {},
     "output_type": "execute_result"
    }
   ],
   "source": [
    "fusion['event_week'] = fusion['event_time'].dt.to_period('W')\n",
    "\n",
    "user_activity_period = fusion.groupby('user_id')['event_week'].agg(['min', 'max'])\n",
    "user_activity_period['retained'] = (user_activity_period['max'] - user_activity_period['min']).apply(lambda x: x.n)\n",
    "\n",
    "# Calculamos la tasa de retención (usuarios retenidos más de una semana)\n",
    "retention_rate = (user_activity_period['retained'] > 0).mean()\n",
    "\n",
    "plt.figure(figsize=(6, 6))\n",
    "plt.bar(['Tasa de Retención'], [retention_rate])\n",
    "plt.ylim(0, 1)\n",
    "plt.title('Tasa de Retención de Usuarios')\n",
    "plt.ylabel('Proporción de Usuarios Retenidos')\n",
    "plt.show()\n",
    "\n",
    "#Tasa de retención\n",
    "retention_rate"
   ]
  },
  {
   "cell_type": "markdown",
   "metadata": {},
   "source": [
    "La tasa de retención de usuarios es aproximadamente 22.13%. Esto indica que el 22.13% de los usuarios realizaron actividades en la aplicación durante más de una semana."
   ]
  },
  {
   "cell_type": "markdown",
   "metadata": {},
   "source": [
    "### Identificar patrones en la conversión de contacts_show."
   ]
  },
  {
   "cell_type": "code",
   "execution_count": 28,
   "metadata": {},
   "outputs": [
    {
     "data": {
      "image/png": "[encoded data removed]",
      "text/plain": [
       "<Figure size 1000x600 with 1 Axes>"
      ]
     },
     "metadata": {},
     "output_type": "display_data"
    }
   ],
   "source": [
    "# Filtramos los eventos que llevan a 'contacts_show'\n",
    "contacts_show_events = events[events['event_name'] == 'contacts_show']\n",
    "\n",
    "# Unimos con el dataset de eventos para ver qué eventos preceden a 'contacts_show'\n",
    "merged_df = events.merge(\n",
    "    contacts_show_events[['user_id', 'event_time']],\n",
    "    on='user_id',\n",
    "    suffixes=('', '_contact')\n",
    ")\n",
    "\n",
    "# Filtramos los eventos que ocurren antes de 'contacts_show'\n",
    "preceding_events = merged_df[merged_df['event_time'] < merged_df['event_time_contact']]\n",
    "\n",
    "# Contamos la frecuencia de estos eventos precedentes\n",
    "preceding_event_counts = preceding_events['event_name'].value_counts()\n",
    "\n",
    "\n",
    "plt.figure(figsize=(10,6))\n",
    "sns.barplot(x=preceding_event_counts.index, y=preceding_event_counts.values, palette='viridis')\n",
    "plt.xlabel('Tipo de Evento Precedente')\n",
    "plt.ylabel('Frecuencia')\n",
    "plt.title('Eventos que Preceden a contacts_show')\n",
    "plt.xticks(rotation=45)\n",
    "plt.show()\n"
   ]
  },
  {
   "cell_type": "markdown",
   "metadata": {},
   "source": [
    "**Eventos Previos a la Conversión a `contacts_show`:**  \n",
    "Los eventos más comunes que ocurren antes de la conversión a `contacts_show` son:\n",
    "\n",
    "- **tips_show** (119,669 veces)\n",
    "- **contacts_show** (47,400 veces)\n",
    "- **map** (18,866 veces)\n",
    "- **photos_show** (8,134 veces)\n",
    "- **advert_open** (6,647 veces)\n",
    "\n",
    "Estos resultados indican que los usuarios tienden a interactuar con eventos como `tips_show` y `map` antes de convertir a `contacts_show`.\n"
   ]
  },
  {
   "cell_type": "markdown",
   "metadata": {},
   "source": [
    "### Resumen del Análisis Exploratorio de Datos (EDA):  \n",
    "\n",
    "**Distribución de los Eventos:**  \n",
    "Los eventos tienen una distribución variada, con algunos eventos mucho más frecuentes que otros.\n",
    "\n",
    "**Frecuencia de Eventos por Usuario:**  \n",
    "La mayoría de los usuarios tienen un número bajo de eventos registrados.\n",
    "\n",
    "**Tiempo Dedicado a la Aplicación por Usuario:**  \n",
    "El tiempo promedio dedicado por usuario es de aproximadamente 3794.32 minutos.\n",
    "\n",
    "**Tasa de Retención de Usuarios:**  \n",
    "La tasa de retención es aproximadamente 22.13%.\n",
    "\n",
    "**Patrones de Conversión a `contacts_show`:**  \n",
    "Los eventos más comunes antes de la conversión son `tips_show`, `contacts_show`, `map`, `photos_show` y `advert_open`.\n"
   ]
  },
  {
   "cell_type": "markdown",
   "metadata": {},
   "source": [
    "<div class=\"alert alert-block alert-success\">\n",
    "<b>Comentario del revisor</b> <a class=\"tocSkip\"></a>\n",
    "Tu EDA es muy completo y bien estructurado. Has cubierto aspectos importantes como la distribución de eventos, el tiempo dedicado a la aplicación y los patrones de conversión. Las visualizaciones son claras y informativas.\n",
    "</div>\n",
    "<div class=\"alert alert-block alert-warning\">\n",
    "<b>Comentario del revisor</b> <a class=\"tocSkip\"></a>\n",
    "Considera añadir un análisis de correlación entre las diferentes variables para identificar posibles relaciones interesantes entre los tipos de eventos o características de los usuarios.\n",
    "</div>"
   ]
  },
  {
   "cell_type": "markdown",
   "metadata": {},
   "source": [
    "## Segmentación de Usuarios"
   ]
  },
  {
   "cell_type": "markdown",
   "metadata": {},
   "source": [
    "### Utilizar técnicas de clustering ( k-means ) para segmentar a los usuarios en función de los eventos que completan."
   ]
  },
  {
   "cell_type": "code",
   "execution_count": 29,
   "metadata": {},
   "outputs": [],
   "source": [
    "# Creamos una matriz de características para los eventos por usuario\n",
    "user_event_matrix = fusion.pivot_table(index='user_id', columns='event_name', aggfunc='size', fill_value=0)\n",
    "\n",
    "# Escalamos las características para el clustering\n",
    "scaler = StandardScaler()\n",
    "user_event_matrix_scaled = scaler.fit_transform(user_event_matrix)"
   ]
  },
  {
   "cell_type": "markdown",
   "metadata": {},
   "source": [
    "###  Determinar el Número Óptimo de Clusters"
   ]
  },
  {
   "cell_type": "code",
   "execution_count": 30,
   "metadata": {},
   "outputs": [
    {
     "data": {
      "image/png": "[encoded data removed]",
      "text/plain": [
       "<Figure size 1200x600 with 1 Axes>"
      ]
     },
     "metadata": {},
     "output_type": "display_data"
    }
   ],
   "source": [
    "# Método del codo para determinar el número óptimo de clusters\n",
    "sse = []\n",
    "for k in range(1, 11):\n",
    "    kmeans = KMeans(n_clusters=k, random_state=42)\n",
    "    kmeans.fit(user_event_matrix_scaled)\n",
    "    sse.append(kmeans.inertia_)\n",
    "\n",
    "plt.figure(figsize=(12, 6))\n",
    "plt.plot(range(1, 11), sse, marker='o')\n",
    "plt.title('Método del Codo para Determinar el Número Óptimo de Clusters')\n",
    "plt.xlabel('Número de Clusters')\n",
    "plt.ylabel('SSE')\n",
    "plt.show()\n",
    "\n"
   ]
  },
  {
   "cell_type": "markdown",
   "metadata": {},
   "source": [
    "### Asignar etiquetas a los segmentos de usuarios."
   ]
  },
  {
   "cell_type": "code",
   "execution_count": 31,
   "metadata": {},
   "outputs": [],
   "source": [
    "# Aplicar K-means con 3 clusters\n",
    "kmeans = KMeans(n_clusters=3, random_state=42)\n",
    "clusters = kmeans.fit_predict(user_event_matrix_scaled)\n",
    "\n",
    "# Agregamos la información del cluster a la matriz original\n",
    "user_event_matrix['cluster'] = clusters\n",
    "\n"
   ]
  },
  {
   "cell_type": "code",
   "execution_count": 32,
   "metadata": {},
   "outputs": [
    {
     "data": {
      "image/png": "[encoded data removed]",
      "text/plain": [
       "<Figure size 1000x600 with 1 Axes>"
      ]
     },
     "metadata": {},
     "output_type": "display_data"
    }
   ],
   "source": [
    "# Reducimos la dimensionalidad para la visualización\n",
    "pca = PCA(n_components=2)\n",
    "user_event_matrix_pca = pca.fit_transform(user_event_matrix_scaled)\n",
    "\n",
    "# Creamos un DataFrame con los resultados del PCA y los clusters\n",
    "pca_df = pd.DataFrame(data=user_event_matrix_pca, columns=['PC1', 'PC2'])\n",
    "pca_df['cluster'] = clusters\n",
    "\n",
    "\n",
    "plt.figure(figsize=(10, 6))\n",
    "for cluster in pca_df['cluster'].unique():\n",
    "    cluster_data = pca_df[pca_df['cluster'] == cluster]\n",
    "    plt.scatter(cluster_data['PC1'], cluster_data['PC2'], label=f'Cluster {cluster}')\n",
    "plt.title('Visualización de Clusters de Usuarios')\n",
    "plt.xlabel('Componente Principal 1')\n",
    "plt.ylabel('Componente Principal 2')\n",
    "plt.legend()\n",
    "plt.show()"
   ]
  },
  {
   "cell_type": "markdown",
   "metadata": {},
   "source": [
    "**Resultados de la Segmentación de Usuarios**  \n",
    "La visualización muestra la distribución de los usuarios en 3 clusters distintos, basada en los eventos que completan en la aplicación. Los clusters están bien diferenciados en el espacio de dos dimensiones después de aplicar PCA.\n"
   ]
  },
  {
   "cell_type": "code",
   "execution_count": 33,
   "metadata": {},
   "outputs": [
    {
     "data": {
      "text/html": [
       "<div>\n",
       "<style scoped>\n",
       "    .dataframe tbody tr th:only-of-type {\n",
       "        vertical-align: middle;\n",
       "    }\n",
       "\n",
       "    .dataframe tbody tr th {\n",
       "        vertical-align: top;\n",
       "    }\n",
       "\n",
       "    .dataframe thead th {\n",
       "        text-align: right;\n",
       "    }\n",
       "</style>\n",
       "<table border=\"1\" class=\"dataframe\">\n",
       "  <thead>\n",
       "    <tr style=\"text-align: right;\">\n",
       "      <th>event_name</th>\n",
       "      <th>advert_open</th>\n",
       "      <th>contacts_call</th>\n",
       "      <th>contacts_show</th>\n",
       "      <th>favorites_add</th>\n",
       "      <th>map</th>\n",
       "      <th>photos_show</th>\n",
       "      <th>search_1</th>\n",
       "      <th>search_2</th>\n",
       "      <th>search_3</th>\n",
       "      <th>search_4</th>\n",
       "      <th>search_5</th>\n",
       "      <th>search_6</th>\n",
       "      <th>search_7</th>\n",
       "      <th>show_contacts</th>\n",
       "      <th>tips_click</th>\n",
       "      <th>tips_show</th>\n",
       "    </tr>\n",
       "    <tr>\n",
       "      <th>cluster</th>\n",
       "      <th></th>\n",
       "      <th></th>\n",
       "      <th></th>\n",
       "      <th></th>\n",
       "      <th></th>\n",
       "      <th></th>\n",
       "      <th></th>\n",
       "      <th></th>\n",
       "      <th></th>\n",
       "      <th></th>\n",
       "      <th></th>\n",
       "      <th></th>\n",
       "      <th></th>\n",
       "      <th></th>\n",
       "      <th></th>\n",
       "      <th></th>\n",
       "    </tr>\n",
       "  </thead>\n",
       "  <tbody>\n",
       "    <tr>\n",
       "      <th>0</th>\n",
       "      <td>1.000000</td>\n",
       "      <td>0.000000</td>\n",
       "      <td>84.000000</td>\n",
       "      <td>1.000000</td>\n",
       "      <td>19.000000</td>\n",
       "      <td>0.000000</td>\n",
       "      <td>0.000000</td>\n",
       "      <td>0.000000</td>\n",
       "      <td>0.000000</td>\n",
       "      <td>0.000000</td>\n",
       "      <td>1.000000</td>\n",
       "      <td>1.000000</td>\n",
       "      <td>0.000000</td>\n",
       "      <td>53.000000</td>\n",
       "      <td>7.000000</td>\n",
       "      <td>195.000000</td>\n",
       "    </tr>\n",
       "    <tr>\n",
       "      <th>1</th>\n",
       "      <td>1.048618</td>\n",
       "      <td>0.128932</td>\n",
       "      <td>0.842707</td>\n",
       "      <td>0.283603</td>\n",
       "      <td>0.715682</td>\n",
       "      <td>2.343899</td>\n",
       "      <td>0.828170</td>\n",
       "      <td>0.055291</td>\n",
       "      <td>0.081745</td>\n",
       "      <td>0.111058</td>\n",
       "      <td>0.178503</td>\n",
       "      <td>0.079123</td>\n",
       "      <td>0.034795</td>\n",
       "      <td>0.006196</td>\n",
       "      <td>0.173499</td>\n",
       "      <td>7.894662</td>\n",
       "    </tr>\n",
       "    <tr>\n",
       "      <th>2</th>\n",
       "      <td>18.364583</td>\n",
       "      <td>0.000000</td>\n",
       "      <td>8.645833</td>\n",
       "      <td>2.354167</td>\n",
       "      <td>8.947917</td>\n",
       "      <td>1.843750</td>\n",
       "      <td>0.322917</td>\n",
       "      <td>0.958333</td>\n",
       "      <td>1.864583</td>\n",
       "      <td>2.447917</td>\n",
       "      <td>3.114583</td>\n",
       "      <td>1.322917</td>\n",
       "      <td>0.791667</td>\n",
       "      <td>0.000000</td>\n",
       "      <td>0.822917</td>\n",
       "      <td>70.145833</td>\n",
       "    </tr>\n",
       "  </tbody>\n",
       "</table>\n",
       "</div>"
      ],
      "text/plain": [
       "event_name  advert_open  contacts_call  contacts_show  favorites_add  \\\n",
       "cluster                                                                \n",
       "0              1.000000       0.000000      84.000000       1.000000   \n",
       "1              1.048618       0.128932       0.842707       0.283603   \n",
       "2             18.364583       0.000000       8.645833       2.354167   \n",
       "\n",
       "event_name        map  photos_show  search_1  search_2  search_3  search_4  \\\n",
       "cluster                                                                      \n",
       "0           19.000000     0.000000  0.000000  0.000000  0.000000  0.000000   \n",
       "1            0.715682     2.343899  0.828170  0.055291  0.081745  0.111058   \n",
       "2            8.947917     1.843750  0.322917  0.958333  1.864583  2.447917   \n",
       "\n",
       "event_name  search_5  search_6  search_7  show_contacts  tips_click  \\\n",
       "cluster                                                               \n",
       "0           1.000000  1.000000  0.000000      53.000000    7.000000   \n",
       "1           0.178503  0.079123  0.034795       0.006196    0.173499   \n",
       "2           3.114583  1.322917  0.791667       0.000000    0.822917   \n",
       "\n",
       "event_name   tips_show  \n",
       "cluster                 \n",
       "0           195.000000  \n",
       "1             7.894662  \n",
       "2            70.145833  "
      ]
     },
     "execution_count": 33,
     "metadata": {},
     "output_type": "execute_result"
    }
   ],
   "source": [
    "# Analizamos las características de cada cluster\n",
    "cluster_summary = user_event_matrix.groupby('cluster').mean()\n",
    "\n",
    "# Mostramos las estadísticas descriptivas de los eventos para cada cluster\n",
    "cluster_summary"
   ]
  },
  {
   "cell_type": "markdown",
   "metadata": {},
   "source": [
    "**Análisis de los Clusters**  \n",
    "Basado en las estadísticas descriptivas de los eventos para cada cluster, podemos observar los siguientes comportamientos predominantes:\n",
    "\n",
    "**Cluster 0:**  -**\"Usuarios de Contacto Intensivo\"** \n",
    "- Alto uso de `contacts_show`: Los usuarios de este cluster realizan muchos eventos de `contacts_show` (84 eventos en promedio).  \n",
    "- Alto uso de `tips_show` y `show_contacts`: También tienen un uso significativo de `tips_show` (195 eventos en promedio) y `show_contacts` (53 eventos en promedio).  \n",
    "- Usuarios muy activos en términos de búsqueda: Realizan varios eventos de búsqueda (`search_*`).  \n",
    "\n",
    "\n",
    "**Cluster 1:** -**\"Usuarios Moderados\"**  \n",
    "- Uso moderado de varios eventos: Los usuarios de este cluster tienen un uso equilibrado y moderado de varios eventos como `advert_open`, `contacts_show`, `map`, `photos_show` y `tips_show`.  \n",
    "\n",
    "\n",
    "**Cluster 2:** -**\"Usuarios Activos en Publicidad y Tips\"** \n",
    "- Alta actividad en `advert_open`, `contacts_show` y `tips_show`: Los usuarios de este cluster tienen una alta frecuencia de `advert_open` (18.36 eventos en promedio), `contacts_show` (8.65 eventos en promedio) y `tips_show` (70.15 eventos en promedio).  \n",
    "\n"
   ]
  },
  {
   "cell_type": "code",
   "execution_count": 34,
   "metadata": {},
   "outputs": [
    {
     "data": {
      "text/html": [
       "<div>\n",
       "<style scoped>\n",
       "    .dataframe tbody tr th:only-of-type {\n",
       "        vertical-align: middle;\n",
       "    }\n",
       "\n",
       "    .dataframe tbody tr th {\n",
       "        vertical-align: top;\n",
       "    }\n",
       "\n",
       "    .dataframe thead th {\n",
       "        text-align: right;\n",
       "    }\n",
       "</style>\n",
       "<table border=\"1\" class=\"dataframe\">\n",
       "  <thead>\n",
       "    <tr style=\"text-align: right;\">\n",
       "      <th>event_name</th>\n",
       "      <th>cluster</th>\n",
       "      <th>cluster_label</th>\n",
       "    </tr>\n",
       "    <tr>\n",
       "      <th>user_id</th>\n",
       "      <th></th>\n",
       "      <th></th>\n",
       "    </tr>\n",
       "  </thead>\n",
       "  <tbody>\n",
       "    <tr>\n",
       "      <th>ffab8d8a-30bb-424a-a3ab-0b63ebbf7b07</th>\n",
       "      <td>1</td>\n",
       "      <td>Usuarios Moderados</td>\n",
       "    </tr>\n",
       "    <tr>\n",
       "      <th>ffc01466-fdb1-4460-ae94-e800f52eb136</th>\n",
       "      <td>1</td>\n",
       "      <td>Usuarios Moderados</td>\n",
       "    </tr>\n",
       "    <tr>\n",
       "      <th>ffcf50d9-293c-4254-8243-4890b030b238</th>\n",
       "      <td>1</td>\n",
       "      <td>Usuarios Moderados</td>\n",
       "    </tr>\n",
       "    <tr>\n",
       "      <th>ffe68f10-e48e-470e-be9b-eeb93128ff1a</th>\n",
       "      <td>1</td>\n",
       "      <td>Usuarios Moderados</td>\n",
       "    </tr>\n",
       "    <tr>\n",
       "      <th>fffb9e79-b927-4dbb-9b48-7fd09b23a62b</th>\n",
       "      <td>2</td>\n",
       "      <td>Usuarios Activos en Publicidad y Tips</td>\n",
       "    </tr>\n",
       "  </tbody>\n",
       "</table>\n",
       "</div>"
      ],
      "text/plain": [
       "event_name                            cluster  \\\n",
       "user_id                                         \n",
       "ffab8d8a-30bb-424a-a3ab-0b63ebbf7b07        1   \n",
       "ffc01466-fdb1-4460-ae94-e800f52eb136        1   \n",
       "ffcf50d9-293c-4254-8243-4890b030b238        1   \n",
       "ffe68f10-e48e-470e-be9b-eeb93128ff1a        1   \n",
       "fffb9e79-b927-4dbb-9b48-7fd09b23a62b        2   \n",
       "\n",
       "event_name                                                    cluster_label  \n",
       "user_id                                                                      \n",
       "ffab8d8a-30bb-424a-a3ab-0b63ebbf7b07                     Usuarios Moderados  \n",
       "ffc01466-fdb1-4460-ae94-e800f52eb136                     Usuarios Moderados  \n",
       "ffcf50d9-293c-4254-8243-4890b030b238                     Usuarios Moderados  \n",
       "ffe68f10-e48e-470e-be9b-eeb93128ff1a                     Usuarios Moderados  \n",
       "fffb9e79-b927-4dbb-9b48-7fd09b23a62b  Usuarios Activos en Publicidad y Tips  "
      ]
     },
     "execution_count": 34,
     "metadata": {},
     "output_type": "execute_result"
    }
   ],
   "source": [
    "# Asignamos etiquetas a los clusters\n",
    "cluster_labels = {\n",
    "    0: \"Usuarios de Contacto Intensivo\",\n",
    "    1: \"Usuarios Moderados\",\n",
    "    2: \"Usuarios Activos en Publicidad y Tips\"\n",
    "}\n",
    "\n",
    "# Mapeamos las etiquetas a los clusters en el DataFrame\n",
    "user_event_matrix['cluster_label'] = user_event_matrix['cluster'].map(cluster_labels)\n",
    "\n",
    "# Mostramos las primeras filas con las etiquetas asignadas\n",
    "user_event_matrix[['cluster', 'cluster_label']].tail(5)"
   ]
  },
  {
   "cell_type": "markdown",
   "metadata": {},
   "source": [
    "**Resultados de la Asignación de Etiquetas a los Clusters**  \n",
    "Las etiquetas asignadas a los usuarios en función de los clusters son las siguientes:\n",
    "\n",
    "- **Usuarios de Contacto Intensivo:**  \n",
    "  Usuarios que interactúan intensivamente con eventos de contacto como `contacts_show`, `show_contacts`, y `tips_show`.\n",
    "\n",
    "- **Usuarios Moderados:**  \n",
    "  Usuarios que tienen un uso equilibrado y moderado de varios eventos.\n",
    "\n",
    "- **Usuarios Activos en Publicidad y Tips:**  \n",
    "  Usuarios que muestran una alta actividad en eventos relacionados con publicidad (`advert_open`) y tips (`tips_show`).\n",
    "\n",
    "Estas etiquetas reflejan el comportamiento predominante de cada grupo de usuarios y pueden ser utilizadas para personalizar estrategias de marketing, contenidos, y mejoras en la aplicación. Estos clusters pueden ser utilizados para:\n",
    "\n",
    "- **Personalizar Contenidos y Ofertas:** Adaptar la experiencia de la aplicación en función del comportamiento de cada cluster.\n",
    "- **Análisis de Retención y Conversión:** Identificar qué segmentos tienen mejor retención o tasas de conversión y planificar estrategias de mejora.\n",
    "- **Campañas de Marketing:** Desarrollar campañas específicas para cada grupo de usuarios según sus patrones de uso.\n",
    "\n"
   ]
  },
  {
   "cell_type": "markdown",
   "metadata": {},
   "source": [
    "<div class=\"alert alert-block alert-success\">\n",
    "<b>Comentario del revisor</b> <a class=\"tocSkip\"></a>\n",
    "Excelente trabajo en la aplicación de K-means para la segmentación de usuarios. La visualización de los clusters y la interpretación de los resultados son muy buenos.\n",
    "</div>\n",
    "<div class=\"alert alert-block alert-warning\">\n",
    "<b>Comentario del revisor</b> <a class=\"tocSkip\"></a>\n",
    "Podrías considerar probar otros algoritmos de clustering, como DBSCAN o clustering jerárquico, para comparar los resultados y asegurarte de que la segmentación es robusta.\n",
    "</div>"
   ]
  },
  {
   "cell_type": "markdown",
   "metadata": {},
   "source": [
    "## Análisis de Métricas del Producto\n"
   ]
  },
  {
   "cell_type": "markdown",
   "metadata": {},
   "source": [
    "### Calcular y comparar la tasa de retención entre los segmentos."
   ]
  },
  {
   "cell_type": "code",
   "execution_count": 35,
   "metadata": {},
   "outputs": [
    {
     "data": {
      "text/plain": [
       "cluster_label\n",
       "Usuarios Activos en Publicidad y Tips    0.718750\n",
       "Usuarios Moderados                       0.209724\n",
       "Usuarios de Contacto Intensivo           1.000000\n",
       "Name: retained, dtype: float64"
      ]
     },
     "execution_count": 35,
     "metadata": {},
     "output_type": "execute_result"
    }
   ],
   "source": [
    "# Mapeamos las etiquetas a los clusters en el DataFrame\n",
    "user_event_matrix['cluster_label'] = user_event_matrix['cluster'].map(cluster_labels)\n",
    "\n",
    "# Añadimos la información del cluster original a la tabla de fusión\n",
    "fusion = fusion.merge(user_event_matrix[['cluster', 'cluster_label']], left_on='user_id', right_index=True, how='left')\n",
    "\n",
    "# Calculamos la tasa de retención entre los segmentos\n",
    "fusion['event_time'] = pd.to_datetime(fusion['event_time'])\n",
    "fusion['event_week'] = fusion['event_time'].dt.to_period('W')\n",
    "\n",
    "user_activity_period_segment = fusion.groupby(['cluster_label', 'user_id'])['event_week'].agg(['min', 'max'])\n",
    "user_activity_period_segment['retained'] = (user_activity_period_segment['max'] - user_activity_period_segment['min']).apply(lambda x: x.n)\n",
    "\n",
    "retention_rate_segment = user_activity_period_segment.groupby('cluster_label')['retained'].apply(lambda x: (x > 0).mean())\n",
    "\n",
    "retention_rate_segment"
   ]
  },
  {
   "cell_type": "markdown",
   "metadata": {},
   "source": [
    "**Segmento** | **Tasa de Retención**\n",
    "--- | ---\n",
    "**Usuarios Activos en Publicidad y Tips** | 71.88%\n",
    "**Usuarios Moderados** | 20.97%\n",
    "**Usuarios de Contacto Intensivo** | 100.00%\n"
   ]
  },
  {
   "cell_type": "markdown",
   "metadata": {},
   "source": [
    "\n",
    "### Calcular y comparar el tiempo dedicado a la aplicación entre los segmentos."
   ]
  },
  {
   "cell_type": "code",
   "execution_count": 36,
   "metadata": {},
   "outputs": [
    {
     "data": {
      "text/plain": [
       "cluster_label\n",
       "Usuarios Activos en Publicidad y Tips    15652.564882\n",
       "Usuarios Moderados                        3515.648693\n",
       "Usuarios de Contacto Intensivo           34686.927270\n",
       "Name: time_spent, dtype: float64"
      ]
     },
     "execution_count": 36,
     "metadata": {},
     "output_type": "execute_result"
    }
   ],
   "source": [
    "# Calculamos el tiempo dedicado a la aplicación por usuario por segmento\n",
    "time_spent_per_user_segment = fusion.groupby(['cluster_label', 'user_id'])['event_time'].agg(['min', 'max'])\n",
    "time_spent_per_user_segment['time_spent'] = (time_spent_per_user_segment['max'] - time_spent_per_user_segment['min']).dt.total_seconds() / 60\n",
    "\n",
    "average_time_spent_segment = time_spent_per_user_segment.groupby('cluster_label')['time_spent'].mean()\n",
    "\n",
    "average_time_spent_segment"
   ]
  },
  {
   "cell_type": "markdown",
   "metadata": {},
   "source": [
    "**Segmento** | **Tiempo Promedio Dedicado (min)**\n",
    "--- | ---\n",
    "**Usuarios Activos en Publicidad y Tips** | 15,652.56\n",
    "**Usuarios Moderados** | 3,515.65\n",
    "**Usuarios de Contacto Intensivo** | 34,686.93\n"
   ]
  },
  {
   "cell_type": "markdown",
   "metadata": {},
   "source": [
    "### Calcular y comparar la frecuencia de ocurrencia de eventos entre los segmentos."
   ]
  },
  {
   "cell_type": "code",
   "execution_count": 37,
   "metadata": {},
   "outputs": [
    {
     "data": {
      "text/html": [
       "<div>\n",
       "<style scoped>\n",
       "    .dataframe tbody tr th:only-of-type {\n",
       "        vertical-align: middle;\n",
       "    }\n",
       "\n",
       "    .dataframe tbody tr th {\n",
       "        vertical-align: top;\n",
       "    }\n",
       "\n",
       "    .dataframe thead th {\n",
       "        text-align: right;\n",
       "    }\n",
       "</style>\n",
       "<table border=\"1\" class=\"dataframe\">\n",
       "  <thead>\n",
       "    <tr style=\"text-align: right;\">\n",
       "      <th>event_name</th>\n",
       "      <th>advert_open</th>\n",
       "      <th>contacts_call</th>\n",
       "      <th>contacts_show</th>\n",
       "      <th>favorites_add</th>\n",
       "      <th>map</th>\n",
       "      <th>photos_show</th>\n",
       "      <th>search_1</th>\n",
       "      <th>search_2</th>\n",
       "      <th>search_3</th>\n",
       "      <th>search_4</th>\n",
       "      <th>search_5</th>\n",
       "      <th>search_6</th>\n",
       "      <th>search_7</th>\n",
       "      <th>show_contacts</th>\n",
       "      <th>tips_click</th>\n",
       "      <th>tips_show</th>\n",
       "    </tr>\n",
       "    <tr>\n",
       "      <th>cluster_label</th>\n",
       "      <th></th>\n",
       "      <th></th>\n",
       "      <th></th>\n",
       "      <th></th>\n",
       "      <th></th>\n",
       "      <th></th>\n",
       "      <th></th>\n",
       "      <th></th>\n",
       "      <th></th>\n",
       "      <th></th>\n",
       "      <th></th>\n",
       "      <th></th>\n",
       "      <th></th>\n",
       "      <th></th>\n",
       "      <th></th>\n",
       "      <th></th>\n",
       "    </tr>\n",
       "  </thead>\n",
       "  <tbody>\n",
       "    <tr>\n",
       "      <th>Usuarios Activos en Publicidad y Tips</th>\n",
       "      <td>0.150594</td>\n",
       "      <td>NaN</td>\n",
       "      <td>0.070898</td>\n",
       "      <td>0.019305</td>\n",
       "      <td>0.073375</td>\n",
       "      <td>0.015119</td>\n",
       "      <td>0.002648</td>\n",
       "      <td>0.007859</td>\n",
       "      <td>0.015290</td>\n",
       "      <td>0.020073</td>\n",
       "      <td>0.025540</td>\n",
       "      <td>0.010848</td>\n",
       "      <td>0.006492</td>\n",
       "      <td>NaN</td>\n",
       "      <td>0.006748</td>\n",
       "      <td>0.575211</td>\n",
       "    </tr>\n",
       "    <tr>\n",
       "      <th>Usuarios Moderados</th>\n",
       "      <td>0.070822</td>\n",
       "      <td>0.008708</td>\n",
       "      <td>0.056915</td>\n",
       "      <td>0.019154</td>\n",
       "      <td>0.048336</td>\n",
       "      <td>0.158302</td>\n",
       "      <td>0.055933</td>\n",
       "      <td>0.003734</td>\n",
       "      <td>0.005521</td>\n",
       "      <td>0.007501</td>\n",
       "      <td>0.012056</td>\n",
       "      <td>0.005344</td>\n",
       "      <td>0.002350</td>\n",
       "      <td>0.000418</td>\n",
       "      <td>0.011718</td>\n",
       "      <td>0.533190</td>\n",
       "    </tr>\n",
       "    <tr>\n",
       "      <th>Usuarios de Contacto Intensivo</th>\n",
       "      <td>0.002762</td>\n",
       "      <td>NaN</td>\n",
       "      <td>0.232044</td>\n",
       "      <td>0.002762</td>\n",
       "      <td>0.052486</td>\n",
       "      <td>NaN</td>\n",
       "      <td>NaN</td>\n",
       "      <td>NaN</td>\n",
       "      <td>NaN</td>\n",
       "      <td>NaN</td>\n",
       "      <td>0.002762</td>\n",
       "      <td>0.002762</td>\n",
       "      <td>NaN</td>\n",
       "      <td>0.146409</td>\n",
       "      <td>0.019337</td>\n",
       "      <td>0.538674</td>\n",
       "    </tr>\n",
       "  </tbody>\n",
       "</table>\n",
       "</div>"
      ],
      "text/plain": [
       "event_name                             advert_open  contacts_call  \\\n",
       "cluster_label                                                       \n",
       "Usuarios Activos en Publicidad y Tips     0.150594            NaN   \n",
       "Usuarios Moderados                        0.070822       0.008708   \n",
       "Usuarios de Contacto Intensivo            0.002762            NaN   \n",
       "\n",
       "event_name                             contacts_show  favorites_add       map  \\\n",
       "cluster_label                                                                   \n",
       "Usuarios Activos en Publicidad y Tips       0.070898       0.019305  0.073375   \n",
       "Usuarios Moderados                          0.056915       0.019154  0.048336   \n",
       "Usuarios de Contacto Intensivo              0.232044       0.002762  0.052486   \n",
       "\n",
       "event_name                             photos_show  search_1  search_2  \\\n",
       "cluster_label                                                            \n",
       "Usuarios Activos en Publicidad y Tips     0.015119  0.002648  0.007859   \n",
       "Usuarios Moderados                        0.158302  0.055933  0.003734   \n",
       "Usuarios de Contacto Intensivo                 NaN       NaN       NaN   \n",
       "\n",
       "event_name                             search_3  search_4  search_5  search_6  \\\n",
       "cluster_label                                                                   \n",
       "Usuarios Activos en Publicidad y Tips  0.015290  0.020073  0.025540  0.010848   \n",
       "Usuarios Moderados                     0.005521  0.007501  0.012056  0.005344   \n",
       "Usuarios de Contacto Intensivo              NaN       NaN  0.002762  0.002762   \n",
       "\n",
       "event_name                             search_7  show_contacts  tips_click  \\\n",
       "cluster_label                                                                \n",
       "Usuarios Activos en Publicidad y Tips  0.006492            NaN    0.006748   \n",
       "Usuarios Moderados                     0.002350       0.000418    0.011718   \n",
       "Usuarios de Contacto Intensivo              NaN       0.146409    0.019337   \n",
       "\n",
       "event_name                             tips_show  \n",
       "cluster_label                                     \n",
       "Usuarios Activos en Publicidad y Tips   0.575211  \n",
       "Usuarios Moderados                      0.533190  \n",
       "Usuarios de Contacto Intensivo          0.538674  "
      ]
     },
     "execution_count": 37,
     "metadata": {},
     "output_type": "execute_result"
    }
   ],
   "source": [
    "# Calculamos la frecuencia de ocurrencia de eventos entre los segmentos\n",
    "event_frequency_segment = fusion.groupby('cluster_label')['event_name'].value_counts(normalize=True).unstack()\n",
    "\n",
    "\n",
    "event_frequency_segment"
   ]
  },
  {
   "cell_type": "markdown",
   "metadata": {},
   "source": [
    "### Calcular y comparar la conversión en contacts_show entre los segmentos."
   ]
  },
  {
   "cell_type": "code",
   "execution_count": 38,
   "metadata": {},
   "outputs": [
    {
     "data": {
      "text/plain": [
       "cluster_label\n",
       "Usuarios Activos en Publicidad y Tips    0.458333\n",
       "Usuarios Moderados                       0.222593\n",
       "Usuarios de Contacto Intensivo           1.000000\n",
       "Name: user_id, dtype: float64"
      ]
     },
     "execution_count": 38,
     "metadata": {},
     "output_type": "execute_result"
    }
   ],
   "source": [
    "# Calculamos la conversión en contacts_show entre los segmentos\n",
    "total_users_segment = fusion.groupby('cluster_label')['user_id'].nunique()\n",
    "contacts_show_users_segment = fusion[fusion['event_name'] == 'contacts_show'].groupby('cluster_label')['user_id'].nunique()\n",
    "conversion_rate_segment = contacts_show_users_segment / total_users_segment\n",
    "\n",
    "conversion_rate_segment"
   ]
  },
  {
   "cell_type": "markdown",
   "metadata": {},
   "source": [
    "**Segmento** | **Tasa de Conversión en `contacts_show`**\n",
    "--- | ---\n",
    "**Usuarios Activos en Publicidad y Tips** | 45.83%\n",
    "**Usuarios Moderados** | 22.26%\n",
    "**Usuarios de Contacto Intensivo** | 100.00%\n"
   ]
  },
  {
   "cell_type": "markdown",
   "metadata": {},
   "source": [
    "**Resumen del Análisis de Métricas del Producto**\n",
    "\n",
    "**Tasa de Retención entre los Segmentos:**  \n",
    "- **Usuarios de Contacto Intensivo:** Tienen la tasa de retención más alta (100%).  \n",
    "- **Usuarios Activos en Publicidad y Tips:** Tienen una tasa de retención de 71.88%.  \n",
    "- **Usuarios Moderados:** Tienen la tasa de retención más baja (20.97%).  \n",
    "\n",
    "**Tiempo Dedicado a la Aplicación entre los Segmentos:**  \n",
    "- **Usuarios de Contacto Intensivo:** Dedican en promedio 34,686.93 minutos.  \n",
    "- **Usuarios Activos en Publicidad y Tips:** Dedican en promedio 15,652.56 minutos.  \n",
    "- **Usuarios Moderados:** Dedican en promedio 3,515.65 minutos.  \n",
    "\n",
    "**Frecuencia de Ocurrencia de Eventos entre los Segmentos:**  \n",
    "- **Usuarios Activos en Publicidad y Tips:** Tienen una alta frecuencia de eventos relacionados con publicidad (`advert_open`) y tips (`tips_show`).  \n",
    "- **Usuarios Moderados:** Tienen una frecuencia equilibrada de diversos eventos.  \n",
    "- **Usuarios de Contacto Intensivo:** Tienen una alta frecuencia de eventos de contacto (`contacts_show`, `show_contacts`).  \n",
    "\n",
    "**Conversión en `contacts_show` entre los Segmentos:**  \n",
    "- **Usuarios de Contacto Intensivo:** Tienen una conversión del 100% en `contacts_show`.  \n",
    "- **Usuarios Activos en Publicidad y Tips:** Tienen una conversión del 45.83% en `contacts_show`.  \n",
    "- **Usuarios Moderados:** Tienen una conversión del 22.26% en `contacts_show`.\n"
   ]
  },
  {
   "cell_type": "markdown",
   "metadata": {},
   "source": [
    "<div class=\"alert alert-block alert-success\">\n",
    "<b>Comentario del revisor</b> <a class=\"tocSkip\"></a>\n",
    "Has realizado un análisis detallado de las métricas clave por segmento de usuario. Este enfoque proporciona insights valiosos sobre el comportamiento de los diferentes grupos de usuarios.\n",
    "</div>\n"
   ]
  },
  {
   "cell_type": "markdown",
   "metadata": {},
   "source": [
    "\n",
    "## Prueba de Hipótesis Estadísticas:"
   ]
  },
  {
   "cell_type": "markdown",
   "metadata": {},
   "source": [
    "\n",
    "### Hipótesis sobre la conversión en contacts_show entre bing y google:"
   ]
  },
  {
   "cell_type": "markdown",
   "metadata": {},
   "source": [
    "En esta sección, formularemos y probaremos hipótesis estadísticas sobre los datos del dataset. Nos centraremos en dos hipótesis principales:\n",
    "\n",
    "1. **Diferencia en la Conversión en Vistas de Información de Contacto entre Usuarios que Descargaron la Aplicación de Bing y Google.**\n",
    "2. **Hipótesis Estadística Adicional Basada en los Datos del Dataset.**\n",
    "\n",
    "**Hipótesis 1: Diferencia en la Conversión en Vistas de Información de Contacto entre Bing y Google**\n",
    "\n",
    "Formularemos la siguiente hipótesis:\n",
    "\n",
    "- **Hipótesis Nula (H0)**: No hay diferencia en la tasa de conversión en vistas de información de contacto entre usuarios que descargaron la aplicación de Bing y de Google.\n",
    "- **Hipótesis Alternativa (H1)**: Hay una diferencia en la tasa de conversión en vistas de información de contacto entre usuarios que descargaron la aplicación de Bing y de Google.\n",
    "\n",
    "**Hipótesis 2: Hipótesis Estadística Adicional Basada en los Datos del Dataset**\n",
    "\n",
    "Formularemos otra hipótesis basada en los datos disponibles. Por ejemplo, podríamos probar si hay una diferencia en el tiempo promedio dedicado a la aplicación entre usuarios que descargaron la aplicación de diferentes fuentes.\n",
    "\n",
    "- **Hipótesis Nula (H0)**: No hay diferencia en el tiempo promedio dedicado a la aplicación entre usuarios que descargaron la aplicación de diferentes fuentes.\n",
    "- **Hipótesis Alternativa (H1)**: Hay una diferencia en el tiempo promedio dedicado a la aplicación entre usuarios que descargaron la aplicación de diferentes fuentes."
   ]
  },
  {
   "cell_type": "code",
   "execution_count": 39,
   "metadata": {},
   "outputs": [],
   "source": [
    "# Filtramos los eventos de vistas de información de contacto\n",
    "contacts_viewed = fusion[fusion['event_name'].isin(['contacts_show', 'show_contacts'])]\n"
   ]
  },
  {
   "cell_type": "code",
   "execution_count": 40,
   "metadata": {},
   "outputs": [],
   "source": [
    "# Contamos las vistas de información de contacto por usuario y fuente\n",
    "contacts_viewed_by_source = contacts_viewed.groupby('source')['user_id'].nunique()"
   ]
  },
  {
   "cell_type": "code",
   "execution_count": 41,
   "metadata": {},
   "outputs": [
    {
     "name": "stdout",
     "output_type": "stream",
     "text": [
      "Tasa de conversión por fuente:\n",
      "source\n",
      "bing      0.247156\n",
      "google    0.243578\n",
      "other     0.185366\n",
      "Name: user_id, dtype: float64\n",
      "Resultados de la prueba de proporciones z:\n",
      "Z-Estadístico: 0.2218487822311678\n",
      "P-valor: 0.8244316027993777\n",
      "\n",
      "No rechazamos la hipótesis nula: No hay una diferencia significativa en la tasa de conversión en vistas de información de contacto entre Bing y Google.\n"
     ]
    }
   ],
   "source": [
    "# Total de usuarios por fuente\n",
    "total_users_by_source = fusion.groupby('source')['user_id'].nunique()\n",
    "\n",
    "# Calculamos la tasa de conversión por fuente\n",
    "conversion_rate_by_source = contacts_viewed_by_source / total_users_by_source\n",
    "\n",
    "print(\"Tasa de conversión por fuente:\")\n",
    "print(conversion_rate_by_source)\n",
    "\n",
    "# Prueba de proporciones Z\n",
    "count = np.array([contacts_viewed_by_source['bing'], contacts_viewed_by_source['google']])\n",
    "nobs = np.array([total_users_by_source['bing'], total_users_by_source['google']])\n",
    "z_stat, p_value = proportions_ztest(count, nobs)\n",
    "\n",
    "\n",
    "print(f\"Resultados de la prueba de proporciones z:\")\n",
    "print(f\"Z-Estadístico: {z_stat}\")\n",
    "print(f\"P-valor: {p_value}\")\n",
    "\n",
    "\n",
    "# Interpretación del P-valor\n",
    "alpha = 0.05\n",
    "if p_value < alpha:\n",
    "    print(\"\\nRechazamos la hipótesis nula: Hay una diferencia significativa en la tasa de conversión en vistas de información de contacto entre Bing y Google.\")\n",
    "else:\n",
    "    print(\"\\nNo rechazamos la hipótesis nula: No hay una diferencia significativa en la tasa de conversión en vistas de información de contacto entre Bing y Google.\")"
   ]
  },
  {
   "cell_type": "markdown",
   "metadata": {},
   "source": [
    "Para probar la primera hipótesis sobre la diferencia en la conversión en vistas de información de contacto entre usuarios que descargaron la aplicación de Bing y Google, realizamos una prueba de proporciones z. Los resultados muestran que el P-valor es superior al nivel de significancia de 0.05, lo que significa que no rechazamos la hipótesis nula. Por lo tanto, concluimos que no hay una diferencia significativa en la tasa de conversión en vistas de información de contacto entre Bing y Google."
   ]
  },
  {
   "cell_type": "code",
   "execution_count": 42,
   "metadata": {},
   "outputs": [
    {
     "name": "stdout",
     "output_type": "stream",
     "text": [
      "Resultados de la prueba t de Student entre Bing y Google:\n",
      "T-Estadístico: -0.6433759167566873\n",
      "P-valor: 0.5200284013900595\n",
      "\n",
      "No rechazamos la hipótesis nula: No hay una diferencia significativa en el tiempo promedio dedicado a la aplicación entre usuarios de Bing y Google.\n",
      "Resultados de la prueba t de Student entre Bing y Other:\n",
      "T-Estadístico: -1.114640341676704\n",
      "P-valor: 0.2650892876589582\n",
      "\n",
      "No rechazamos la hipótesis nula: No hay una diferencia significativa en el tiempo promedio dedicado a la aplicación entre usuarios de Bing y Other.\n"
     ]
    }
   ],
   "source": [
    "# Calculamos el tiempo dedicado a la aplicación por usuario\n",
    "fusion['event_date'] = fusion['event_time'].dt.date\n",
    "user_time_spent = fusion.groupby(['user_id', 'source'])['event_date'].nunique().reset_index()\n",
    "\n",
    "# Creamos grupos de tiempo dedicado según la fuente de descarga\n",
    "time_spent_bing = user_time_spent[user_time_spent['source'] == 'bing']['event_date']\n",
    "time_spent_google = user_time_spent[user_time_spent['source'] == 'google']['event_date']\n",
    "time_spent_other = user_time_spent[user_time_spent['source'] == 'other']['event_date']\n",
    "\n",
    "# Realizamos la prueba t de Student\n",
    "t_stat_bing_google, p_val_bing_google = ttest_ind(time_spent_bing, time_spent_google)\n",
    "\n",
    "print(f\"Resultados de la prueba t de Student entre Bing y Google:\")\n",
    "print(f\"T-Estadístico: {t_stat_bing_google}\")\n",
    "print(f\"P-valor: {p_val_bing_google}\")\n",
    "\n",
    "# Interpretación del P-valor\n",
    "if p_val_bing_google < alpha:\n",
    "    print(\"\\nRechazamos la hipótesis nula: Hay una diferencia significativa en el tiempo promedio dedicado a la aplicación entre usuarios de Bing y Google.\")\n",
    "else:\n",
    "    print(\"\\nNo rechazamos la hipótesis nula: No hay una diferencia significativa en el tiempo promedio dedicado a la aplicación entre usuarios de Bing y Google.\")\n",
    "\n",
    "# Realizamos la prueba t de Student entre Bing y Other\n",
    "t_stat_bing_other, p_val_bing_other = ttest_ind(time_spent_bing, time_spent_other)\n",
    "\n",
    "\n",
    "print(f\"Resultados de la prueba t de Student entre Bing y Other:\")\n",
    "print(f\"T-Estadístico: {t_stat_bing_other}\")\n",
    "print(f\"P-valor: {p_val_bing_other}\")\n",
    "\n",
    "# Interpretación del P-valor\n",
    "if p_val_bing_other < alpha:\n",
    "    print(\"\\nRechazamos la hipótesis nula: Hay una diferencia significativa en el tiempo promedio dedicado a la aplicación entre usuarios de Bing y Other.\")\n",
    "else:\n",
    "    print(\"\\nNo rechazamos la hipótesis nula: No hay una diferencia significativa en el tiempo promedio dedicado a la aplicación entre usuarios de Bing y Other.\")"
   ]
  },
  {
   "cell_type": "markdown",
   "metadata": {},
   "source": [
    "Para la segunda hipótesis, realizamos una prueba t de Student para comparar el tiempo promedio dedicado a la aplicación entre usuarios de diferentes fuentes de descarga. Primero, comparamos entre Bing y Google, y luego entre Bing y Other. Los resultados de ambas pruebas t de Student muestran que los P-valores son superiores al nivel de significancia de 0.05, lo que significa que no rechazamos la hipótesis nula en ambos casos. Esto indica que no hay una diferencia significativa en el tiempo promedio dedicado a la aplicación entre usuarios de diferentes fuentes de descarga."
   ]
  },
  {
   "cell_type": "markdown",
   "metadata": {},
   "source": [
    "<div class=\"alert alert-block alert-success\">\n",
    "<b>Comentario del revisor</b> <a class=\"tocSkip\"></a>\n",
    "Buen trabajo en la formulación y prueba de hipótesis relevantes para el negocio. Has aplicado correctamente las pruebas estadísticas y has interpretado los resultados de manera adecuada.\n",
    "</div>\n",
    "<div class=\"alert alert-block alert-warning\">\n",
    "<b>Comentario del revisor</b> <a class=\"tocSkip\"></a>\n",
    "Podrías considerar realizar pruebas adicionales para comparar el comportamiento entre los diferentes segmentos de usuarios que identificaste en la sección de clustering.\n",
    "</div>"
   ]
  },
  {
   "cell_type": "markdown",
   "metadata": {},
   "source": [
    "## Conclusiones y Recomendaciones:"
   ]
  },
  {
   "cell_type": "markdown",
   "metadata": {},
   "source": [
    "\n",
    "\n",
    "\n",
    "\n",
    "\n",
    "\n",
    "\n",
    "\n",
    "\n",
    "\n"
   ]
  },
  {
   "cell_type": "markdown",
   "metadata": {},
   "source": [
    "\n",
    "**1. Segmentación de Usuarios:**\n",
    " \n",
    "Las etiquetas asignadas a los usuarios en función de los clusters son las siguientes:\n",
    "\n",
    "- **Usuarios de Contacto Intensivo:**  \n",
    "  Usuarios que interactúan intensivamente con eventos de contacto como `contacts_show`, `show_contacts`, y `tips_show`.\n",
    "\n",
    "- **Usuarios Moderados:**  \n",
    "  Usuarios que tienen un uso equilibrado y moderado de varios eventos.\n",
    "\n",
    "- **Usuarios Activos en Publicidad y Tips:**  \n",
    "  Usuarios que muestran una alta actividad en eventos relacionados con publicidad (`advert_open`) y tips (`tips_show`).\n",
    "\n",
    "Estas etiquetas reflejan el comportamiento predominante de cada grupo de usuarios y pueden ser utilizadas para personalizar estrategias de marketing, contenidos, y mejoras en la aplicación. Estos clusters pueden ser utilizados para:\n",
    "\n",
    "- **Personalizar Contenidos y Ofertas:** Adaptar la experiencia de la aplicación en función del comportamiento de cada cluster.\n",
    "- **Análisis de Retención y Conversión:** Identificar qué segmentos tienen mejor retención o tasas de conversión y planificar estrategias de mejora.\n",
    "- **Campañas de Marketing:** Desa\n",
    "\n",
    "**2. Pruebas de Hipótesis:**\n",
    "- **Hipótesis 1:** Diferencia en la Conversión en Vistas de Información de Contacto entre Usuarios de Bing y Google.\n",
    "  - No se rechazó la hipótesis nula (P-valor: 0.8244). No hay una diferencia significativa en la tasa de conversión entre usuarios de Bing y Google.\n",
    "- **Hipótesis 2:** Diferencia en el Tiempo Promedio Dedicado a la Aplicación entre Usuarios de Diferentes Fuentes.\n",
    "  - Comparación entre Bing y Google: No se rechazó la hipótesis nula (P-valor: 0.5200). No hay una diferencia significativa en el tiempo promedio dedicado a la aplicación entre usuarios de Bing y Google.\n",
    "  - Comparación entre Bing y Other: No se rechazó la hipótesis nula (P-valor: 0.2651). No hay una diferencia significativa en el tiempo promedio dedicado a la aplicación entre usuarios de Bing y otras fuentes.\n",
    "\n",
    "**3. Análisis de Métricas de Negocio:**\n",
    "\n",
    "**Resumen del Análisis de Métricas del Producto**\n",
    "\n",
    "**Tasa de Retención entre los Segmentos:**  \n",
    "- **Usuarios de Contacto Intensivo:** Tienen la tasa de retención más alta (100%).  \n",
    "- **Usuarios Activos en Publicidad y Tips:** Tienen una tasa de retención de 71.88%.  \n",
    "- **Usuarios Moderados:** Tienen la tasa de retención más baja (20.97%).  \n",
    "\n",
    "**Tiempo Dedicado a la Aplicación entre los Segmentos:**  \n",
    "- **Usuarios de Contacto Intensivo:** Dedican en promedio 34,686.93 minutos.  \n",
    "- **Usuarios Activos en Publicidad y Tips:** Dedican en promedio 15,652.56 minutos.  \n",
    "- **Usuarios Moderados:** Dedican en promedio 3,515.65 minutos.  \n",
    "\n",
    "**Frecuencia de Ocurrencia de Eventos entre los Segmentos:**  \n",
    "- **Usuarios Activos en Publicidad y Tips:** Tienen una alta frecuencia de eventos relacionados con publicidad (`advert_open`) y tips (`tips_show`).  \n",
    "- **Usuarios Moderados:** Tienen una frecuencia equilibrada de diversos eventos.  \n",
    "- **Usuarios de Contacto Intensivo:** Tienen una alta frecuencia de eventos de contacto (`contacts_show`, `show_contacts`).  \n",
    "\n",
    "**Conversión en `contacts_show` entre los Segmentos:**  \n",
    "- **Usuarios de Contacto Intensivo:** Tienen una conversión del 100% en `contacts_show`.  \n",
    "- **Usuarios Activos en Publicidad y Tips:** Tienen una conversión del 45.83% en `contacts_show`.  \n",
    "- **Usuarios Moderados:** Tienen una conversión del 22.26% en `contacts_show`.\n",
    "\n",
    "\n",
    "### Recomendaciones\n",
    "\n",
    "\n",
    "**1. Implementar Estrategias de Retención Personalizadas:**  \n",
    "- Diseñar estrategias específicas para retener a cada grupo de usuarios. Por ejemplo, ofrecer recomendaciones personalizadas y notificaciones push para el Cluster 1, que interactúa con anuncios recomendados y fotos.\n",
    "\n",
    "**2. Continuar Monitoreando las Métricas Clave:**  \n",
    "- Mantener un seguimiento constante de métricas como la tasa de retención, el tiempo dedicado a la aplicación y la frecuencia de eventos. Esto permitirá detectar posibles cambios en el comportamiento de los usuarios y ajustar las estrategias según sea necesario.\n",
    "\n",
    "**3. Realizar Estudios Adicionales:**  \n",
    "- Llevar a cabo investigaciones adicionales para comprender mejor las necesidades y preferencias de los usuarios en cada cluster. Encuestas, entrevistas y análisis de retroalimentación pueden proporcionar información valiosa para mejorar la experiencia del usuario.\n",
    "\n",
    "**4. Mejorar la Experiencia del Usuario:**  \n",
    "- Optimizar la interfaz de usuario y las funcionalidades de la aplicación basándose en los patrones de comportamiento observados. Por ejemplo, facilitar el acceso a la función `contacts_show` para aumentar la conversión en este evento.\n",
    "\n",
    "**5. Explorar Nuevas Fuentes de Adquisición:**  \n",
    "- Dado que no se observaron diferencias significativas en las métricas clave entre las fuentes de descarga (Bing, Google, Other), se sugiere explorar nuevas fuentes de adquisición de usuarios y evaluar su impacto en el comportamiento y la retención.\n",
    "\n",
    "Estas conclusiones y recomendaciones proporcionan una base sólida para tomar decisiones informadas y mejorar la estrategia de negocio de la aplicación Trash to Treasure.\n"
   ]
  },
  {
   "cell_type": "markdown",
   "metadata": {},
   "source": [
    "<div class=\"alert alert-block alert-success\"> <b>Comentario del revisor</b> <a class=\"tocSkip\"></a> Tus conclusiones resumen bien los hallazgos principales del análisis y tus recomendaciones son relevantes para el negocio. </div> <div class=\"alert alert-block alert-warning\"> <b>Comentario del revisor</b> <a class=\"tocSkip\"></a> Falta una discusión más detallada sobre cómo implementar específicamente las estrategias de retención personalizadas para cada segmento de usuarios. Considera proporcionar ejemplos concretos de acciones que la empresa podría tomar para cada grupo de usuarios. </div> <div class=\"alert alert-block alert-warning\"> <b>Comentario del revisor</b> <a class=\"tocSkip\"></a> Podrías considerar agregar una sección sobre limitaciones del estudio y posibles direcciones para futuras investigaciones. Esto demostraría una comprensión más profunda de las implicaciones y alcance de tu análisis. </div>\n"
   ]
  },
  {
   "cell_type": "code",
   "execution_count": null,
   "metadata": {},
   "outputs": [],
   "source": []
  }
 ],
 "metadata": {
  "ExecuteTimeLog": [
   {
    "duration": 15,
    "start_time": "2024-07-17T00:33:19.820Z"
   },
   {
    "duration": 8,
    "start_time": "2024-07-17T00:33:34.431Z"
   },
   {
    "duration": 8,
    "start_time": "2024-07-17T00:33:40.915Z"
   },
   {
    "duration": 5580,
    "start_time": "2024-07-17T00:34:19.167Z"
   },
   {
    "duration": 134,
    "start_time": "2024-07-17T00:34:29.223Z"
   },
   {
    "duration": 3,
    "start_time": "2024-07-17T00:34:39.926Z"
   },
   {
    "duration": 3,
    "start_time": "2024-07-17T00:35:35.534Z"
   },
   {
    "duration": 13,
    "start_time": "2024-07-17T00:35:51.565Z"
   },
   {
    "duration": 22,
    "start_time": "2024-07-17T00:36:00.259Z"
   },
   {
    "duration": 17,
    "start_time": "2024-07-17T00:36:09.456Z"
   },
   {
    "duration": 40,
    "start_time": "2024-07-17T00:36:18.172Z"
   },
   {
    "duration": 5,
    "start_time": "2024-07-17T00:36:26.445Z"
   },
   {
    "duration": 10,
    "start_time": "2024-07-17T00:36:35.406Z"
   },
   {
    "duration": 24,
    "start_time": "2024-07-17T00:36:45.641Z"
   },
   {
    "duration": 20,
    "start_time": "2024-07-17T00:36:54.746Z"
   },
   {
    "duration": 11,
    "start_time": "2024-07-17T00:37:04.655Z"
   },
   {
    "duration": 6,
    "start_time": "2024-07-17T00:37:16.278Z"
   },
   {
    "duration": 10,
    "start_time": "2024-07-17T00:37:42.794Z"
   },
   {
    "duration": 13,
    "start_time": "2024-07-17T00:37:50.541Z"
   },
   {
    "duration": 9,
    "start_time": "2024-07-17T00:38:00.693Z"
   },
   {
    "duration": 10,
    "start_time": "2024-07-17T00:38:13.894Z"
   },
   {
    "duration": 4,
    "start_time": "2024-07-17T00:38:24.732Z"
   },
   {
    "duration": 10,
    "start_time": "2024-07-17T00:38:37.590Z"
   },
   {
    "duration": 52,
    "start_time": "2024-07-17T00:39:00.732Z"
   },
   {
    "duration": 22,
    "start_time": "2024-07-17T00:39:09.180Z"
   },
   {
    "duration": 10,
    "start_time": "2024-07-17T00:39:17.707Z"
   },
   {
    "duration": 5,
    "start_time": "2024-07-17T00:39:26.160Z"
   },
   {
    "duration": 6,
    "start_time": "2024-07-17T00:40:37.180Z"
   },
   {
    "duration": 5,
    "start_time": "2024-07-17T00:41:01.017Z"
   },
   {
    "duration": 11,
    "start_time": "2024-07-17T00:41:27.103Z"
   },
   {
    "duration": 12,
    "start_time": "2024-07-17T00:41:33.539Z"
   },
   {
    "duration": 17,
    "start_time": "2024-07-17T00:42:51.999Z"
   },
   {
    "duration": 5,
    "start_time": "2024-07-17T00:43:37.103Z"
   },
   {
    "duration": 8,
    "start_time": "2024-07-17T00:44:01.323Z"
   },
   {
    "duration": 5475,
    "start_time": "2024-07-18T00:21:44.768Z"
   },
   {
    "duration": 156,
    "start_time": "2024-07-18T00:21:50.246Z"
   },
   {
    "duration": 15,
    "start_time": "2024-07-18T00:21:50.405Z"
   },
   {
    "duration": 23,
    "start_time": "2024-07-18T00:21:50.424Z"
   },
   {
    "duration": 25,
    "start_time": "2024-07-18T00:21:50.453Z"
   },
   {
    "duration": 41,
    "start_time": "2024-07-18T00:21:50.481Z"
   },
   {
    "duration": 4,
    "start_time": "2024-07-18T00:21:50.525Z"
   },
   {
    "duration": 10,
    "start_time": "2024-07-18T00:21:50.567Z"
   },
   {
    "duration": 25,
    "start_time": "2024-07-18T00:21:50.581Z"
   },
   {
    "duration": 19,
    "start_time": "2024-07-18T00:21:50.609Z"
   },
   {
    "duration": 45,
    "start_time": "2024-07-18T00:21:50.631Z"
   },
   {
    "duration": 10,
    "start_time": "2024-07-18T00:21:50.680Z"
   },
   {
    "duration": 13,
    "start_time": "2024-07-18T00:21:50.693Z"
   },
   {
    "duration": 9,
    "start_time": "2024-07-18T00:21:50.711Z"
   },
   {
    "duration": 50,
    "start_time": "2024-07-18T00:21:50.723Z"
   },
   {
    "duration": 4,
    "start_time": "2024-07-18T00:21:50.776Z"
   },
   {
    "duration": 11,
    "start_time": "2024-07-18T00:21:50.783Z"
   },
   {
    "duration": 83,
    "start_time": "2024-07-18T00:21:50.797Z"
   },
   {
    "duration": 19,
    "start_time": "2024-07-18T00:21:50.883Z"
   },
   {
    "duration": 11,
    "start_time": "2024-07-18T00:21:50.905Z"
   },
   {
    "duration": 6,
    "start_time": "2024-07-18T00:21:50.918Z"
   },
   {
    "duration": 50,
    "start_time": "2024-07-18T00:21:50.927Z"
   },
   {
    "duration": 8,
    "start_time": "2024-07-18T00:21:50.980Z"
   },
   {
    "duration": 491,
    "start_time": "2024-07-18T00:27:19.246Z"
   },
   {
    "duration": 27,
    "start_time": "2024-07-18T00:27:29.588Z"
   },
   {
    "duration": 32,
    "start_time": "2024-07-18T00:28:48.784Z"
   },
   {
    "duration": 396,
    "start_time": "2024-07-18T00:29:37.392Z"
   },
   {
    "duration": 356,
    "start_time": "2024-07-18T00:29:49.505Z"
   },
   {
    "duration": 23,
    "start_time": "2024-07-18T00:49:18.287Z"
   },
   {
    "duration": 321,
    "start_time": "2024-07-18T00:55:22.843Z"
   },
   {
    "duration": 1577,
    "start_time": "2024-07-18T00:55:30.574Z"
   },
   {
    "duration": 107,
    "start_time": "2024-07-18T00:55:32.156Z"
   },
   {
    "duration": 16,
    "start_time": "2024-07-18T00:55:32.267Z"
   },
   {
    "duration": 24,
    "start_time": "2024-07-18T00:55:32.286Z"
   },
   {
    "duration": 16,
    "start_time": "2024-07-18T00:55:32.315Z"
   },
   {
    "duration": 44,
    "start_time": "2024-07-18T00:55:32.368Z"
   },
   {
    "duration": 4,
    "start_time": "2024-07-18T00:55:32.415Z"
   },
   {
    "duration": 45,
    "start_time": "2024-07-18T00:55:32.423Z"
   },
   {
    "duration": 26,
    "start_time": "2024-07-18T00:55:32.471Z"
   },
   {
    "duration": 20,
    "start_time": "2024-07-18T00:55:32.500Z"
   },
   {
    "duration": 11,
    "start_time": "2024-07-18T00:55:32.523Z"
   },
   {
    "duration": 10,
    "start_time": "2024-07-18T00:55:32.568Z"
   },
   {
    "duration": 13,
    "start_time": "2024-07-18T00:55:32.581Z"
   },
   {
    "duration": 9,
    "start_time": "2024-07-18T00:55:32.600Z"
   },
   {
    "duration": 9,
    "start_time": "2024-07-18T00:55:32.612Z"
   },
   {
    "duration": 5,
    "start_time": "2024-07-18T00:55:32.669Z"
   },
   {
    "duration": 10,
    "start_time": "2024-07-18T00:55:32.678Z"
   },
   {
    "duration": 84,
    "start_time": "2024-07-18T00:55:32.691Z"
   },
   {
    "duration": 19,
    "start_time": "2024-07-18T00:55:32.777Z"
   },
   {
    "duration": 10,
    "start_time": "2024-07-18T00:55:32.799Z"
   },
   {
    "duration": 6,
    "start_time": "2024-07-18T00:55:32.812Z"
   },
   {
    "duration": 53,
    "start_time": "2024-07-18T00:55:32.821Z"
   },
   {
    "duration": 12,
    "start_time": "2024-07-18T00:55:32.877Z"
   },
   {
    "duration": 31,
    "start_time": "2024-07-18T00:55:32.892Z"
   },
   {
    "duration": 446,
    "start_time": "2024-07-18T00:55:32.926Z"
   },
   {
    "duration": 29,
    "start_time": "2024-07-18T00:55:33.376Z"
   },
   {
    "duration": 158263,
    "start_time": "2024-07-18T00:55:33.408Z"
   },
   {
    "duration": 26,
    "start_time": "2024-07-18T01:02:12.953Z"
   },
   {
    "duration": 148367,
    "start_time": "2024-07-18T01:02:26.846Z"
   },
   {
    "duration": 21,
    "start_time": "2024-07-18T01:04:59.745Z"
   },
   {
    "duration": 638,
    "start_time": "2024-07-18T01:05:03.270Z"
   },
   {
    "duration": 1630,
    "start_time": "2024-07-18T01:05:14.539Z"
   },
   {
    "duration": 110,
    "start_time": "2024-07-18T01:05:16.176Z"
   },
   {
    "duration": 15,
    "start_time": "2024-07-18T01:05:16.289Z"
   },
   {
    "duration": 23,
    "start_time": "2024-07-18T01:05:16.307Z"
   },
   {
    "duration": 46,
    "start_time": "2024-07-18T01:05:16.334Z"
   },
   {
    "duration": 46,
    "start_time": "2024-07-18T01:05:16.383Z"
   },
   {
    "duration": 4,
    "start_time": "2024-07-18T01:05:16.432Z"
   },
   {
    "duration": 12,
    "start_time": "2024-07-18T01:05:16.467Z"
   },
   {
    "duration": 28,
    "start_time": "2024-07-18T01:05:16.483Z"
   },
   {
    "duration": 54,
    "start_time": "2024-07-18T01:05:16.514Z"
   },
   {
    "duration": 13,
    "start_time": "2024-07-18T01:05:16.571Z"
   },
   {
    "duration": 11,
    "start_time": "2024-07-18T01:05:16.587Z"
   },
   {
    "duration": 14,
    "start_time": "2024-07-18T01:05:16.602Z"
   },
   {
    "duration": 51,
    "start_time": "2024-07-18T01:05:16.622Z"
   },
   {
    "duration": 9,
    "start_time": "2024-07-18T01:05:16.676Z"
   },
   {
    "duration": 5,
    "start_time": "2024-07-18T01:05:16.688Z"
   },
   {
    "duration": 11,
    "start_time": "2024-07-18T01:05:16.696Z"
   },
   {
    "duration": 114,
    "start_time": "2024-07-18T01:05:16.711Z"
   },
   {
    "duration": 26,
    "start_time": "2024-07-18T01:05:16.828Z"
   },
   {
    "duration": 11,
    "start_time": "2024-07-18T01:05:16.870Z"
   },
   {
    "duration": 6,
    "start_time": "2024-07-18T01:05:16.885Z"
   },
   {
    "duration": 25,
    "start_time": "2024-07-18T01:05:16.894Z"
   },
   {
    "duration": 45,
    "start_time": "2024-07-18T01:05:16.924Z"
   },
   {
    "duration": 28,
    "start_time": "2024-07-18T01:05:16.972Z"
   },
   {
    "duration": 433,
    "start_time": "2024-07-18T01:05:17.003Z"
   },
   {
    "duration": 23,
    "start_time": "2024-07-18T01:05:17.440Z"
   },
   {
    "duration": 1148,
    "start_time": "2024-07-18T01:05:17.469Z"
   },
   {
    "duration": 89,
    "start_time": "2024-07-18T01:05:33.404Z"
   },
   {
    "duration": 508,
    "start_time": "2024-07-18T01:06:15.953Z"
   },
   {
    "duration": 5170,
    "start_time": "2024-07-19T17:22:00.843Z"
   },
   {
    "duration": 160,
    "start_time": "2024-07-19T17:22:06.016Z"
   },
   {
    "duration": 17,
    "start_time": "2024-07-19T17:22:06.178Z"
   },
   {
    "duration": 35,
    "start_time": "2024-07-19T17:22:06.199Z"
   },
   {
    "duration": 20,
    "start_time": "2024-07-19T17:22:06.236Z"
   },
   {
    "duration": 40,
    "start_time": "2024-07-19T17:22:06.259Z"
   },
   {
    "duration": 32,
    "start_time": "2024-07-19T17:22:06.302Z"
   },
   {
    "duration": 11,
    "start_time": "2024-07-19T17:22:06.337Z"
   },
   {
    "duration": 25,
    "start_time": "2024-07-19T17:22:06.351Z"
   },
   {
    "duration": 57,
    "start_time": "2024-07-19T17:22:06.383Z"
   },
   {
    "duration": 10,
    "start_time": "2024-07-19T17:22:06.444Z"
   },
   {
    "duration": 9,
    "start_time": "2024-07-19T17:22:06.458Z"
   },
   {
    "duration": 13,
    "start_time": "2024-07-19T17:22:06.471Z"
   },
   {
    "duration": 49,
    "start_time": "2024-07-19T17:22:06.487Z"
   },
   {
    "duration": 9,
    "start_time": "2024-07-19T17:22:06.539Z"
   },
   {
    "duration": 4,
    "start_time": "2024-07-19T17:22:06.551Z"
   },
   {
    "duration": 10,
    "start_time": "2024-07-19T17:22:06.559Z"
   },
   {
    "duration": 95,
    "start_time": "2024-07-19T17:22:06.572Z"
   },
   {
    "duration": 22,
    "start_time": "2024-07-19T17:22:06.670Z"
   },
   {
    "duration": 9,
    "start_time": "2024-07-19T17:22:06.695Z"
   },
   {
    "duration": 5,
    "start_time": "2024-07-19T17:22:06.734Z"
   },
   {
    "duration": 16,
    "start_time": "2024-07-19T17:22:06.743Z"
   },
   {
    "duration": 8,
    "start_time": "2024-07-19T17:22:06.763Z"
   },
   {
    "duration": 63,
    "start_time": "2024-07-19T17:22:06.774Z"
   },
   {
    "duration": 513,
    "start_time": "2024-07-19T17:22:06.840Z"
   },
   {
    "duration": 21,
    "start_time": "2024-07-19T17:22:07.357Z"
   },
   {
    "duration": 472,
    "start_time": "2024-07-19T17:22:07.381Z"
   },
   {
    "duration": 429,
    "start_time": "2024-07-19T17:22:07.859Z"
   },
   {
    "duration": 61,
    "start_time": "2024-07-19T17:30:44.899Z"
   },
   {
    "duration": 29,
    "start_time": "2024-07-19T17:30:51.733Z"
   },
   {
    "duration": 37,
    "start_time": "2024-07-19T17:30:59.037Z"
   },
   {
    "duration": 2005,
    "start_time": "2024-07-19T17:35:07.908Z"
   },
   {
    "duration": 35,
    "start_time": "2024-07-19T17:36:38.833Z"
   },
   {
    "duration": 34,
    "start_time": "2024-07-19T17:36:47.604Z"
   },
   {
    "duration": 4,
    "start_time": "2024-07-19T17:38:11.475Z"
   },
   {
    "duration": 6,
    "start_time": "2024-07-19T17:38:17.897Z"
   },
   {
    "duration": 9,
    "start_time": "2024-07-19T17:38:44.885Z"
   },
   {
    "duration": 296,
    "start_time": "2024-07-19T17:38:59.312Z"
   },
   {
    "duration": 30,
    "start_time": "2024-07-19T17:52:50.160Z"
   },
   {
    "duration": 28,
    "start_time": "2024-07-19T17:53:08.127Z"
   },
   {
    "duration": 30,
    "start_time": "2024-07-19T17:53:12.661Z"
   },
   {
    "duration": 243,
    "start_time": "2024-07-19T18:01:03.594Z"
   },
   {
    "duration": 512,
    "start_time": "2024-07-19T18:07:41.146Z"
   },
   {
    "duration": 139,
    "start_time": "2024-07-19T18:07:49.628Z"
   },
   {
    "duration": 64,
    "start_time": "2024-07-19T18:07:59.706Z"
   },
   {
    "duration": 94,
    "start_time": "2024-07-19T18:08:46.213Z"
   },
   {
    "duration": 60,
    "start_time": "2024-07-19T18:08:56.837Z"
   },
   {
    "duration": 350,
    "start_time": "2024-07-19T23:54:18.895Z"
   },
   {
    "duration": 5379,
    "start_time": "2024-07-19T23:54:27.244Z"
   },
   {
    "duration": 174,
    "start_time": "2024-07-19T23:54:32.629Z"
   },
   {
    "duration": 36,
    "start_time": "2024-07-19T23:54:32.805Z"
   },
   {
    "duration": 23,
    "start_time": "2024-07-19T23:54:32.844Z"
   },
   {
    "duration": 16,
    "start_time": "2024-07-19T23:54:32.872Z"
   },
   {
    "duration": 60,
    "start_time": "2024-07-19T23:54:32.891Z"
   },
   {
    "duration": 5,
    "start_time": "2024-07-19T23:54:32.954Z"
   },
   {
    "duration": 13,
    "start_time": "2024-07-19T23:54:32.962Z"
   },
   {
    "duration": 52,
    "start_time": "2024-07-19T23:54:32.981Z"
   },
   {
    "duration": 24,
    "start_time": "2024-07-19T23:54:33.036Z"
   },
   {
    "duration": 14,
    "start_time": "2024-07-19T23:54:33.064Z"
   },
   {
    "duration": 17,
    "start_time": "2024-07-19T23:54:33.112Z"
   },
   {
    "duration": 17,
    "start_time": "2024-07-19T23:54:33.132Z"
   },
   {
    "duration": 9,
    "start_time": "2024-07-19T23:54:33.155Z"
   },
   {
    "duration": 9,
    "start_time": "2024-07-19T23:54:33.166Z"
   },
   {
    "duration": 43,
    "start_time": "2024-07-19T23:54:33.178Z"
   },
   {
    "duration": 17,
    "start_time": "2024-07-19T23:54:33.227Z"
   },
   {
    "duration": 45,
    "start_time": "2024-07-19T23:54:33.247Z"
   },
   {
    "duration": 31,
    "start_time": "2024-07-19T23:54:33.295Z"
   },
   {
    "duration": 19,
    "start_time": "2024-07-19T23:54:33.329Z"
   },
   {
    "duration": 11,
    "start_time": "2024-07-19T23:54:33.353Z"
   },
   {
    "duration": 15,
    "start_time": "2024-07-19T23:54:33.367Z"
   },
   {
    "duration": 30,
    "start_time": "2024-07-19T23:54:33.385Z"
   },
   {
    "duration": 30,
    "start_time": "2024-07-19T23:54:33.417Z"
   },
   {
    "duration": 439,
    "start_time": "2024-07-19T23:54:33.450Z"
   },
   {
    "duration": 25,
    "start_time": "2024-07-19T23:54:33.892Z"
   },
   {
    "duration": 472,
    "start_time": "2024-07-19T23:54:33.920Z"
   },
   {
    "duration": 44,
    "start_time": "2024-07-19T23:54:34.397Z"
   },
   {
    "duration": 11,
    "start_time": "2024-07-19T23:54:34.444Z"
   },
   {
    "duration": 285,
    "start_time": "2024-07-19T23:54:34.458Z"
   },
   {
    "duration": 75,
    "start_time": "2024-07-19T23:54:34.747Z"
   },
   {
    "duration": 1217,
    "start_time": "2024-07-19T23:54:34.826Z"
   },
   {
    "duration": 297,
    "start_time": "2024-07-19T23:55:03.323Z"
   },
   {
    "duration": 31,
    "start_time": "2024-07-19T23:55:17.857Z"
   },
   {
    "duration": 3,
    "start_time": "2024-07-19T23:59:35.595Z"
   },
   {
    "duration": 195,
    "start_time": "2024-07-20T00:00:24.709Z"
   },
   {
    "duration": 335,
    "start_time": "2024-07-20T00:51:07.748Z"
   },
   {
    "duration": 5392,
    "start_time": "2024-07-20T00:51:18.509Z"
   },
   {
    "duration": 159,
    "start_time": "2024-07-20T00:51:23.905Z"
   },
   {
    "duration": 19,
    "start_time": "2024-07-20T00:51:24.069Z"
   },
   {
    "duration": 30,
    "start_time": "2024-07-20T00:51:24.093Z"
   },
   {
    "duration": 25,
    "start_time": "2024-07-20T00:51:24.135Z"
   },
   {
    "duration": 71,
    "start_time": "2024-07-20T00:51:24.163Z"
   },
   {
    "duration": 4,
    "start_time": "2024-07-20T00:51:24.239Z"
   },
   {
    "duration": 13,
    "start_time": "2024-07-20T00:51:24.248Z"
   },
   {
    "duration": 38,
    "start_time": "2024-07-20T00:51:24.266Z"
   },
   {
    "duration": 25,
    "start_time": "2024-07-20T00:51:24.333Z"
   },
   {
    "duration": 16,
    "start_time": "2024-07-20T00:51:24.361Z"
   },
   {
    "duration": 12,
    "start_time": "2024-07-20T00:51:24.380Z"
   },
   {
    "duration": 57,
    "start_time": "2024-07-20T00:51:24.396Z"
   },
   {
    "duration": 10,
    "start_time": "2024-07-20T00:51:24.457Z"
   },
   {
    "duration": 10,
    "start_time": "2024-07-20T00:51:24.472Z"
   },
   {
    "duration": 5,
    "start_time": "2024-07-20T00:51:24.486Z"
   },
   {
    "duration": 51,
    "start_time": "2024-07-20T00:51:24.495Z"
   },
   {
    "duration": 85,
    "start_time": "2024-07-20T00:51:24.549Z"
   },
   {
    "duration": 24,
    "start_time": "2024-07-20T00:51:24.638Z"
   },
   {
    "duration": 16,
    "start_time": "2024-07-20T00:51:24.665Z"
   },
   {
    "duration": 6,
    "start_time": "2024-07-20T00:51:24.688Z"
   },
   {
    "duration": 47,
    "start_time": "2024-07-20T00:51:24.698Z"
   },
   {
    "duration": 729,
    "start_time": "2024-07-20T00:51:24.749Z"
   },
   {
    "duration": 0,
    "start_time": "2024-07-20T00:51:25.484Z"
   },
   {
    "duration": 0,
    "start_time": "2024-07-20T00:51:25.486Z"
   },
   {
    "duration": 0,
    "start_time": "2024-07-20T00:51:25.488Z"
   },
   {
    "duration": 0,
    "start_time": "2024-07-20T00:51:25.492Z"
   },
   {
    "duration": 0,
    "start_time": "2024-07-20T00:51:25.494Z"
   },
   {
    "duration": 0,
    "start_time": "2024-07-20T00:51:25.498Z"
   },
   {
    "duration": 0,
    "start_time": "2024-07-20T00:51:25.501Z"
   },
   {
    "duration": 0,
    "start_time": "2024-07-20T00:51:25.532Z"
   },
   {
    "duration": 0,
    "start_time": "2024-07-20T00:51:25.535Z"
   },
   {
    "duration": 0,
    "start_time": "2024-07-20T00:51:25.538Z"
   },
   {
    "duration": 1592,
    "start_time": "2024-07-20T00:51:44.658Z"
   },
   {
    "duration": 109,
    "start_time": "2024-07-20T00:51:46.256Z"
   },
   {
    "duration": 18,
    "start_time": "2024-07-20T00:51:46.368Z"
   },
   {
    "duration": 47,
    "start_time": "2024-07-20T00:51:46.389Z"
   },
   {
    "duration": 23,
    "start_time": "2024-07-20T00:51:46.442Z"
   },
   {
    "duration": 82,
    "start_time": "2024-07-20T00:51:46.469Z"
   },
   {
    "duration": 5,
    "start_time": "2024-07-20T00:51:46.555Z"
   },
   {
    "duration": 14,
    "start_time": "2024-07-20T00:51:46.563Z"
   },
   {
    "duration": 56,
    "start_time": "2024-07-20T00:51:46.580Z"
   },
   {
    "duration": 28,
    "start_time": "2024-07-20T00:51:46.639Z"
   },
   {
    "duration": 12,
    "start_time": "2024-07-20T00:51:46.671Z"
   },
   {
    "duration": 45,
    "start_time": "2024-07-20T00:51:46.687Z"
   },
   {
    "duration": 14,
    "start_time": "2024-07-20T00:51:46.735Z"
   },
   {
    "duration": 10,
    "start_time": "2024-07-20T00:51:46.757Z"
   },
   {
    "duration": 10,
    "start_time": "2024-07-20T00:51:46.770Z"
   },
   {
    "duration": 3,
    "start_time": "2024-07-20T00:51:46.832Z"
   },
   {
    "duration": 10,
    "start_time": "2024-07-20T00:51:46.838Z"
   },
   {
    "duration": 80,
    "start_time": "2024-07-20T00:51:46.852Z"
   },
   {
    "duration": 22,
    "start_time": "2024-07-20T00:51:46.935Z"
   },
   {
    "duration": 11,
    "start_time": "2024-07-20T00:51:46.959Z"
   },
   {
    "duration": 6,
    "start_time": "2024-07-20T00:51:46.972Z"
   },
   {
    "duration": 54,
    "start_time": "2024-07-20T00:51:46.981Z"
   },
   {
    "duration": 29,
    "start_time": "2024-07-20T00:51:47.038Z"
   },
   {
    "duration": 14,
    "start_time": "2024-07-20T00:51:47.071Z"
   },
   {
    "duration": 466,
    "start_time": "2024-07-20T00:51:47.089Z"
   },
   {
    "duration": 29,
    "start_time": "2024-07-20T00:51:47.558Z"
   },
   {
    "duration": 550,
    "start_time": "2024-07-20T00:51:47.603Z"
   },
   {
    "duration": 77,
    "start_time": "2024-07-20T00:51:48.157Z"
   },
   {
    "duration": 14,
    "start_time": "2024-07-20T00:51:48.238Z"
   },
   {
    "duration": 33,
    "start_time": "2024-07-20T00:51:48.256Z"
   },
   {
    "duration": 249,
    "start_time": "2024-07-20T00:51:48.292Z"
   },
   {
    "duration": 262,
    "start_time": "2024-07-20T00:51:48.545Z"
   },
   {
    "duration": 79,
    "start_time": "2024-07-20T00:51:48.810Z"
   },
   {
    "duration": 35,
    "start_time": "2024-07-20T00:54:26.060Z"
   },
   {
    "duration": 10,
    "start_time": "2024-07-20T00:57:11.102Z"
   },
   {
    "duration": 14,
    "start_time": "2024-07-20T00:57:20.176Z"
   },
   {
    "duration": 199,
    "start_time": "2024-07-20T00:58:09.682Z"
   },
   {
    "duration": 343,
    "start_time": "2024-07-20T00:59:10.278Z"
   },
   {
    "duration": 15,
    "start_time": "2024-07-20T00:59:31.350Z"
   },
   {
    "duration": 319,
    "start_time": "2024-07-20T03:58:56.321Z"
   },
   {
    "duration": 5283,
    "start_time": "2024-07-20T03:59:03.881Z"
   },
   {
    "duration": 136,
    "start_time": "2024-07-20T03:59:09.168Z"
   },
   {
    "duration": 15,
    "start_time": "2024-07-20T03:59:09.307Z"
   },
   {
    "duration": 26,
    "start_time": "2024-07-20T03:59:09.324Z"
   },
   {
    "duration": 18,
    "start_time": "2024-07-20T03:59:09.354Z"
   },
   {
    "duration": 79,
    "start_time": "2024-07-20T03:59:09.375Z"
   },
   {
    "duration": 4,
    "start_time": "2024-07-20T03:59:09.457Z"
   },
   {
    "duration": 10,
    "start_time": "2024-07-20T03:59:09.465Z"
   },
   {
    "duration": 25,
    "start_time": "2024-07-20T03:59:09.478Z"
   },
   {
    "duration": 21,
    "start_time": "2024-07-20T03:59:09.531Z"
   },
   {
    "duration": 11,
    "start_time": "2024-07-20T03:59:09.555Z"
   },
   {
    "duration": 11,
    "start_time": "2024-07-20T03:59:09.569Z"
   },
   {
    "duration": 54,
    "start_time": "2024-07-20T03:59:09.583Z"
   },
   {
    "duration": 8,
    "start_time": "2024-07-20T03:59:09.645Z"
   },
   {
    "duration": 10,
    "start_time": "2024-07-20T03:59:09.656Z"
   },
   {
    "duration": 4,
    "start_time": "2024-07-20T03:59:09.671Z"
   },
   {
    "duration": 54,
    "start_time": "2024-07-20T03:59:09.679Z"
   },
   {
    "duration": 32,
    "start_time": "2024-07-20T03:59:09.736Z"
   },
   {
    "duration": 10,
    "start_time": "2024-07-20T03:59:09.772Z"
   },
   {
    "duration": 45,
    "start_time": "2024-07-20T03:59:09.785Z"
   },
   {
    "duration": 269,
    "start_time": "2024-07-20T03:59:09.833Z"
   },
   {
    "duration": 22,
    "start_time": "2024-07-20T03:59:10.108Z"
   },
   {
    "duration": 21,
    "start_time": "2024-07-20T03:59:10.133Z"
   },
   {
    "duration": 473,
    "start_time": "2024-07-20T03:59:10.158Z"
   },
   {
    "duration": 22,
    "start_time": "2024-07-20T03:59:10.634Z"
   },
   {
    "duration": 477,
    "start_time": "2024-07-20T03:59:10.659Z"
   },
   {
    "duration": 37,
    "start_time": "2024-07-20T03:59:11.139Z"
   },
   {
    "duration": 11,
    "start_time": "2024-07-20T03:59:11.179Z"
   },
   {
    "duration": 65,
    "start_time": "2024-07-20T03:59:11.193Z"
   },
   {
    "duration": 207,
    "start_time": "2024-07-20T03:59:11.260Z"
   },
   {
    "duration": 72,
    "start_time": "2024-07-20T03:59:11.470Z"
   },
   {
    "duration": 245,
    "start_time": "2024-07-20T03:59:51.621Z"
   },
   {
    "duration": 1591,
    "start_time": "2024-07-20T04:00:16.534Z"
   },
   {
    "duration": 102,
    "start_time": "2024-07-20T04:00:18.132Z"
   },
   {
    "duration": 15,
    "start_time": "2024-07-20T04:00:18.237Z"
   },
   {
    "duration": 21,
    "start_time": "2024-07-20T04:00:18.255Z"
   },
   {
    "duration": 16,
    "start_time": "2024-07-20T04:00:18.281Z"
   },
   {
    "duration": 43,
    "start_time": "2024-07-20T04:00:18.331Z"
   },
   {
    "duration": 10,
    "start_time": "2024-07-20T04:00:18.377Z"
   },
   {
    "duration": 13,
    "start_time": "2024-07-20T04:00:18.390Z"
   },
   {
    "duration": 34,
    "start_time": "2024-07-20T04:00:18.431Z"
   },
   {
    "duration": 24,
    "start_time": "2024-07-20T04:00:18.469Z"
   },
   {
    "duration": 34,
    "start_time": "2024-07-20T04:00:18.500Z"
   },
   {
    "duration": 12,
    "start_time": "2024-07-20T04:00:18.537Z"
   },
   {
    "duration": 13,
    "start_time": "2024-07-20T04:00:18.552Z"
   },
   {
    "duration": 8,
    "start_time": "2024-07-20T04:00:18.572Z"
   },
   {
    "duration": 53,
    "start_time": "2024-07-20T04:00:18.583Z"
   },
   {
    "duration": 4,
    "start_time": "2024-07-20T04:00:18.639Z"
   },
   {
    "duration": 11,
    "start_time": "2024-07-20T04:00:18.647Z"
   },
   {
    "duration": 27,
    "start_time": "2024-07-20T04:00:18.662Z"
   },
   {
    "duration": 46,
    "start_time": "2024-07-20T04:00:18.692Z"
   },
   {
    "duration": 18,
    "start_time": "2024-07-20T04:00:18.741Z"
   },
   {
    "duration": 455,
    "start_time": "2024-07-20T04:00:18.764Z"
   },
   {
    "duration": 0,
    "start_time": "2024-07-20T04:00:19.231Z"
   },
   {
    "duration": 0,
    "start_time": "2024-07-20T04:00:19.233Z"
   },
   {
    "duration": 0,
    "start_time": "2024-07-20T04:00:19.235Z"
   },
   {
    "duration": 0,
    "start_time": "2024-07-20T04:00:19.238Z"
   },
   {
    "duration": 0,
    "start_time": "2024-07-20T04:00:19.240Z"
   },
   {
    "duration": 0,
    "start_time": "2024-07-20T04:00:19.241Z"
   },
   {
    "duration": 0,
    "start_time": "2024-07-20T04:00:19.243Z"
   },
   {
    "duration": 0,
    "start_time": "2024-07-20T04:00:19.245Z"
   },
   {
    "duration": 0,
    "start_time": "2024-07-20T04:00:19.247Z"
   },
   {
    "duration": 0,
    "start_time": "2024-07-20T04:00:19.249Z"
   },
   {
    "duration": 261,
    "start_time": "2024-07-20T04:00:44.018Z"
   },
   {
    "duration": 233,
    "start_time": "2024-07-20T04:01:33.675Z"
   },
   {
    "duration": 246,
    "start_time": "2024-07-20T04:01:42.265Z"
   },
   {
    "duration": 232,
    "start_time": "2024-07-20T04:01:50.431Z"
   },
   {
    "duration": 327,
    "start_time": "2024-07-20T04:01:59.411Z"
   },
   {
    "duration": 1614,
    "start_time": "2024-07-20T04:02:41.402Z"
   },
   {
    "duration": 103,
    "start_time": "2024-07-20T04:02:43.030Z"
   },
   {
    "duration": 14,
    "start_time": "2024-07-20T04:02:43.136Z"
   },
   {
    "duration": 23,
    "start_time": "2024-07-20T04:02:43.153Z"
   },
   {
    "duration": 51,
    "start_time": "2024-07-20T04:02:43.182Z"
   },
   {
    "duration": 44,
    "start_time": "2024-07-20T04:02:43.236Z"
   },
   {
    "duration": 4,
    "start_time": "2024-07-20T04:02:43.283Z"
   },
   {
    "duration": 41,
    "start_time": "2024-07-20T04:02:43.291Z"
   },
   {
    "duration": 26,
    "start_time": "2024-07-20T04:02:43.334Z"
   },
   {
    "duration": 20,
    "start_time": "2024-07-20T04:02:43.363Z"
   },
   {
    "duration": 45,
    "start_time": "2024-07-20T04:02:43.385Z"
   },
   {
    "duration": 10,
    "start_time": "2024-07-20T04:02:43.433Z"
   },
   {
    "duration": 13,
    "start_time": "2024-07-20T04:02:43.446Z"
   },
   {
    "duration": 8,
    "start_time": "2024-07-20T04:02:43.465Z"
   },
   {
    "duration": 7,
    "start_time": "2024-07-20T04:02:43.477Z"
   },
   {
    "duration": 4,
    "start_time": "2024-07-20T04:02:43.531Z"
   },
   {
    "duration": 10,
    "start_time": "2024-07-20T04:02:43.538Z"
   },
   {
    "duration": 28,
    "start_time": "2024-07-20T04:02:43.551Z"
   },
   {
    "duration": 48,
    "start_time": "2024-07-20T04:02:43.581Z"
   },
   {
    "duration": 14,
    "start_time": "2024-07-20T04:02:43.632Z"
   },
   {
    "duration": 272,
    "start_time": "2024-07-20T04:02:43.649Z"
   },
   {
    "duration": 10,
    "start_time": "2024-07-20T04:02:43.932Z"
   },
   {
    "duration": 14,
    "start_time": "2024-07-20T04:02:43.946Z"
   },
   {
    "duration": 431,
    "start_time": "2024-07-20T04:02:43.964Z"
   },
   {
    "duration": 25,
    "start_time": "2024-07-20T04:02:44.398Z"
   },
   {
    "duration": 534,
    "start_time": "2024-07-20T04:02:44.427Z"
   },
   {
    "duration": 37,
    "start_time": "2024-07-20T04:02:44.964Z"
   },
   {
    "duration": 30,
    "start_time": "2024-07-20T04:02:45.003Z"
   },
   {
    "duration": 33,
    "start_time": "2024-07-20T04:02:45.036Z"
   },
   {
    "duration": 235,
    "start_time": "2024-07-20T04:02:45.071Z"
   },
   {
    "duration": 73,
    "start_time": "2024-07-20T04:02:45.309Z"
   },
   {
    "duration": 169,
    "start_time": "2024-07-20T04:05:52.868Z"
   },
   {
    "duration": 212,
    "start_time": "2024-07-20T04:06:09.039Z"
   },
   {
    "duration": 17,
    "start_time": "2024-07-20T04:15:29.261Z"
   },
   {
    "duration": 336,
    "start_time": "2024-07-23T01:33:19.409Z"
   },
   {
    "duration": 5335,
    "start_time": "2024-07-23T01:33:27.093Z"
   },
   {
    "duration": 172,
    "start_time": "2024-07-23T01:33:32.432Z"
   },
   {
    "duration": 17,
    "start_time": "2024-07-23T01:33:32.607Z"
   },
   {
    "duration": 28,
    "start_time": "2024-07-23T01:33:32.632Z"
   },
   {
    "duration": 20,
    "start_time": "2024-07-23T01:33:32.665Z"
   },
   {
    "duration": 76,
    "start_time": "2024-07-23T01:33:32.688Z"
   },
   {
    "duration": 7,
    "start_time": "2024-07-23T01:33:32.767Z"
   },
   {
    "duration": 15,
    "start_time": "2024-07-23T01:33:32.779Z"
   },
   {
    "duration": 56,
    "start_time": "2024-07-23T01:33:32.798Z"
   },
   {
    "duration": 26,
    "start_time": "2024-07-23T01:33:32.861Z"
   },
   {
    "duration": 20,
    "start_time": "2024-07-23T01:33:32.890Z"
   },
   {
    "duration": 25,
    "start_time": "2024-07-23T01:33:32.914Z"
   },
   {
    "duration": 15,
    "start_time": "2024-07-23T01:33:32.942Z"
   },
   {
    "duration": 9,
    "start_time": "2024-07-23T01:33:32.965Z"
   },
   {
    "duration": 57,
    "start_time": "2024-07-23T01:33:32.978Z"
   },
   {
    "duration": 5,
    "start_time": "2024-07-23T01:33:33.038Z"
   },
   {
    "duration": 11,
    "start_time": "2024-07-23T01:33:33.047Z"
   },
   {
    "duration": 28,
    "start_time": "2024-07-23T01:33:33.061Z"
   },
   {
    "duration": 48,
    "start_time": "2024-07-23T01:33:33.093Z"
   },
   {
    "duration": 19,
    "start_time": "2024-07-23T01:33:33.145Z"
   },
   {
    "duration": 268,
    "start_time": "2024-07-23T01:33:33.166Z"
   },
   {
    "duration": 11,
    "start_time": "2024-07-23T01:33:33.437Z"
   },
   {
    "duration": 15,
    "start_time": "2024-07-23T01:33:33.452Z"
   },
   {
    "duration": 435,
    "start_time": "2024-07-23T01:33:33.471Z"
   },
   {
    "duration": 19,
    "start_time": "2024-07-23T01:33:33.909Z"
   },
   {
    "duration": 1383,
    "start_time": "2024-07-23T01:33:33.933Z"
   },
   {
    "duration": 0,
    "start_time": "2024-07-23T01:33:35.320Z"
   },
   {
    "duration": 0,
    "start_time": "2024-07-23T01:33:35.322Z"
   },
   {
    "duration": 0,
    "start_time": "2024-07-23T01:33:35.324Z"
   },
   {
    "duration": 0,
    "start_time": "2024-07-23T01:33:35.334Z"
   },
   {
    "duration": 0,
    "start_time": "2024-07-23T01:33:35.336Z"
   },
   {
    "duration": 0,
    "start_time": "2024-07-23T01:33:35.339Z"
   },
   {
    "duration": 363,
    "start_time": "2024-07-23T14:00:53.230Z"
   },
   {
    "duration": 5765,
    "start_time": "2024-07-23T14:01:01.051Z"
   },
   {
    "duration": 170,
    "start_time": "2024-07-23T14:01:06.822Z"
   },
   {
    "duration": 17,
    "start_time": "2024-07-23T14:01:06.995Z"
   },
   {
    "duration": 31,
    "start_time": "2024-07-23T14:01:07.016Z"
   },
   {
    "duration": 20,
    "start_time": "2024-07-23T14:01:07.051Z"
   },
   {
    "duration": 77,
    "start_time": "2024-07-23T14:01:07.074Z"
   },
   {
    "duration": 5,
    "start_time": "2024-07-23T14:01:07.154Z"
   },
   {
    "duration": 11,
    "start_time": "2024-07-23T14:01:07.162Z"
   },
   {
    "duration": 61,
    "start_time": "2024-07-23T14:01:07.176Z"
   },
   {
    "duration": 21,
    "start_time": "2024-07-23T14:01:07.244Z"
   },
   {
    "duration": 41,
    "start_time": "2024-07-23T14:01:07.268Z"
   },
   {
    "duration": 15,
    "start_time": "2024-07-23T14:01:07.315Z"
   },
   {
    "duration": 18,
    "start_time": "2024-07-23T14:01:07.336Z"
   },
   {
    "duration": 11,
    "start_time": "2024-07-23T14:01:07.357Z"
   },
   {
    "duration": 38,
    "start_time": "2024-07-23T14:01:07.372Z"
   },
   {
    "duration": 5,
    "start_time": "2024-07-23T14:01:07.413Z"
   },
   {
    "duration": 12,
    "start_time": "2024-07-23T14:01:07.422Z"
   },
   {
    "duration": 36,
    "start_time": "2024-07-23T14:01:07.438Z"
   },
   {
    "duration": 35,
    "start_time": "2024-07-23T14:01:07.477Z"
   },
   {
    "duration": 18,
    "start_time": "2024-07-23T14:01:07.515Z"
   },
   {
    "duration": 323,
    "start_time": "2024-07-23T14:01:07.537Z"
   },
   {
    "duration": 9,
    "start_time": "2024-07-23T14:01:07.863Z"
   },
   {
    "duration": 34,
    "start_time": "2024-07-23T14:01:07.875Z"
   },
   {
    "duration": 448,
    "start_time": "2024-07-23T14:01:07.911Z"
   },
   {
    "duration": 18,
    "start_time": "2024-07-23T14:01:08.362Z"
   },
   {
    "duration": 508,
    "start_time": "2024-07-23T14:01:08.382Z"
   },
   {
    "duration": 550,
    "start_time": "2024-07-23T14:01:08.893Z"
   },
   {
    "duration": 36,
    "start_time": "2024-07-23T14:01:09.454Z"
   },
   {
    "duration": 24,
    "start_time": "2024-07-23T14:01:09.493Z"
   },
   {
    "duration": 125,
    "start_time": "2024-07-23T14:01:09.521Z"
   },
   {
    "duration": 208,
    "start_time": "2024-07-23T14:01:09.650Z"
   },
   {
    "duration": 97,
    "start_time": "2024-07-23T14:01:09.862Z"
   },
   {
    "duration": 376,
    "start_time": "2024-07-23T16:59:54.360Z"
   },
   {
    "duration": 5481,
    "start_time": "2024-07-23T17:00:02.279Z"
   },
   {
    "duration": 165,
    "start_time": "2024-07-23T17:00:07.764Z"
   },
   {
    "duration": 18,
    "start_time": "2024-07-23T17:00:07.932Z"
   },
   {
    "duration": 30,
    "start_time": "2024-07-23T17:00:07.956Z"
   },
   {
    "duration": 26,
    "start_time": "2024-07-23T17:00:07.992Z"
   },
   {
    "duration": 45,
    "start_time": "2024-07-23T17:00:08.022Z"
   },
   {
    "duration": 5,
    "start_time": "2024-07-23T17:00:08.071Z"
   },
   {
    "duration": 13,
    "start_time": "2024-07-23T17:00:08.109Z"
   },
   {
    "duration": 30,
    "start_time": "2024-07-23T17:00:08.126Z"
   },
   {
    "duration": 46,
    "start_time": "2024-07-23T17:00:08.165Z"
   },
   {
    "duration": 12,
    "start_time": "2024-07-23T17:00:08.215Z"
   },
   {
    "duration": 11,
    "start_time": "2024-07-23T17:00:08.231Z"
   },
   {
    "duration": 16,
    "start_time": "2024-07-23T17:00:08.246Z"
   },
   {
    "duration": 46,
    "start_time": "2024-07-23T17:00:08.266Z"
   },
   {
    "duration": 10,
    "start_time": "2024-07-23T17:00:08.316Z"
   },
   {
    "duration": 4,
    "start_time": "2024-07-23T17:00:08.329Z"
   },
   {
    "duration": 10,
    "start_time": "2024-07-23T17:00:08.337Z"
   },
   {
    "duration": 76,
    "start_time": "2024-07-23T17:00:08.350Z"
   },
   {
    "duration": 13,
    "start_time": "2024-07-23T17:00:08.430Z"
   },
   {
    "duration": 14,
    "start_time": "2024-07-23T17:00:08.447Z"
   },
   {
    "duration": 298,
    "start_time": "2024-07-23T17:00:08.465Z"
   },
   {
    "duration": 10,
    "start_time": "2024-07-23T17:00:08.765Z"
   },
   {
    "duration": 32,
    "start_time": "2024-07-23T17:00:08.778Z"
   },
   {
    "duration": 504,
    "start_time": "2024-07-23T17:00:08.813Z"
   },
   {
    "duration": 435,
    "start_time": "2024-07-23T17:00:09.320Z"
   },
   {
    "duration": 789,
    "start_time": "2024-07-23T17:00:09.759Z"
   },
   {
    "duration": 0,
    "start_time": "2024-07-23T17:00:10.551Z"
   },
   {
    "duration": 0,
    "start_time": "2024-07-23T17:00:10.553Z"
   },
   {
    "duration": 0,
    "start_time": "2024-07-23T17:00:10.554Z"
   },
   {
    "duration": 0,
    "start_time": "2024-07-23T17:00:10.557Z"
   },
   {
    "duration": 0,
    "start_time": "2024-07-23T17:00:10.559Z"
   },
   {
    "duration": 469,
    "start_time": "2024-07-23T17:00:38.333Z"
   },
   {
    "duration": 230,
    "start_time": "2024-07-23T17:06:33.467Z"
   },
   {
    "duration": 9,
    "start_time": "2024-07-23T17:10:34.282Z"
   },
   {
    "duration": 6,
    "start_time": "2024-07-23T17:11:02.946Z"
   },
   {
    "duration": 4,
    "start_time": "2024-07-23T17:11:59.207Z"
   },
   {
    "duration": 3,
    "start_time": "2024-07-23T17:14:41.548Z"
   },
   {
    "duration": 3,
    "start_time": "2024-07-23T17:18:18.916Z"
   },
   {
    "duration": 6,
    "start_time": "2024-07-23T17:20:17.060Z"
   },
   {
    "duration": 3,
    "start_time": "2024-07-23T17:21:35.456Z"
   },
   {
    "duration": 115,
    "start_time": "2024-07-23T17:24:03.153Z"
   },
   {
    "duration": 789,
    "start_time": "2024-07-23T17:36:33.622Z"
   },
   {
    "duration": 46,
    "start_time": "2024-07-23T17:37:05.380Z"
   },
   {
    "duration": 132,
    "start_time": "2024-07-23T17:37:15.725Z"
   },
   {
    "duration": 126,
    "start_time": "2024-07-23T17:37:30.601Z"
   },
   {
    "duration": 147,
    "start_time": "2024-07-23T17:56:31.734Z"
   },
   {
    "duration": 470,
    "start_time": "2024-07-23T17:56:42.442Z"
   },
   {
    "duration": 348,
    "start_time": "2024-07-24T00:18:28.065Z"
   },
   {
    "duration": 26,
    "start_time": "2024-07-24T00:18:36.563Z"
   },
   {
    "duration": 5411,
    "start_time": "2024-07-24T00:18:46.213Z"
   },
   {
    "duration": 148,
    "start_time": "2024-07-24T00:18:51.628Z"
   },
   {
    "duration": 16,
    "start_time": "2024-07-24T00:18:51.778Z"
   },
   {
    "duration": 23,
    "start_time": "2024-07-24T00:18:51.800Z"
   },
   {
    "duration": 18,
    "start_time": "2024-07-24T00:18:51.825Z"
   },
   {
    "duration": 70,
    "start_time": "2024-07-24T00:18:51.846Z"
   },
   {
    "duration": 4,
    "start_time": "2024-07-24T00:18:51.919Z"
   },
   {
    "duration": 11,
    "start_time": "2024-07-24T00:18:51.927Z"
   },
   {
    "duration": 61,
    "start_time": "2024-07-24T00:18:51.942Z"
   },
   {
    "duration": 21,
    "start_time": "2024-07-24T00:18:52.010Z"
   },
   {
    "duration": 11,
    "start_time": "2024-07-24T00:18:52.034Z"
   },
   {
    "duration": 9,
    "start_time": "2024-07-24T00:18:52.048Z"
   },
   {
    "duration": 52,
    "start_time": "2024-07-24T00:18:52.060Z"
   },
   {
    "duration": 8,
    "start_time": "2024-07-24T00:18:52.115Z"
   },
   {
    "duration": 9,
    "start_time": "2024-07-24T00:18:52.128Z"
   },
   {
    "duration": 4,
    "start_time": "2024-07-24T00:18:52.140Z"
   },
   {
    "duration": 57,
    "start_time": "2024-07-24T00:18:52.147Z"
   },
   {
    "duration": 28,
    "start_time": "2024-07-24T00:18:52.208Z"
   },
   {
    "duration": 11,
    "start_time": "2024-07-24T00:18:52.239Z"
   },
   {
    "duration": 51,
    "start_time": "2024-07-24T00:18:52.253Z"
   },
   {
    "duration": 250,
    "start_time": "2024-07-24T00:18:52.307Z"
   },
   {
    "duration": 11,
    "start_time": "2024-07-24T00:18:52.560Z"
   },
   {
    "duration": 35,
    "start_time": "2024-07-24T00:18:52.574Z"
   },
   {
    "duration": 429,
    "start_time": "2024-07-24T00:18:52.613Z"
   },
   {
    "duration": 501,
    "start_time": "2024-07-24T00:18:53.046Z"
   },
   {
    "duration": 497,
    "start_time": "2024-07-24T00:18:53.550Z"
   },
   {
    "duration": 228,
    "start_time": "2024-07-24T00:18:54.050Z"
   },
   {
    "duration": 448,
    "start_time": "2024-07-24T00:18:54.285Z"
   },
   {
    "duration": 1209,
    "start_time": "2024-07-24T00:18:54.737Z"
   },
   {
    "duration": 37,
    "start_time": "2024-07-24T00:19:48.807Z"
   },
   {
    "duration": 3,
    "start_time": "2024-07-24T00:20:11.218Z"
   },
   {
    "duration": 15552,
    "start_time": "2024-07-24T00:20:44.349Z"
   },
   {
    "duration": 5174,
    "start_time": "2024-07-24T00:21:48.331Z"
   },
   {
    "duration": 974,
    "start_time": "2024-07-24T00:22:52.701Z"
   },
   {
    "duration": 604,
    "start_time": "2024-07-24T00:57:25.771Z"
   },
   {
    "duration": 333,
    "start_time": "2024-07-24T00:57:33.988Z"
   },
   {
    "duration": 104,
    "start_time": "2024-07-24T00:57:47.813Z"
   },
   {
    "duration": 158,
    "start_time": "2024-07-24T00:58:04.943Z"
   },
   {
    "duration": 107,
    "start_time": "2024-07-24T00:59:46.604Z"
   },
   {
    "duration": 108,
    "start_time": "2024-07-24T01:00:00.512Z"
   },
   {
    "duration": 103,
    "start_time": "2024-07-24T01:00:32.078Z"
   },
   {
    "duration": 7,
    "start_time": "2024-07-24T01:01:20.754Z"
   },
   {
    "duration": 29,
    "start_time": "2024-07-24T01:01:28.765Z"
   },
   {
    "duration": 20,
    "start_time": "2024-07-24T01:01:44.773Z"
   },
   {
    "duration": 7,
    "start_time": "2024-07-24T01:02:06.344Z"
   },
   {
    "duration": 32,
    "start_time": "2024-07-24T01:02:21.010Z"
   },
   {
    "duration": 108,
    "start_time": "2024-07-24T01:22:19.607Z"
   },
   {
    "duration": 5359,
    "start_time": "2024-07-25T02:12:37.270Z"
   },
   {
    "duration": 157,
    "start_time": "2024-07-25T02:12:42.633Z"
   },
   {
    "duration": 20,
    "start_time": "2024-07-25T02:12:42.794Z"
   },
   {
    "duration": 24,
    "start_time": "2024-07-25T02:12:42.818Z"
   },
   {
    "duration": 45,
    "start_time": "2024-07-25T02:12:42.845Z"
   },
   {
    "duration": 43,
    "start_time": "2024-07-25T02:12:42.893Z"
   },
   {
    "duration": 5,
    "start_time": "2024-07-25T02:12:42.939Z"
   },
   {
    "duration": 46,
    "start_time": "2024-07-25T02:12:42.946Z"
   },
   {
    "duration": 25,
    "start_time": "2024-07-25T02:12:42.999Z"
   },
   {
    "duration": 20,
    "start_time": "2024-07-25T02:12:43.030Z"
   },
   {
    "duration": 39,
    "start_time": "2024-07-25T02:12:43.053Z"
   },
   {
    "duration": 9,
    "start_time": "2024-07-25T02:12:43.096Z"
   },
   {
    "duration": 13,
    "start_time": "2024-07-25T02:12:43.108Z"
   },
   {
    "duration": 9,
    "start_time": "2024-07-25T02:12:43.125Z"
   },
   {
    "duration": 55,
    "start_time": "2024-07-25T02:12:43.137Z"
   },
   {
    "duration": 10,
    "start_time": "2024-07-25T02:12:43.196Z"
   },
   {
    "duration": 10,
    "start_time": "2024-07-25T02:12:43.208Z"
   },
   {
    "duration": 28,
    "start_time": "2024-07-25T02:12:43.222Z"
   },
   {
    "duration": 40,
    "start_time": "2024-07-25T02:12:43.253Z"
   },
   {
    "duration": 16,
    "start_time": "2024-07-25T02:12:43.298Z"
   },
   {
    "duration": 296,
    "start_time": "2024-07-25T02:12:43.317Z"
   },
   {
    "duration": 11,
    "start_time": "2024-07-25T02:12:43.618Z"
   },
   {
    "duration": 17,
    "start_time": "2024-07-25T02:12:43.632Z"
   },
   {
    "duration": 442,
    "start_time": "2024-07-25T02:12:43.653Z"
   },
   {
    "duration": 560,
    "start_time": "2024-07-25T02:12:44.099Z"
   },
   {
    "duration": 484,
    "start_time": "2024-07-25T02:12:44.663Z"
   },
   {
    "duration": 231,
    "start_time": "2024-07-25T02:12:45.150Z"
   },
   {
    "duration": 470,
    "start_time": "2024-07-25T02:12:45.395Z"
   },
   {
    "duration": 44,
    "start_time": "2024-07-25T02:12:45.868Z"
   },
   {
    "duration": 5398,
    "start_time": "2024-07-25T02:12:45.915Z"
   },
   {
    "duration": 962,
    "start_time": "2024-07-25T02:12:51.316Z"
   },
   {
    "duration": 159,
    "start_time": "2024-07-25T02:12:52.281Z"
   },
   {
    "duration": 24,
    "start_time": "2024-07-25T02:12:52.443Z"
   },
   {
    "duration": 7,
    "start_time": "2024-07-25T02:12:52.490Z"
   },
   {
    "duration": 34,
    "start_time": "2024-07-25T02:12:52.501Z"
   },
   {
    "duration": 1360,
    "start_time": "2024-07-25T02:12:52.539Z"
   },
   {
    "duration": 99,
    "start_time": "2024-07-25T02:21:00.714Z"
   },
   {
    "duration": 90,
    "start_time": "2024-07-25T02:21:21.987Z"
   },
   {
    "duration": 655,
    "start_time": "2024-07-25T02:29:13.577Z"
   },
   {
    "duration": 507,
    "start_time": "2024-07-25T02:29:53.594Z"
   },
   {
    "duration": 524,
    "start_time": "2024-07-25T02:30:37.915Z"
   },
   {
    "duration": 514,
    "start_time": "2024-07-25T02:32:28.703Z"
   },
   {
    "duration": 511,
    "start_time": "2024-07-25T02:33:09.417Z"
   },
   {
    "duration": 377,
    "start_time": "2024-07-25T02:33:29.815Z"
   },
   {
    "duration": 1585,
    "start_time": "2024-07-30T03:34:35.813Z"
   },
   {
    "duration": 101,
    "start_time": "2024-07-30T03:34:37.402Z"
   },
   {
    "duration": 20,
    "start_time": "2024-07-30T03:34:37.506Z"
   },
   {
    "duration": 22,
    "start_time": "2024-07-30T03:34:37.530Z"
   },
   {
    "duration": 18,
    "start_time": "2024-07-30T03:34:37.556Z"
   },
   {
    "duration": 76,
    "start_time": "2024-07-30T03:34:37.577Z"
   },
   {
    "duration": 7,
    "start_time": "2024-07-30T03:34:37.656Z"
   },
   {
    "duration": 11,
    "start_time": "2024-07-30T03:34:37.666Z"
   },
   {
    "duration": 26,
    "start_time": "2024-07-30T03:34:37.713Z"
   },
   {
    "duration": 20,
    "start_time": "2024-07-30T03:34:37.747Z"
   },
   {
    "duration": 11,
    "start_time": "2024-07-30T03:34:37.769Z"
   },
   {
    "duration": 38,
    "start_time": "2024-07-30T03:34:37.783Z"
   },
   {
    "duration": 13,
    "start_time": "2024-07-30T03:34:37.825Z"
   },
   {
    "duration": 8,
    "start_time": "2024-07-30T03:34:37.842Z"
   },
   {
    "duration": 9,
    "start_time": "2024-07-30T03:34:37.853Z"
   },
   {
    "duration": 6,
    "start_time": "2024-07-30T03:34:37.913Z"
   },
   {
    "duration": 9,
    "start_time": "2024-07-30T03:34:37.922Z"
   },
   {
    "duration": 29,
    "start_time": "2024-07-30T03:34:37.935Z"
   },
   {
    "duration": 46,
    "start_time": "2024-07-30T03:34:37.967Z"
   },
   {
    "duration": 13,
    "start_time": "2024-07-30T03:34:38.016Z"
   },
   {
    "duration": 257,
    "start_time": "2024-07-30T03:34:38.032Z"
   },
   {
    "duration": 22,
    "start_time": "2024-07-30T03:34:38.292Z"
   },
   {
    "duration": 15,
    "start_time": "2024-07-30T03:34:38.317Z"
   },
   {
    "duration": 428,
    "start_time": "2024-07-30T03:34:38.338Z"
   },
   {
    "duration": 479,
    "start_time": "2024-07-30T03:34:38.769Z"
   },
   {
    "duration": 499,
    "start_time": "2024-07-30T03:34:39.251Z"
   },
   {
    "duration": 222,
    "start_time": "2024-07-30T03:34:39.753Z"
   },
   {
    "duration": 467,
    "start_time": "2024-07-30T03:34:39.982Z"
   },
   {
    "duration": 37,
    "start_time": "2024-07-30T03:34:40.452Z"
   },
   {
    "duration": 5423,
    "start_time": "2024-07-30T03:34:40.492Z"
   },
   {
    "duration": 307,
    "start_time": "2024-07-30T03:34:45.918Z"
   },
   {
    "duration": 663,
    "start_time": "2024-07-30T03:34:46.228Z"
   },
   {
    "duration": 159,
    "start_time": "2024-07-30T03:34:46.893Z"
   },
   {
    "duration": 21,
    "start_time": "2024-07-30T03:34:47.057Z"
   },
   {
    "duration": 32,
    "start_time": "2024-07-30T03:34:47.081Z"
   },
   {
    "duration": 28,
    "start_time": "2024-07-30T03:34:47.115Z"
   },
   {
    "duration": 102,
    "start_time": "2024-07-30T03:34:47.146Z"
   },
   {
    "duration": 16,
    "start_time": "2024-07-30T17:25:49.596Z"
   },
   {
    "duration": 364,
    "start_time": "2024-07-30T23:32:04.347Z"
   },
   {
    "duration": 5203,
    "start_time": "2024-07-30T23:32:11.813Z"
   },
   {
    "duration": 149,
    "start_time": "2024-07-30T23:32:17.022Z"
   },
   {
    "duration": 14,
    "start_time": "2024-07-30T23:32:17.174Z"
   },
   {
    "duration": 21,
    "start_time": "2024-07-30T23:32:17.193Z"
   },
   {
    "duration": 18,
    "start_time": "2024-07-30T23:32:17.223Z"
   },
   {
    "duration": 40,
    "start_time": "2024-07-30T23:32:17.245Z"
   },
   {
    "duration": 34,
    "start_time": "2024-07-30T23:32:17.289Z"
   },
   {
    "duration": 17,
    "start_time": "2024-07-30T23:32:17.326Z"
   },
   {
    "duration": 36,
    "start_time": "2024-07-30T23:32:17.346Z"
   },
   {
    "duration": 36,
    "start_time": "2024-07-30T23:32:17.389Z"
   },
   {
    "duration": 11,
    "start_time": "2024-07-30T23:32:17.428Z"
   },
   {
    "duration": 9,
    "start_time": "2024-07-30T23:32:17.442Z"
   },
   {
    "duration": 14,
    "start_time": "2024-07-30T23:32:17.455Z"
   },
   {
    "duration": 52,
    "start_time": "2024-07-30T23:32:17.472Z"
   },
   {
    "duration": 8,
    "start_time": "2024-07-30T23:32:17.527Z"
   },
   {
    "duration": 5,
    "start_time": "2024-07-30T23:32:17.538Z"
   },
   {
    "duration": 9,
    "start_time": "2024-07-30T23:32:17.546Z"
   },
   {
    "duration": 71,
    "start_time": "2024-07-30T23:32:17.558Z"
   },
   {
    "duration": 9,
    "start_time": "2024-07-30T23:32:17.632Z"
   },
   {
    "duration": 15,
    "start_time": "2024-07-30T23:32:17.645Z"
   },
   {
    "duration": 272,
    "start_time": "2024-07-30T23:32:17.663Z"
   },
   {
    "duration": 11,
    "start_time": "2024-07-30T23:32:17.938Z"
   },
   {
    "duration": 15,
    "start_time": "2024-07-30T23:32:17.952Z"
   },
   {
    "duration": 433,
    "start_time": "2024-07-30T23:32:17.970Z"
   },
   {
    "duration": 542,
    "start_time": "2024-07-30T23:32:18.406Z"
   },
   {
    "duration": 347,
    "start_time": "2024-07-30T23:32:18.951Z"
   },
   {
    "duration": 483,
    "start_time": "2024-07-30T23:32:19.301Z"
   },
   {
    "duration": 221,
    "start_time": "2024-07-30T23:32:19.793Z"
   },
   {
    "duration": 456,
    "start_time": "2024-07-30T23:32:20.017Z"
   },
   {
    "duration": 49,
    "start_time": "2024-07-30T23:32:20.477Z"
   },
   {
    "duration": 5318,
    "start_time": "2024-07-30T23:32:20.529Z"
   },
   {
    "duration": 378,
    "start_time": "2024-07-30T23:32:25.851Z"
   },
   {
    "duration": 577,
    "start_time": "2024-07-30T23:32:26.236Z"
   },
   {
    "duration": 202,
    "start_time": "2024-07-30T23:32:26.823Z"
   },
   {
    "duration": 24,
    "start_time": "2024-07-30T23:32:27.029Z"
   },
   {
    "duration": 7,
    "start_time": "2024-07-30T23:32:27.056Z"
   },
   {
    "duration": 63,
    "start_time": "2024-07-30T23:32:27.067Z"
   },
   {
    "duration": 93,
    "start_time": "2024-07-30T23:32:27.134Z"
   },
   {
    "duration": 200,
    "start_time": "2024-07-30T23:50:47.904Z"
   },
   {
    "duration": 309,
    "start_time": "2024-07-30T23:53:12.335Z"
   },
   {
    "duration": 425,
    "start_time": "2024-07-30T23:57:31.652Z"
   },
   {
    "duration": 48,
    "start_time": "2024-07-30T23:57:37.893Z"
   },
   {
    "duration": 5244,
    "start_time": "2024-07-30T23:57:40.973Z"
   },
   {
    "duration": 47,
    "start_time": "2024-07-30T23:58:38.737Z"
   },
   {
    "duration": 5245,
    "start_time": "2024-07-30T23:58:39.981Z"
   },
   {
    "duration": 357,
    "start_time": "2024-07-30T23:59:52.178Z"
   },
   {
    "duration": 575,
    "start_time": "2024-07-31T00:01:19.188Z"
   },
   {
    "duration": 10,
    "start_time": "2024-07-31T00:03:40.301Z"
   },
   {
    "duration": 28,
    "start_time": "2024-07-31T00:04:49.707Z"
   },
   {
    "duration": 15,
    "start_time": "2024-07-31T00:14:22.338Z"
   },
   {
    "duration": 14,
    "start_time": "2024-07-31T00:14:51.250Z"
   },
   {
    "duration": 8,
    "start_time": "2024-07-31T00:15:04.680Z"
   },
   {
    "duration": 763,
    "start_time": "2024-07-31T00:25:08.791Z"
   },
   {
    "duration": 98,
    "start_time": "2024-07-31T00:28:12.864Z"
   },
   {
    "duration": 219,
    "start_time": "2024-07-31T00:28:57.208Z"
   },
   {
    "duration": 103,
    "start_time": "2024-07-31T00:29:05.764Z"
   },
   {
    "duration": 7,
    "start_time": "2024-07-31T00:29:37.222Z"
   },
   {
    "duration": 5,
    "start_time": "2024-07-31T00:29:41.760Z"
   },
   {
    "duration": 34,
    "start_time": "2024-07-31T00:32:54.960Z"
   },
   {
    "duration": 40,
    "start_time": "2024-07-31T00:33:06.514Z"
   },
   {
    "duration": 8,
    "start_time": "2024-07-31T00:33:36.664Z"
   },
   {
    "duration": 60,
    "start_time": "2024-07-31T00:34:10.543Z"
   },
   {
    "duration": 34,
    "start_time": "2024-07-31T00:34:35.773Z"
   },
   {
    "duration": 45,
    "start_time": "2024-07-31T00:34:42.822Z"
   },
   {
    "duration": 35,
    "start_time": "2024-07-31T00:35:16.685Z"
   },
   {
    "duration": 10,
    "start_time": "2024-07-31T00:36:28.502Z"
   },
   {
    "duration": 8,
    "start_time": "2024-07-31T00:40:32.341Z"
   },
   {
    "duration": 27,
    "start_time": "2024-07-31T00:40:52.764Z"
   },
   {
    "duration": 26,
    "start_time": "2024-07-31T00:41:15.230Z"
   },
   {
    "duration": 80,
    "start_time": "2024-07-31T00:41:45.916Z"
   },
   {
    "duration": 315,
    "start_time": "2024-07-31T03:56:09.269Z"
   },
   {
    "duration": 5287,
    "start_time": "2024-07-31T03:56:17.103Z"
   },
   {
    "duration": 157,
    "start_time": "2024-07-31T03:56:22.394Z"
   },
   {
    "duration": 17,
    "start_time": "2024-07-31T03:56:22.553Z"
   },
   {
    "duration": 25,
    "start_time": "2024-07-31T03:56:22.575Z"
   },
   {
    "duration": 22,
    "start_time": "2024-07-31T03:56:22.602Z"
   },
   {
    "duration": 70,
    "start_time": "2024-07-31T03:56:22.627Z"
   },
   {
    "duration": 9,
    "start_time": "2024-07-31T03:56:22.701Z"
   },
   {
    "duration": 11,
    "start_time": "2024-07-31T03:56:22.713Z"
   },
   {
    "duration": 25,
    "start_time": "2024-07-31T03:56:22.728Z"
   },
   {
    "duration": 27,
    "start_time": "2024-07-31T03:56:22.793Z"
   },
   {
    "duration": 12,
    "start_time": "2024-07-31T03:56:22.823Z"
   },
   {
    "duration": 11,
    "start_time": "2024-07-31T03:56:22.838Z"
   },
   {
    "duration": 51,
    "start_time": "2024-07-31T03:56:22.852Z"
   },
   {
    "duration": 14,
    "start_time": "2024-07-31T03:56:22.907Z"
   },
   {
    "duration": 9,
    "start_time": "2024-07-31T03:56:22.925Z"
   },
   {
    "duration": 5,
    "start_time": "2024-07-31T03:56:22.936Z"
   },
   {
    "duration": 56,
    "start_time": "2024-07-31T03:56:22.946Z"
   },
   {
    "duration": 31,
    "start_time": "2024-07-31T03:56:23.005Z"
   },
   {
    "duration": 11,
    "start_time": "2024-07-31T03:56:23.039Z"
   },
   {
    "duration": 53,
    "start_time": "2024-07-31T03:56:23.054Z"
   },
   {
    "duration": 251,
    "start_time": "2024-07-31T03:56:23.110Z"
   },
   {
    "duration": 25,
    "start_time": "2024-07-31T03:56:23.365Z"
   },
   {
    "duration": 19,
    "start_time": "2024-07-31T03:56:23.392Z"
   },
   {
    "duration": 425,
    "start_time": "2024-07-31T03:56:23.414Z"
   },
   {
    "duration": 516,
    "start_time": "2024-07-31T03:56:23.843Z"
   },
   {
    "duration": 330,
    "start_time": "2024-07-31T03:56:24.362Z"
   },
   {
    "duration": 228,
    "start_time": "2024-07-31T03:56:24.695Z"
   },
   {
    "duration": 447,
    "start_time": "2024-07-31T03:56:24.931Z"
   },
   {
    "duration": 52,
    "start_time": "2024-07-31T03:56:25.381Z"
   },
   {
    "duration": 5359,
    "start_time": "2024-07-31T03:56:25.436Z"
   },
   {
    "duration": 405,
    "start_time": "2024-07-31T03:56:30.798Z"
   },
   {
    "duration": 720,
    "start_time": "2024-07-31T03:56:31.205Z"
   },
   {
    "duration": 26,
    "start_time": "2024-07-31T03:56:31.931Z"
   },
   {
    "duration": 34,
    "start_time": "2024-07-31T03:56:31.960Z"
   },
   {
    "duration": 122,
    "start_time": "2024-07-31T03:56:31.997Z"
   },
   {
    "duration": 38,
    "start_time": "2024-07-31T03:56:32.123Z"
   },
   {
    "duration": 57,
    "start_time": "2024-07-31T03:56:32.165Z"
   },
   {
    "duration": 65,
    "start_time": "2024-07-31T03:56:32.225Z"
   },
   {
    "duration": 8,
    "start_time": "2024-07-31T03:56:32.294Z"
   },
   {
    "duration": 7,
    "start_time": "2024-07-31T03:56:32.305Z"
   },
   {
    "duration": 29,
    "start_time": "2024-07-31T03:56:32.316Z"
   },
   {
    "duration": 114,
    "start_time": "2024-07-31T03:56:32.350Z"
   },
   {
    "duration": 313,
    "start_time": "2024-07-31T03:57:25.192Z"
   },
   {
    "duration": 294,
    "start_time": "2024-07-31T03:57:45.351Z"
   },
   {
    "duration": 321,
    "start_time": "2024-07-31T03:59:14.170Z"
   },
   {
    "duration": 574,
    "start_time": "2024-07-31T03:59:32.769Z"
   },
   {
    "duration": 24,
    "start_time": "2024-07-31T03:59:46.296Z"
   },
   {
    "duration": 1681,
    "start_time": "2024-07-31T04:02:34.584Z"
   },
   {
    "duration": 101,
    "start_time": "2024-07-31T04:02:36.271Z"
   },
   {
    "duration": 20,
    "start_time": "2024-07-31T04:02:36.374Z"
   },
   {
    "duration": 24,
    "start_time": "2024-07-31T04:02:36.398Z"
   },
   {
    "duration": 17,
    "start_time": "2024-07-31T04:02:36.427Z"
   },
   {
    "duration": 75,
    "start_time": "2024-07-31T04:02:36.447Z"
   },
   {
    "duration": 3,
    "start_time": "2024-07-31T04:02:36.526Z"
   },
   {
    "duration": 11,
    "start_time": "2024-07-31T04:02:36.532Z"
   },
   {
    "duration": 57,
    "start_time": "2024-07-31T04:02:36.546Z"
   },
   {
    "duration": 19,
    "start_time": "2024-07-31T04:02:36.607Z"
   },
   {
    "duration": 11,
    "start_time": "2024-07-31T04:02:36.629Z"
   },
   {
    "duration": 47,
    "start_time": "2024-07-31T04:02:36.643Z"
   },
   {
    "duration": 13,
    "start_time": "2024-07-31T04:02:36.694Z"
   },
   {
    "duration": 9,
    "start_time": "2024-07-31T04:02:36.716Z"
   },
   {
    "duration": 9,
    "start_time": "2024-07-31T04:02:36.728Z"
   },
   {
    "duration": 5,
    "start_time": "2024-07-31T04:02:36.739Z"
   },
   {
    "duration": 12,
    "start_time": "2024-07-31T04:02:36.791Z"
   },
   {
    "duration": 27,
    "start_time": "2024-07-31T04:02:36.806Z"
   },
   {
    "duration": 11,
    "start_time": "2024-07-31T04:02:36.836Z"
   },
   {
    "duration": 45,
    "start_time": "2024-07-31T04:02:36.850Z"
   },
   {
    "duration": 264,
    "start_time": "2024-07-31T04:02:36.899Z"
   },
   {
    "duration": 11,
    "start_time": "2024-07-31T04:02:37.166Z"
   },
   {
    "duration": 14,
    "start_time": "2024-07-31T04:02:37.191Z"
   },
   {
    "duration": 410,
    "start_time": "2024-07-31T04:02:37.209Z"
   },
   {
    "duration": 432,
    "start_time": "2024-07-31T04:02:37.622Z"
   },
   {
    "duration": 335,
    "start_time": "2024-07-31T04:02:38.056Z"
   },
   {
    "duration": 210,
    "start_time": "2024-07-31T04:02:38.394Z"
   },
   {
    "duration": 450,
    "start_time": "2024-07-31T04:02:38.607Z"
   },
   {
    "duration": 62,
    "start_time": "2024-07-31T04:02:39.061Z"
   },
   {
    "duration": 5884,
    "start_time": "2024-07-31T04:02:39.126Z"
   },
   {
    "duration": 377,
    "start_time": "2024-07-31T04:02:45.014Z"
   },
   {
    "duration": 620,
    "start_time": "2024-07-31T04:02:45.393Z"
   },
   {
    "duration": 26,
    "start_time": "2024-07-31T04:02:46.016Z"
   },
   {
    "duration": 46,
    "start_time": "2024-07-31T04:02:46.045Z"
   },
   {
    "duration": 110,
    "start_time": "2024-07-31T04:02:46.094Z"
   },
   {
    "duration": 39,
    "start_time": "2024-07-31T04:02:46.207Z"
   },
   {
    "duration": 64,
    "start_time": "2024-07-31T04:02:46.248Z"
   },
   {
    "duration": 39,
    "start_time": "2024-07-31T04:02:46.315Z"
   },
   {
    "duration": 9,
    "start_time": "2024-07-31T04:02:46.357Z"
   },
   {
    "duration": 9,
    "start_time": "2024-07-31T04:02:46.391Z"
   },
   {
    "duration": 27,
    "start_time": "2024-07-31T04:02:46.409Z"
   },
   {
    "duration": 100,
    "start_time": "2024-07-31T04:02:46.439Z"
   }
  ],
  "kernelspec": {
   "display_name": "Python 3 (ipykernel)",
   "language": "python",
   "name": "python3"
  },
  "language_info": {
   "codemirror_mode": {
    "name": "ipython",
    "version": 3
   },
   "file_extension": ".py",
   "mimetype": "text/x-python",
   "name": "python",
   "nbconvert_exporter": "python",
   "pygments_lexer": "ipython3",
   "version": "3.9.19"
  },
  "toc": {
   "base_numbering": 1,
   "nav_menu": {},
   "number_sections": true,
   "sideBar": true,
   "skip_h1_title": true,
   "title_cell": "Table of Contents",
   "title_sidebar": "Contents",
   "toc_cell": false,
   "toc_position": {},
   "toc_section_display": true,
   "toc_window_display": false
  }
 },
 "nbformat": 4,
 "nbformat_minor": 2
}
