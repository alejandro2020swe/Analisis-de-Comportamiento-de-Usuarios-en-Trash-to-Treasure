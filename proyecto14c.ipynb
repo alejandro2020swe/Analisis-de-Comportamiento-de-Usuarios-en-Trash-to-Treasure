{
 "cells": [
  {
   "cell_type": "markdown",
   "metadata": {},
   "source": [
    "# Proyecto SQL\n",
    "\n",
    "El coronavirus tomó al mundo entero por sorpresa, cambiando la rutina diaria de todos y todas. Los habitantes de las ciudades ya no pasaban su tiempo libre fuera, yendo a cafés y centros comerciales; sino que más gente se quedaba en casa, leyendo libros. Eso atrajo la atención de las startups (empresas emergentes) que se apresuraron a desarrollar nuevas aplicaciones para los amantes de los libros.\n",
    "\n",
    "Te han dado una base de datos de uno de los servicios que compiten en este mercado. Contiene datos sobre libros, editoriales, autores y calificaciones de clientes y reseñas de libros. Esta información se utilizará para generar una propuesta de valor para un nuevo producto.\n",
    "\n",
    "## Descripción de los datos\n",
    "\n",
    "### books\n",
    "\n",
    "Contiene datos sobre libros:\n",
    "\n",
    "- `book_id` — identificación del libro\n",
    "- `author_id` — identificación del autor o autora\n",
    "- `title` — título\n",
    "- `num_pages` — número de páginas\n",
    "- `publication_date` — fecha de la publicación\n",
    "- `publisher_id` — identificación de la editorial\n",
    "\n",
    "### authors\n",
    "\n",
    "Contiene datos sobre autores:\n",
    "\n",
    "- `author_id` — identificación del autor o autora\n",
    "- `author` — el autor o la autora\n",
    "\n",
    "### publishers\n",
    "\n",
    "Contiene datos sobre editoriales:\n",
    "\n",
    "- `publisher_id` — identificación de la editorial\n",
    "- `publisher` — la editorial\n",
    "\n",
    "### ratings\n",
    "\n",
    "Contiene datos sobre las calificaciones de usuarios:\n",
    "\n",
    "- `rating_id` — identificación de la calificación\n",
    "- `book_id` — identificación del libro\n",
    "- `username` — el nombre del usuario que revisó el libro\n",
    "- `rating` — calificación\n",
    "\n",
    "### reviews\n",
    "\n",
    "Contiene datos sobre las reseñas de los y las clientes:\n",
    "\n",
    "- `review_id` — identificación de la reseña\n",
    "- `book_id` — identificación del libro\n",
    "- `username` — el nombre del usuario que revisó el libro\n",
    "- `text` — el texto de la reseña\n",
    "\n",
    "\n",
    "### Objetivos\n",
    "\n",
    "1. Encuentra el número de libros publicados después del 1 de enero de 2000.\n",
    "2. Encuentra el número de reseñas de usuarios y la calificación promedio para cada libro.\n",
    "3. Identifica la editorial que ha publicado el mayor número de libros con más de 50 páginas (esto te ayudará a excluir folletos y publicaciones similares de tu análisis).\n",
    "4. Identifica al autor que tiene la más alta calificación promedio del libro: mira solo los libros con al menos 50 calificaciones.\n",
    "5. Encuentra el número promedio de reseñas de texto entre los usuarios que calificaron más de 50 libros.\n",
    "\n"
   ]
  },
  {
   "cell_type": "markdown",
   "metadata": {},
   "source": [
    "## Importamos librerías"
   ]
  },
  {
   "cell_type": "code",
   "execution_count": 1,
   "metadata": {},
   "outputs": [],
   "source": [
    "import pandas as pd\n",
    "from sqlalchemy import create_engine\n"
   ]
  },
  {
   "cell_type": "markdown",
   "metadata": {},
   "source": [
    "## Conexion a la  base de datos "
   ]
  },
  {
   "cell_type": "code",
   "execution_count": 2,
   "metadata": {},
   "outputs": [],
   "source": [
    "db_config = {'user': 'practicum_student',         # nombre de usuario\n",
    "             'pwd': 's65BlTKV3faNIGhmvJVzOqhs', # contraseña\n",
    "             'host': 'rc1b-wcoijxj3yxfsf3fs.mdb.yandexcloud.net',\n",
    "             'port': 6432,              # puerto de conexión\n",
    "             'db': 'data-analyst-final-project-db'}          # nombre de la base de datos\n",
    "\n",
    "connection_string = 'postgresql://{}:{}@{}:{}/{}'.format(db_config['user'],\n",
    "                                                                     db_config['pwd'],\n",
    "                                                                       db_config['host'],\n",
    "                                                                       db_config['port'],\n",
    "                                                                       db_config['db'])\n",
    "\n",
    "engine = create_engine(connection_string, connect_args={'sslmode':'require'})"
   ]
  },
  {
   "cell_type": "markdown",
   "metadata": {},
   "source": [
    "## Análisis de tablas"
   ]
  },
  {
   "cell_type": "markdown",
   "metadata": {},
   "source": [
    "### Análisis de la tabla 'books'"
   ]
  },
  {
   "cell_type": "code",
   "execution_count": 3,
   "metadata": {},
   "outputs": [
    {
     "name": "stdout",
     "output_type": "stream",
     "text": [
      "No se encontraron valores duplicados\n",
      "No se encontraron valores ausentes\n"
     ]
    },
    {
     "data": {
      "text/html": [
       "<div>\n",
       "<style scoped>\n",
       "    .dataframe tbody tr th:only-of-type {\n",
       "        vertical-align: middle;\n",
       "    }\n",
       "\n",
       "    .dataframe tbody tr th {\n",
       "        vertical-align: top;\n",
       "    }\n",
       "\n",
       "    .dataframe thead th {\n",
       "        text-align: right;\n",
       "    }\n",
       "</style>\n",
       "<table border=\"1\" class=\"dataframe\">\n",
       "  <thead>\n",
       "    <tr style=\"text-align: right;\">\n",
       "      <th></th>\n",
       "      <th>book_id</th>\n",
       "      <th>author_id</th>\n",
       "      <th>title</th>\n",
       "      <th>num_pages</th>\n",
       "      <th>publication_date</th>\n",
       "      <th>publisher_id</th>\n",
       "    </tr>\n",
       "  </thead>\n",
       "  <tbody>\n",
       "    <tr>\n",
       "      <th>0</th>\n",
       "      <td>1</td>\n",
       "      <td>546</td>\n",
       "      <td>'Salem's Lot</td>\n",
       "      <td>594</td>\n",
       "      <td>2005-11-01</td>\n",
       "      <td>93</td>\n",
       "    </tr>\n",
       "    <tr>\n",
       "      <th>1</th>\n",
       "      <td>2</td>\n",
       "      <td>465</td>\n",
       "      <td>1 000 Places to See Before You Die</td>\n",
       "      <td>992</td>\n",
       "      <td>2003-05-22</td>\n",
       "      <td>336</td>\n",
       "    </tr>\n",
       "    <tr>\n",
       "      <th>2</th>\n",
       "      <td>3</td>\n",
       "      <td>407</td>\n",
       "      <td>13 Little Blue Envelopes (Little Blue Envelope...</td>\n",
       "      <td>322</td>\n",
       "      <td>2010-12-21</td>\n",
       "      <td>135</td>\n",
       "    </tr>\n",
       "    <tr>\n",
       "      <th>3</th>\n",
       "      <td>4</td>\n",
       "      <td>82</td>\n",
       "      <td>1491: New Revelations of the Americas Before C...</td>\n",
       "      <td>541</td>\n",
       "      <td>2006-10-10</td>\n",
       "      <td>309</td>\n",
       "    </tr>\n",
       "    <tr>\n",
       "      <th>4</th>\n",
       "      <td>5</td>\n",
       "      <td>125</td>\n",
       "      <td>1776</td>\n",
       "      <td>386</td>\n",
       "      <td>2006-07-04</td>\n",
       "      <td>268</td>\n",
       "    </tr>\n",
       "  </tbody>\n",
       "</table>\n",
       "</div>"
      ],
      "text/plain": [
       "   book_id  author_id                                              title  \\\n",
       "0        1        546                                       'Salem's Lot   \n",
       "1        2        465                 1 000 Places to See Before You Die   \n",
       "2        3        407  13 Little Blue Envelopes (Little Blue Envelope...   \n",
       "3        4         82  1491: New Revelations of the Americas Before C...   \n",
       "4        5        125                                               1776   \n",
       "\n",
       "   num_pages publication_date  publisher_id  \n",
       "0        594       2005-11-01            93  \n",
       "1        992       2003-05-22           336  \n",
       "2        322       2010-12-21           135  \n",
       "3        541       2006-10-10           309  \n",
       "4        386       2006-07-04           268  "
      ]
     },
     "execution_count": 3,
     "metadata": {},
     "output_type": "execute_result"
    }
   ],
   "source": [
    "query_books = 'SELECT * FROM books LIMIT 5'\n",
    "df_books = pd.read_sql(query_books, con=engine)\n",
    "duplicates_books = df_books.duplicated()\n",
    "if duplicates_books.any():\n",
    "    print(\"Hay duplicados:\")\n",
    "    df_books[duplicates_books]\n",
    "else:\n",
    "    print(\"No se encontraron valores duplicados\")\n",
    "missing_values_books = df_books.isnull().sum()\n",
    "if missing_values_books.any():\n",
    "    print(\"Se encontraron valores Ausentes\")\n",
    "    missing_values_books[missing_values_books > 0]\n",
    "else:\n",
    "    print(\"No se encontraron valores ausentes\")\n",
    "df_books"
   ]
  },
  {
   "cell_type": "markdown",
   "metadata": {},
   "source": [
    "### Análisis de la tabla 'authors'"
   ]
  },
  {
   "cell_type": "code",
   "execution_count": 4,
   "metadata": {},
   "outputs": [
    {
     "name": "stdout",
     "output_type": "stream",
     "text": [
      "No se encontraron valores duplicados\n",
      "No se encontraron valores ausentes\n"
     ]
    },
    {
     "data": {
      "text/html": [
       "<div>\n",
       "<style scoped>\n",
       "    .dataframe tbody tr th:only-of-type {\n",
       "        vertical-align: middle;\n",
       "    }\n",
       "\n",
       "    .dataframe tbody tr th {\n",
       "        vertical-align: top;\n",
       "    }\n",
       "\n",
       "    .dataframe thead th {\n",
       "        text-align: right;\n",
       "    }\n",
       "</style>\n",
       "<table border=\"1\" class=\"dataframe\">\n",
       "  <thead>\n",
       "    <tr style=\"text-align: right;\">\n",
       "      <th></th>\n",
       "      <th>author_id</th>\n",
       "      <th>author</th>\n",
       "    </tr>\n",
       "  </thead>\n",
       "  <tbody>\n",
       "    <tr>\n",
       "      <th>0</th>\n",
       "      <td>1</td>\n",
       "      <td>A.S. Byatt</td>\n",
       "    </tr>\n",
       "    <tr>\n",
       "      <th>1</th>\n",
       "      <td>2</td>\n",
       "      <td>Aesop/Laura Harris/Laura Gibbs</td>\n",
       "    </tr>\n",
       "    <tr>\n",
       "      <th>2</th>\n",
       "      <td>3</td>\n",
       "      <td>Agatha Christie</td>\n",
       "    </tr>\n",
       "    <tr>\n",
       "      <th>3</th>\n",
       "      <td>4</td>\n",
       "      <td>Alan Brennert</td>\n",
       "    </tr>\n",
       "    <tr>\n",
       "      <th>4</th>\n",
       "      <td>5</td>\n",
       "      <td>Alan Moore/David   Lloyd</td>\n",
       "    </tr>\n",
       "  </tbody>\n",
       "</table>\n",
       "</div>"
      ],
      "text/plain": [
       "   author_id                          author\n",
       "0          1                      A.S. Byatt\n",
       "1          2  Aesop/Laura Harris/Laura Gibbs\n",
       "2          3                 Agatha Christie\n",
       "3          4                   Alan Brennert\n",
       "4          5        Alan Moore/David   Lloyd"
      ]
     },
     "execution_count": 4,
     "metadata": {},
     "output_type": "execute_result"
    }
   ],
   "source": [
    "query_authors = 'SELECT * FROM authors LIMIT 5'\n",
    "df_authors = pd.read_sql(query_authors, con=engine)\n",
    "duplicates_authors = df_authors.duplicated()\n",
    "if duplicates_authors.any():\n",
    "    print(\"Hay duplicados\")\n",
    "    df_authors[duplicates_authors]\n",
    "else:\n",
    "    print(\"No se encontraron valores duplicados\")\n",
    "missing_values_authors = df_authors.isnull().sum()\n",
    "if missing_values_authors.any():\n",
    "    print(\"Se encontraron valores ausentes\")\n",
    "    missing_values_authors[missing_values_authors > 0]\n",
    "else:\n",
    "    print(\"No se encontraron valores ausentes\")\n",
    "df_authors"
   ]
  },
  {
   "cell_type": "markdown",
   "metadata": {},
   "source": [
    "### Análisis de la tabla 'publishers'"
   ]
  },
  {
   "cell_type": "code",
   "execution_count": 5,
   "metadata": {},
   "outputs": [
    {
     "name": "stdout",
     "output_type": "stream",
     "text": [
      "No se encontraron valores duplicados\n",
      "No se encontraron valores ausentes\n"
     ]
    },
    {
     "data": {
      "text/html": [
       "<div>\n",
       "<style scoped>\n",
       "    .dataframe tbody tr th:only-of-type {\n",
       "        vertical-align: middle;\n",
       "    }\n",
       "\n",
       "    .dataframe tbody tr th {\n",
       "        vertical-align: top;\n",
       "    }\n",
       "\n",
       "    .dataframe thead th {\n",
       "        text-align: right;\n",
       "    }\n",
       "</style>\n",
       "<table border=\"1\" class=\"dataframe\">\n",
       "  <thead>\n",
       "    <tr style=\"text-align: right;\">\n",
       "      <th></th>\n",
       "      <th>publisher_id</th>\n",
       "      <th>publisher</th>\n",
       "    </tr>\n",
       "  </thead>\n",
       "  <tbody>\n",
       "    <tr>\n",
       "      <th>0</th>\n",
       "      <td>1</td>\n",
       "      <td>Ace</td>\n",
       "    </tr>\n",
       "    <tr>\n",
       "      <th>1</th>\n",
       "      <td>2</td>\n",
       "      <td>Ace Book</td>\n",
       "    </tr>\n",
       "    <tr>\n",
       "      <th>2</th>\n",
       "      <td>3</td>\n",
       "      <td>Ace Books</td>\n",
       "    </tr>\n",
       "    <tr>\n",
       "      <th>3</th>\n",
       "      <td>4</td>\n",
       "      <td>Ace Hardcover</td>\n",
       "    </tr>\n",
       "    <tr>\n",
       "      <th>4</th>\n",
       "      <td>5</td>\n",
       "      <td>Addison Wesley Publishing Company</td>\n",
       "    </tr>\n",
       "  </tbody>\n",
       "</table>\n",
       "</div>"
      ],
      "text/plain": [
       "   publisher_id                          publisher\n",
       "0             1                                Ace\n",
       "1             2                           Ace Book\n",
       "2             3                          Ace Books\n",
       "3             4                      Ace Hardcover\n",
       "4             5  Addison Wesley Publishing Company"
      ]
     },
     "execution_count": 5,
     "metadata": {},
     "output_type": "execute_result"
    }
   ],
   "source": [
    "query_publishers = 'SELECT * FROM publishers LIMIT 5'\n",
    "df_publishers = pd.read_sql(query_publishers, con=engine)\n",
    "duplicates_publishers = df_publishers.duplicated()\n",
    "if duplicates_publishers.any():\n",
    "    print(\"Hay duplicados\")\n",
    "    df_publishers[duplicates_publishers]\n",
    "else:\n",
    "    print(\"No se encontraron valores duplicados\")\n",
    "missing_values_publishers = df_publishers.isnull().sum()\n",
    "if missing_values_publishers.any():\n",
    "    print(\"Se encontraron valores ausentes\")\n",
    "    missing_values_publishers[missing_values_publishers > 0]\n",
    "else:\n",
    "    print(\"No se encontraron valores ausentes\")\n",
    "df_publishers"
   ]
  },
  {
   "cell_type": "markdown",
   "metadata": {},
   "source": [
    "### Análisis de la tabla 'ratings'"
   ]
  },
  {
   "cell_type": "code",
   "execution_count": 15,
   "metadata": {},
   "outputs": [
    {
     "name": "stdout",
     "output_type": "stream",
     "text": [
      "No se encontraron valores duplicados\n",
      "No se encontraron valores ausentes\n"
     ]
    },
    {
     "data": {
      "text/html": [
       "<div>\n",
       "<style scoped>\n",
       "    .dataframe tbody tr th:only-of-type {\n",
       "        vertical-align: middle;\n",
       "    }\n",
       "\n",
       "    .dataframe tbody tr th {\n",
       "        vertical-align: top;\n",
       "    }\n",
       "\n",
       "    .dataframe thead th {\n",
       "        text-align: right;\n",
       "    }\n",
       "</style>\n",
       "<table border=\"1\" class=\"dataframe\">\n",
       "  <thead>\n",
       "    <tr style=\"text-align: right;\">\n",
       "      <th></th>\n",
       "      <th>rating_id</th>\n",
       "      <th>book_id</th>\n",
       "      <th>username</th>\n",
       "      <th>rating</th>\n",
       "    </tr>\n",
       "  </thead>\n",
       "  <tbody>\n",
       "    <tr>\n",
       "      <th>0</th>\n",
       "      <td>1</td>\n",
       "      <td>1</td>\n",
       "      <td>ryanfranco</td>\n",
       "      <td>4</td>\n",
       "    </tr>\n",
       "    <tr>\n",
       "      <th>1</th>\n",
       "      <td>2</td>\n",
       "      <td>1</td>\n",
       "      <td>grantpatricia</td>\n",
       "      <td>2</td>\n",
       "    </tr>\n",
       "    <tr>\n",
       "      <th>2</th>\n",
       "      <td>3</td>\n",
       "      <td>1</td>\n",
       "      <td>brandtandrea</td>\n",
       "      <td>5</td>\n",
       "    </tr>\n",
       "    <tr>\n",
       "      <th>3</th>\n",
       "      <td>4</td>\n",
       "      <td>2</td>\n",
       "      <td>lorichen</td>\n",
       "      <td>3</td>\n",
       "    </tr>\n",
       "    <tr>\n",
       "      <th>4</th>\n",
       "      <td>5</td>\n",
       "      <td>2</td>\n",
       "      <td>mariokeller</td>\n",
       "      <td>2</td>\n",
       "    </tr>\n",
       "  </tbody>\n",
       "</table>\n",
       "</div>"
      ],
      "text/plain": [
       "   rating_id  book_id       username  rating\n",
       "0          1        1     ryanfranco       4\n",
       "1          2        1  grantpatricia       2\n",
       "2          3        1   brandtandrea       5\n",
       "3          4        2       lorichen       3\n",
       "4          5        2    mariokeller       2"
      ]
     },
     "execution_count": 15,
     "metadata": {},
     "output_type": "execute_result"
    }
   ],
   "source": [
    "query_ratings = 'SELECT * FROM ratings LIMIT 5'\n",
    "df_ratings = pd.read_sql(query_ratings, con=engine)\n",
    "duplicates_ratings = df_ratings.duplicated()\n",
    "if duplicates_ratings.any():\n",
    "    print(\"Hay duplicados\")\n",
    "    df_ratings[duplicates_ratings]\n",
    "else:\n",
    "    print(\"No se encontraron valores duplicados\")\n",
    "missing_values_ratings = df_ratings.isnull().sum()\n",
    "if missing_values_ratings.any():\n",
    "    print(\"Se encontraron valores ausentes\")\n",
    "    missing_values_ratings[missing_values_ratings > 0]\n",
    "else:\n",
    "    print(\"No se encontraron valores ausentes\")\n",
    "df_ratings"
   ]
  },
  {
   "cell_type": "markdown",
   "metadata": {},
   "source": [
    "### Análisis de la tabla 'reviews'"
   ]
  },
  {
   "cell_type": "code",
   "execution_count": 16,
   "metadata": {},
   "outputs": [
    {
     "name": "stdout",
     "output_type": "stream",
     "text": [
      "No se encontraron valores duplicados\n",
      "No se encontraron valores ausentes\n"
     ]
    },
    {
     "data": {
      "text/html": [
       "<div>\n",
       "<style scoped>\n",
       "    .dataframe tbody tr th:only-of-type {\n",
       "        vertical-align: middle;\n",
       "    }\n",
       "\n",
       "    .dataframe tbody tr th {\n",
       "        vertical-align: top;\n",
       "    }\n",
       "\n",
       "    .dataframe thead th {\n",
       "        text-align: right;\n",
       "    }\n",
       "</style>\n",
       "<table border=\"1\" class=\"dataframe\">\n",
       "  <thead>\n",
       "    <tr style=\"text-align: right;\">\n",
       "      <th></th>\n",
       "      <th>review_id</th>\n",
       "      <th>book_id</th>\n",
       "      <th>username</th>\n",
       "      <th>text</th>\n",
       "    </tr>\n",
       "  </thead>\n",
       "  <tbody>\n",
       "    <tr>\n",
       "      <th>0</th>\n",
       "      <td>1</td>\n",
       "      <td>1</td>\n",
       "      <td>brandtandrea</td>\n",
       "      <td>Mention society tell send professor analysis. ...</td>\n",
       "    </tr>\n",
       "    <tr>\n",
       "      <th>1</th>\n",
       "      <td>2</td>\n",
       "      <td>1</td>\n",
       "      <td>ryanfranco</td>\n",
       "      <td>Foot glass pretty audience hit themselves. Amo...</td>\n",
       "    </tr>\n",
       "    <tr>\n",
       "      <th>2</th>\n",
       "      <td>3</td>\n",
       "      <td>2</td>\n",
       "      <td>lorichen</td>\n",
       "      <td>Listen treat keep worry. Miss husband tax but ...</td>\n",
       "    </tr>\n",
       "    <tr>\n",
       "      <th>3</th>\n",
       "      <td>4</td>\n",
       "      <td>3</td>\n",
       "      <td>johnsonamanda</td>\n",
       "      <td>Finally month interesting blue could nature cu...</td>\n",
       "    </tr>\n",
       "    <tr>\n",
       "      <th>4</th>\n",
       "      <td>5</td>\n",
       "      <td>3</td>\n",
       "      <td>scotttamara</td>\n",
       "      <td>Nation purpose heavy give wait song will. List...</td>\n",
       "    </tr>\n",
       "  </tbody>\n",
       "</table>\n",
       "</div>"
      ],
      "text/plain": [
       "   review_id  book_id       username  \\\n",
       "0          1        1   brandtandrea   \n",
       "1          2        1     ryanfranco   \n",
       "2          3        2       lorichen   \n",
       "3          4        3  johnsonamanda   \n",
       "4          5        3    scotttamara   \n",
       "\n",
       "                                                text  \n",
       "0  Mention society tell send professor analysis. ...  \n",
       "1  Foot glass pretty audience hit themselves. Amo...  \n",
       "2  Listen treat keep worry. Miss husband tax but ...  \n",
       "3  Finally month interesting blue could nature cu...  \n",
       "4  Nation purpose heavy give wait song will. List...  "
      ]
     },
     "execution_count": 16,
     "metadata": {},
     "output_type": "execute_result"
    }
   ],
   "source": [
    "query_reviews = 'SELECT * FROM reviews LIMIT 5'\n",
    "df_reviews = pd.read_sql(query_reviews, con=engine)\n",
    "duplicates_reviews = df_reviews.duplicated()\n",
    "if duplicates_reviews.any():\n",
    "    print(\"Hay duplicados \")\n",
    "    df_reviews[duplicates_reviews]\n",
    "else:\n",
    "    print(\"No se encontraron valores duplicados\")\n",
    "missing_values_reviews = df_reviews.isnull().sum()\n",
    "if missing_values_reviews.any():\n",
    "    print(\"Se encontraron valores ausentes\")\n",
    "    missing_values_reviews[missing_values_reviews > 0]\n",
    "else:\n",
    "    print(\"No se encontraron valores ausentes\")\n",
    "df_reviews"
   ]
  },
  {
   "cell_type": "markdown",
   "metadata": {},
   "source": [
    "## Consultas SQL"
   ]
  },
  {
   "cell_type": "code",
   "execution_count": 8,
   "metadata": {},
   "outputs": [],
   "source": [
    "def sql_query(query):\n",
    "    return pd.io.sql.read_sql(query, con = engine)"
   ]
  },
  {
   "cell_type": "markdown",
   "metadata": {},
   "source": [
    "### Encuentra el número de libros publicados después del 1 de enero de 2000."
   ]
  },
  {
   "cell_type": "code",
   "execution_count": 9,
   "metadata": {},
   "outputs": [
    {
     "data": {
      "text/html": [
       "<div>\n",
       "<style scoped>\n",
       "    .dataframe tbody tr th:only-of-type {\n",
       "        vertical-align: middle;\n",
       "    }\n",
       "\n",
       "    .dataframe tbody tr th {\n",
       "        vertical-align: top;\n",
       "    }\n",
       "\n",
       "    .dataframe thead th {\n",
       "        text-align: right;\n",
       "    }\n",
       "</style>\n",
       "<table border=\"1\" class=\"dataframe\">\n",
       "  <thead>\n",
       "    <tr style=\"text-align: right;\">\n",
       "      <th></th>\n",
       "      <th>total_book_count</th>\n",
       "      <th>book_count_after_date</th>\n",
       "    </tr>\n",
       "  </thead>\n",
       "  <tbody>\n",
       "    <tr>\n",
       "      <th>0</th>\n",
       "      <td>1000</td>\n",
       "      <td>819</td>\n",
       "    </tr>\n",
       "  </tbody>\n",
       "</table>\n",
       "</div>"
      ],
      "text/plain": [
       "   total_book_count  book_count_after_date\n",
       "0              1000                    819"
      ]
     },
     "execution_count": 9,
     "metadata": {},
     "output_type": "execute_result"
    }
   ],
   "source": [
    "query1= '''\n",
    "SELECT\n",
    "    (SELECT COUNT(*) FROM books) AS total_book_count,\n",
    "    COUNT(*) AS book_count_after_date\n",
    "FROM\n",
    "    books\n",
    "WHERE\n",
    "    publication_date > '2000-01-01';\n",
    "\n",
    "    '''\n",
    "\n",
    "sql_query(query1)"
   ]
  },
  {
   "cell_type": "markdown",
   "metadata": {},
   "source": [
    "Un análisis de 1000 libros revela que el 81,9% de ellos, es decir, 819 libros, fueron publicados después del 1 de enero de 2000. Esto muestra una tendencia clara hacia las publicaciones más recientes."
   ]
  },
  {
   "cell_type": "markdown",
   "metadata": {},
   "source": [
    "### Encuentra el número de reseñas de usuarios y la calificación promedio para cada libro."
   ]
  },
  {
   "cell_type": "code",
   "execution_count": 23,
   "metadata": {},
   "outputs": [
    {
     "data": {
      "text/html": [
       "<div>\n",
       "<style scoped>\n",
       "    .dataframe tbody tr th:only-of-type {\n",
       "        vertical-align: middle;\n",
       "    }\n",
       "\n",
       "    .dataframe tbody tr th {\n",
       "        vertical-align: top;\n",
       "    }\n",
       "\n",
       "    .dataframe thead th {\n",
       "        text-align: right;\n",
       "    }\n",
       "</style>\n",
       "<table border=\"1\" class=\"dataframe\">\n",
       "  <thead>\n",
       "    <tr style=\"text-align: right;\">\n",
       "      <th></th>\n",
       "      <th>book_title</th>\n",
       "      <th>reviews_count</th>\n",
       "      <th>average_rating</th>\n",
       "    </tr>\n",
       "  </thead>\n",
       "  <tbody>\n",
       "    <tr>\n",
       "      <th>0</th>\n",
       "      <td>Memoirs of a Geisha</td>\n",
       "      <td>8</td>\n",
       "      <td>4.138462</td>\n",
       "    </tr>\n",
       "    <tr>\n",
       "      <th>1</th>\n",
       "      <td>Twilight (Twilight  #1)</td>\n",
       "      <td>7</td>\n",
       "      <td>3.662500</td>\n",
       "    </tr>\n",
       "    <tr>\n",
       "      <th>2</th>\n",
       "      <td>Harry Potter and the Prisoner of Azkaban (Harr...</td>\n",
       "      <td>6</td>\n",
       "      <td>4.414634</td>\n",
       "    </tr>\n",
       "    <tr>\n",
       "      <th>3</th>\n",
       "      <td>Harry Potter and the Chamber of Secrets (Harry...</td>\n",
       "      <td>6</td>\n",
       "      <td>4.287500</td>\n",
       "    </tr>\n",
       "    <tr>\n",
       "      <th>4</th>\n",
       "      <td>The Book Thief</td>\n",
       "      <td>6</td>\n",
       "      <td>4.264151</td>\n",
       "    </tr>\n",
       "    <tr>\n",
       "      <th>...</th>\n",
       "      <td>...</td>\n",
       "      <td>...</td>\n",
       "      <td>...</td>\n",
       "    </tr>\n",
       "    <tr>\n",
       "      <th>994</th>\n",
       "      <td>Disney's Beauty and the Beast (A Little Golden...</td>\n",
       "      <td>0</td>\n",
       "      <td>4.000000</td>\n",
       "    </tr>\n",
       "    <tr>\n",
       "      <th>995</th>\n",
       "      <td>Essential Tales and Poems</td>\n",
       "      <td>0</td>\n",
       "      <td>4.000000</td>\n",
       "    </tr>\n",
       "    <tr>\n",
       "      <th>996</th>\n",
       "      <td>Leonardo's Notebooks</td>\n",
       "      <td>0</td>\n",
       "      <td>4.000000</td>\n",
       "    </tr>\n",
       "    <tr>\n",
       "      <th>997</th>\n",
       "      <td>Anne Rice's The Vampire Lestat: A Graphic Novel</td>\n",
       "      <td>0</td>\n",
       "      <td>3.666667</td>\n",
       "    </tr>\n",
       "    <tr>\n",
       "      <th>998</th>\n",
       "      <td>The Natural Way to Draw</td>\n",
       "      <td>0</td>\n",
       "      <td>3.000000</td>\n",
       "    </tr>\n",
       "  </tbody>\n",
       "</table>\n",
       "<p>999 rows × 3 columns</p>\n",
       "</div>"
      ],
      "text/plain": [
       "                                            book_title  reviews_count  \\\n",
       "0                                  Memoirs of a Geisha              8   \n",
       "1                              Twilight (Twilight  #1)              7   \n",
       "2    Harry Potter and the Prisoner of Azkaban (Harr...              6   \n",
       "3    Harry Potter and the Chamber of Secrets (Harry...              6   \n",
       "4                                       The Book Thief              6   \n",
       "..                                                 ...            ...   \n",
       "994  Disney's Beauty and the Beast (A Little Golden...              0   \n",
       "995                          Essential Tales and Poems              0   \n",
       "996                               Leonardo's Notebooks              0   \n",
       "997    Anne Rice's The Vampire Lestat: A Graphic Novel              0   \n",
       "998                            The Natural Way to Draw              0   \n",
       "\n",
       "     average_rating  \n",
       "0          4.138462  \n",
       "1          3.662500  \n",
       "2          4.414634  \n",
       "3          4.287500  \n",
       "4          4.264151  \n",
       "..              ...  \n",
       "994        4.000000  \n",
       "995        4.000000  \n",
       "996        4.000000  \n",
       "997        3.666667  \n",
       "998        3.000000  \n",
       "\n",
       "[999 rows x 3 columns]"
      ]
     },
     "execution_count": 23,
     "metadata": {},
     "output_type": "execute_result"
    }
   ],
   "source": [
    "query2 = '''\n",
    "SELECT \n",
    "    books.title AS book_title, \n",
    "    COUNT(DISTINCT reviews.review_id) AS reviews_count,\n",
    "    AVG(ratings.rating) AS average_rating\n",
    "FROM \n",
    "    books\n",
    "LEFT JOIN \n",
    "    reviews ON books.book_id = reviews.book_id\n",
    "LEFT JOIN \n",
    "    ratings ON books.book_id = ratings.book_id\n",
    "GROUP BY \n",
    "    books.title\n",
    "ORDER BY \n",
    "    reviews_count DESC, \n",
    "    average_rating DESC;\n",
    "\n",
    "\n",
    "'''\n",
    "\n",
    "sql_query(query2)\n"
   ]
  },
  {
   "cell_type": "markdown",
   "metadata": {},
   "source": [
    "Se observan algunos patrones interesantes. 'Memorias de una geisha' lidera con 8 reseñas y una calificación promedio de 4.13, lo que refleja su popularidad . 'Crepúsculo (Crepúsculo #1)' le sigue con 7 reseñas, pero con una calificación más baja de 3.6.\n",
    "\n",
    "Los libros de 'Harry Potter', cada uno con 6 reseñas, destacan con calificaciones consistentemente altas, superiores a 4.1, lo que subraya su continua popularidad . 'La ladrona de libros' también cuenta con 6 reseñas y una alta calificación promedio de 4.26, consolidando su reputación como una obra literaria reconocida.\n"
   ]
  },
  {
   "cell_type": "markdown",
   "metadata": {},
   "source": [
    "### Identifica la editorial que ha publicado el mayor número de libros con más de 50 páginas (esto te ayudará a excluir folletos y publicaciones similares de tu análisis)."
   ]
  },
  {
   "cell_type": "code",
   "execution_count": 25,
   "metadata": {},
   "outputs": [
    {
     "data": {
      "text/html": [
       "<div>\n",
       "<style scoped>\n",
       "    .dataframe tbody tr th:only-of-type {\n",
       "        vertical-align: middle;\n",
       "    }\n",
       "\n",
       "    .dataframe tbody tr th {\n",
       "        vertical-align: top;\n",
       "    }\n",
       "\n",
       "    .dataframe thead th {\n",
       "        text-align: right;\n",
       "    }\n",
       "</style>\n",
       "<table border=\"1\" class=\"dataframe\">\n",
       "  <thead>\n",
       "    <tr style=\"text-align: right;\">\n",
       "      <th></th>\n",
       "      <th>publisher</th>\n",
       "      <th>books_count</th>\n",
       "    </tr>\n",
       "  </thead>\n",
       "  <tbody>\n",
       "    <tr>\n",
       "      <th>0</th>\n",
       "      <td>Penguin Books</td>\n",
       "      <td>42</td>\n",
       "    </tr>\n",
       "  </tbody>\n",
       "</table>\n",
       "</div>"
      ],
      "text/plain": [
       "       publisher  books_count\n",
       "0  Penguin Books           42"
      ]
     },
     "execution_count": 25,
     "metadata": {},
     "output_type": "execute_result"
    }
   ],
   "source": [
    "query3 = '''\n",
    "\n",
    "SELECT \n",
    "    publishers.publisher, \n",
    "    COUNT(books.book_id) AS books_count\n",
    "FROM \n",
    "    books\n",
    "JOIN \n",
    "    publishers ON books.publisher_id = publishers.publisher_id\n",
    "WHERE \n",
    "    books.num_pages > 50\n",
    "GROUP BY \n",
    "    publishers.publisher\n",
    "ORDER BY \n",
    "    books_count DESC\n",
    "LIMIT 1;\n",
    "\n",
    "'''\n",
    "\n",
    "sql_query(query3)"
   ]
  },
  {
   "cell_type": "markdown",
   "metadata": {},
   "source": [
    "Editorial 'Penguin Books' destaca notablemente.Tiene una colección diversa de 42 libros cautivadores, cada uno con más de 50 páginas. "
   ]
  },
  {
   "cell_type": "markdown",
   "metadata": {},
   "source": [
    "### Identifica al autor que tiene la más alta calificación promedio del libro: mira solo los libros con al menos 50 calificaciones."
   ]
  },
  {
   "cell_type": "code",
   "execution_count": 26,
   "metadata": {},
   "outputs": [
    {
     "data": {
      "text/html": [
       "<div>\n",
       "<style scoped>\n",
       "    .dataframe tbody tr th:only-of-type {\n",
       "        vertical-align: middle;\n",
       "    }\n",
       "\n",
       "    .dataframe tbody tr th {\n",
       "        vertical-align: top;\n",
       "    }\n",
       "\n",
       "    .dataframe thead th {\n",
       "        text-align: right;\n",
       "    }\n",
       "</style>\n",
       "<table border=\"1\" class=\"dataframe\">\n",
       "  <thead>\n",
       "    <tr style=\"text-align: right;\">\n",
       "      <th></th>\n",
       "      <th>author</th>\n",
       "      <th>average_rating</th>\n",
       "    </tr>\n",
       "  </thead>\n",
       "  <tbody>\n",
       "    <tr>\n",
       "      <th>0</th>\n",
       "      <td>J.K. Rowling/Mary GrandPré</td>\n",
       "      <td>4.288462</td>\n",
       "    </tr>\n",
       "  </tbody>\n",
       "</table>\n",
       "</div>"
      ],
      "text/plain": [
       "                       author  average_rating\n",
       "0  J.K. Rowling/Mary GrandPré        4.288462"
      ]
     },
     "execution_count": 26,
     "metadata": {},
     "output_type": "execute_result"
    }
   ],
   "source": [
    "query4 = '''\n",
    "SELECT \n",
    "    authors.author, \n",
    "    AVG(ratings.rating) AS average_rating\n",
    "FROM \n",
    "    books\n",
    "JOIN \n",
    "    authors ON books.author_id = authors.author_id\n",
    "JOIN \n",
    "    ratings ON books.book_id = ratings.book_id\n",
    "GROUP BY \n",
    "    authors.author\n",
    "HAVING \n",
    "    COUNT(ratings.rating) > 50\n",
    "ORDER BY \n",
    "    average_rating DESC\n",
    "LIMIT 1;\n",
    "\n",
    "\n",
    "'''\n",
    "sql_query(query4)"
   ]
  },
  {
   "cell_type": "markdown",
   "metadata": {},
   "source": [
    "El autor con la calificación promedio más alta, el dúo de J.K. Rowling y la ilustradora Mary GrandPré, el equipo detrás de la popular serie de Harry Potter, se lleva la corona. Han recibido una increíble calificación promedio de aproximadamente 4.3 estrellas."
   ]
  },
  {
   "cell_type": "markdown",
   "metadata": {},
   "source": [
    "### Encuentra el número promedio de reseñas de texto entre los usuarios que calificaron más de 50 libros."
   ]
  },
  {
   "cell_type": "code",
   "execution_count": 20,
   "metadata": {},
   "outputs": [
    {
     "data": {
      "text/html": [
       "<div>\n",
       "<style scoped>\n",
       "    .dataframe tbody tr th:only-of-type {\n",
       "        vertical-align: middle;\n",
       "    }\n",
       "\n",
       "    .dataframe tbody tr th {\n",
       "        vertical-align: top;\n",
       "    }\n",
       "\n",
       "    .dataframe thead th {\n",
       "        text-align: right;\n",
       "    }\n",
       "</style>\n",
       "<table border=\"1\" class=\"dataframe\">\n",
       "  <thead>\n",
       "    <tr style=\"text-align: right;\">\n",
       "      <th></th>\n",
       "      <th>average_text_reviews</th>\n",
       "    </tr>\n",
       "  </thead>\n",
       "  <tbody>\n",
       "    <tr>\n",
       "      <th>0</th>\n",
       "      <td>24.333333</td>\n",
       "    </tr>\n",
       "  </tbody>\n",
       "</table>\n",
       "</div>"
      ],
      "text/plain": [
       "   average_text_reviews\n",
       "0             24.333333"
      ]
     },
     "execution_count": 20,
     "metadata": {},
     "output_type": "execute_result"
    }
   ],
   "source": [
    "query5 = '''\n",
    "SELECT \n",
    "    AVG(review_count) AS average_text_reviews\n",
    "FROM (\n",
    "    SELECT \n",
    "        r.username, \n",
    "        COUNT(r.review_id) AS review_count\n",
    "    FROM \n",
    "        ratings ra\n",
    "    JOIN \n",
    "        reviews r ON ra.book_id = r.book_id AND ra.username = r.username\n",
    "    WHERE \n",
    "        ra.username IN (\n",
    "            SELECT \n",
    "                username\n",
    "            FROM \n",
    "                ratings\n",
    "            GROUP BY \n",
    "                username\n",
    "            HAVING \n",
    "                COUNT(book_id) > 50\n",
    "        )\n",
    "    GROUP BY \n",
    "        r.username\n",
    ") AS subquery;\n",
    "\n",
    "'''\n",
    "sql_query(query5)"
   ]
  },
  {
   "cell_type": "markdown",
   "metadata": {},
   "source": [
    "El número promedio de reseñas escritas entre los usuarios que han calificado más de 50 libros es de aproximadamente 24.33. Estos usuarios estan comprometidos en proporcionar activamente comentarios detallados y reseñas para una cantidad significativa de libros que han calificado."
   ]
  },
  {
   "cell_type": "markdown",
   "metadata": {},
   "source": [
    "## Conclusiones"
   ]
  },
  {
   "cell_type": "markdown",
   "metadata": {},
   "source": [
    "En nuestro estudio sobre el impacto del coronavirus en la industria del libro, descubrimos que los lectores están muy interesados en nuevos títulos, lo que sugiere que cualquier nuevo producto o servicio debería centrarse en ofrecer libros frescos. También observamos que algunos libros, como 'Crepúsculo', generan opiniones divididas entre los lectores, lo que destaca la importancia de entender mejor sus preferencias a través de la recopilación de más comentarios.\n",
    "\n",
    "La magia de 'Harry Potter' sigue siendo innegable, con una base de fans dedicada y altas calificaciones constantes. Esto indica que, para atraer a los lectores, debemos crear narrativas cautivadoras y mundos inmersivos. Además, 'Penguin Books' se destaca por su habilidad para seleccionar títulos atractivos, lo que sugiere que debemos enfocarnos en la calidad, diversidad y contenido interesante para lograr el éxito.\n",
    "\n",
    "Finalmente, notamos que hay usuarios muy comprometidos que escriben reseñas detalladas y comparten su amor por los libros. Es importante fomentar esta pasión creando una comunidad donde puedan conectarse, discutir y personalizar sus recomendaciones. Estas ideas son esenciales para desarrollar un producto o servicio que los entusiastas de los libros adorarán."
   ]
  }
 ],
 "metadata": {
  "ExecuteTimeLog": [
   {
    "duration": 800,
    "start_time": "2024-07-15T15:29:09.859Z"
   },
   {
    "duration": 6357,
    "start_time": "2024-07-15T15:29:21.362Z"
   },
   {
    "duration": 18,
    "start_time": "2024-07-15T16:43:25.750Z"
   },
   {
    "duration": 6,
    "start_time": "2024-07-15T16:43:45.197Z"
   },
   {
    "duration": 639,
    "start_time": "2024-07-15T16:54:51.347Z"
   },
   {
    "duration": 6350,
    "start_time": "2024-07-15T16:55:16.419Z"
   },
   {
    "duration": 4265,
    "start_time": "2024-07-15T16:55:46.323Z"
   },
   {
    "duration": 3,
    "start_time": "2024-07-15T16:59:54.896Z"
   },
   {
    "duration": 653,
    "start_time": "2024-07-15T18:17:10.702Z"
   },
   {
    "duration": 55,
    "start_time": "2024-07-15T18:17:11.360Z"
   },
   {
    "duration": 5843,
    "start_time": "2024-07-15T18:17:11.418Z"
   },
   {
    "duration": 786,
    "start_time": "2024-07-15T18:35:31.224Z"
   },
   {
    "duration": 785,
    "start_time": "2024-07-15T18:35:41.273Z"
   },
   {
    "duration": 389,
    "start_time": "2024-07-15T21:16:25.767Z"
   },
   {
    "duration": 606,
    "start_time": "2024-07-15T21:16:33.796Z"
   },
   {
    "duration": 55,
    "start_time": "2024-07-15T21:16:34.409Z"
   },
   {
    "duration": 2710,
    "start_time": "2024-07-15T21:16:34.470Z"
   },
   {
    "duration": 3126,
    "start_time": "2024-07-15T21:16:37.183Z"
   },
   {
    "duration": 784,
    "start_time": "2024-07-15T21:16:58.642Z"
   },
   {
    "duration": 786,
    "start_time": "2024-07-15T21:18:42.147Z"
   },
   {
    "duration": 781,
    "start_time": "2024-07-15T21:19:20.629Z"
   },
   {
    "duration": 787,
    "start_time": "2024-07-15T21:20:09.739Z"
   },
   {
    "duration": 784,
    "start_time": "2024-07-15T21:20:15.892Z"
   },
   {
    "duration": 785,
    "start_time": "2024-07-15T21:24:27.608Z"
   },
   {
    "duration": 785,
    "start_time": "2024-07-15T21:24:31.704Z"
   },
   {
    "duration": 789,
    "start_time": "2024-07-15T21:24:34.994Z"
   },
   {
    "duration": 783,
    "start_time": "2024-07-15T21:24:35.786Z"
   },
   {
    "duration": 785,
    "start_time": "2024-07-15T21:24:36.572Z"
   },
   {
    "duration": 783,
    "start_time": "2024-07-15T21:24:43.145Z"
   },
   {
    "duration": 783,
    "start_time": "2024-07-15T21:24:43.931Z"
   },
   {
    "duration": 781,
    "start_time": "2024-07-15T21:24:44.717Z"
   },
   {
    "duration": 782,
    "start_time": "2024-07-15T21:24:45.502Z"
   },
   {
    "duration": 784,
    "start_time": "2024-07-15T21:24:46.287Z"
   },
   {
    "duration": 779,
    "start_time": "2024-07-15T21:25:23.628Z"
   },
   {
    "duration": 782,
    "start_time": "2024-07-15T21:25:41.194Z"
   },
   {
    "duration": 782,
    "start_time": "2024-07-15T21:26:42.629Z"
   },
   {
    "duration": 784,
    "start_time": "2024-07-15T21:27:25.996Z"
   },
   {
    "duration": 785,
    "start_time": "2024-07-15T21:28:11.886Z"
   },
   {
    "duration": 783,
    "start_time": "2024-07-15T21:28:39.555Z"
   },
   {
    "duration": 5,
    "start_time": "2024-07-15T21:31:00.413Z"
   },
   {
    "duration": 775,
    "start_time": "2024-07-15T21:31:21.711Z"
   },
   {
    "duration": 1061,
    "start_time": "2024-07-15T21:31:36.128Z"
   },
   {
    "duration": 774,
    "start_time": "2024-07-15T21:31:54.588Z"
   },
   {
    "duration": 777,
    "start_time": "2024-07-15T21:32:24.617Z"
   },
   {
    "duration": 779,
    "start_time": "2024-07-15T21:32:57.973Z"
   },
   {
    "duration": 782,
    "start_time": "2024-07-15T21:58:44.278Z"
   },
   {
    "duration": 781,
    "start_time": "2024-07-15T22:00:21.382Z"
   },
   {
    "duration": 780,
    "start_time": "2024-07-15T22:00:33.575Z"
   },
   {
    "duration": 4,
    "start_time": "2024-07-15T22:00:46.459Z"
   },
   {
    "duration": 8,
    "start_time": "2024-07-15T22:00:48.050Z"
   },
   {
    "duration": 2733,
    "start_time": "2024-07-15T22:00:48.956Z"
   },
   {
    "duration": 782,
    "start_time": "2024-07-15T22:01:05.756Z"
   },
   {
    "duration": 782,
    "start_time": "2024-07-15T22:03:09.776Z"
   },
   {
    "duration": 789,
    "start_time": "2024-07-15T22:03:22.310Z"
   },
   {
    "duration": 785,
    "start_time": "2024-07-15T22:05:06.432Z"
   },
   {
    "duration": 792,
    "start_time": "2024-07-15T22:06:21.018Z"
   },
   {
    "duration": 367,
    "start_time": "2024-07-15T22:07:58.659Z"
   },
   {
    "duration": 4,
    "start_time": "2024-07-15T22:08:03.840Z"
   },
   {
    "duration": 775,
    "start_time": "2024-07-15T22:08:04.655Z"
   },
   {
    "duration": 590,
    "start_time": "2024-07-16T01:06:49.914Z"
   },
   {
    "duration": 111,
    "start_time": "2024-07-16T01:06:50.508Z"
   },
   {
    "duration": 2863,
    "start_time": "2024-07-16T01:06:50.621Z"
   },
   {
    "duration": 814,
    "start_time": "2024-07-16T01:06:53.490Z"
   },
   {
    "duration": 814,
    "start_time": "2024-07-16T01:06:54.307Z"
   },
   {
    "duration": 815,
    "start_time": "2024-07-16T01:06:55.125Z"
   },
   {
    "duration": 817,
    "start_time": "2024-07-16T01:06:55.943Z"
   },
   {
    "duration": 4,
    "start_time": "2024-07-16T01:06:56.763Z"
   },
   {
    "duration": 809,
    "start_time": "2024-07-16T01:06:56.771Z"
   },
   {
    "duration": 371,
    "start_time": "2024-07-16T01:06:57.585Z"
   },
   {
    "duration": 0,
    "start_time": "2024-07-16T01:06:57.958Z"
   },
   {
    "duration": 0,
    "start_time": "2024-07-16T01:06:57.961Z"
   },
   {
    "duration": 0,
    "start_time": "2024-07-16T01:06:57.969Z"
   },
   {
    "duration": 1097,
    "start_time": "2024-07-16T01:07:15.814Z"
   },
   {
    "duration": 813,
    "start_time": "2024-07-16T01:07:26.399Z"
   },
   {
    "duration": 811,
    "start_time": "2024-07-16T01:07:35.216Z"
   },
   {
    "duration": 812,
    "start_time": "2024-07-16T01:07:44.290Z"
   },
   {
    "duration": 823,
    "start_time": "2024-07-16T01:08:41.092Z"
   },
   {
    "duration": 815,
    "start_time": "2024-07-16T01:09:02.080Z"
   },
   {
    "duration": 1097,
    "start_time": "2024-07-16T01:33:48.156Z"
   },
   {
    "duration": 808,
    "start_time": "2024-07-16T01:34:53.169Z"
   },
   {
    "duration": 811,
    "start_time": "2024-07-16T01:35:28.459Z"
   },
   {
    "duration": 811,
    "start_time": "2024-07-16T01:35:53.143Z"
   },
   {
    "duration": 1097,
    "start_time": "2024-07-16T01:39:54.581Z"
   },
   {
    "duration": 1101,
    "start_time": "2024-07-16T01:42:12.965Z"
   },
   {
    "duration": 1096,
    "start_time": "2024-07-16T01:42:57.146Z"
   },
   {
    "duration": 807,
    "start_time": "2024-07-16T01:45:02.430Z"
   },
   {
    "duration": 810,
    "start_time": "2024-07-16T01:45:33.932Z"
   },
   {
    "duration": 810,
    "start_time": "2024-07-16T01:47:29.005Z"
   }
  ],
  "kernelspec": {
   "display_name": "Python 3 (ipykernel)",
   "language": "python",
   "name": "python3"
  },
  "language_info": {
   "codemirror_mode": {
    "name": "ipython",
    "version": 3
   },
   "file_extension": ".py",
   "mimetype": "text/x-python",
   "name": "python",
   "nbconvert_exporter": "python",
   "pygments_lexer": "ipython3",
   "version": "3.12.4"
  },
  "toc": {
   "base_numbering": 1,
   "nav_menu": {},
   "number_sections": true,
   "sideBar": true,
   "skip_h1_title": true,
   "title_cell": "Table of Contents",
   "title_sidebar": "Contents",
   "toc_cell": false,
   "toc_position": {
    "height": "calc(100% - 180px)",
    "left": "10px",
    "top": "150px",
    "width": "291.2px"
   },
   "toc_section_display": true,
   "toc_window_display": false
  }
 },
 "nbformat": 4,
 "nbformat_minor": 4
}
